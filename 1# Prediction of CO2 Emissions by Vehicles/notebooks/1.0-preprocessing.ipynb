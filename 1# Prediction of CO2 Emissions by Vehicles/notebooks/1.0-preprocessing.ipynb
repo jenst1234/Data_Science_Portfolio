{
  "cells": [
    {
      "cell_type": "code",
      "execution_count": null,
      "metadata": {
        "colab": {
          "base_uri": "https://localhost:8080/"
        },
        "id": "Yv28xMO3icLY",
        "outputId": "e7ba9208-84b0-45fb-a59a-bb7647170898"
      },
      "outputs": [
        {
          "output_type": "stream",
          "name": "stdout",
          "text": [
            "Drive already mounted at /content/drive; to attempt to forcibly remount, call drive.mount(\"/content/drive\", force_remount=True).\n"
          ]
        }
      ],
      "source": [
        "from google.colab import drive\n",
        "drive.mount('/content/drive')"
      ]
    },
    {
      "cell_type": "markdown",
      "source": [
        "# Import Libraries"
      ],
      "metadata": {
        "id": "28ZYQjIQcSHS"
      }
    },
    {
      "cell_type": "code",
      "execution_count": null,
      "metadata": {
        "id": "zEuDskV_iBjC"
      },
      "outputs": [],
      "source": [
        "import numpy as np\n",
        "import pandas as pd\n",
        "import matplotlib.pyplot as plt\n",
        "%matplotlib inline\n",
        "import seaborn as sns"
      ]
    },
    {
      "cell_type": "markdown",
      "metadata": {
        "id": "ANZlJ7pZhcs0"
      },
      "source": [
        "# Import Dataset\n",
        "\n"
      ]
    },
    {
      "cell_type": "markdown",
      "metadata": {
        "id": "MksHzRGnAW0b"
      },
      "source": [
        "## Import 2021 Dataset"
      ]
    },
    {
      "cell_type": "markdown",
      "source": [
        "This is the original Dataset from 2021"
      ],
      "metadata": {
        "id": "8jam156ZcWka"
      }
    },
    {
      "cell_type": "code",
      "execution_count": null,
      "metadata": {
        "colab": {
          "base_uri": "https://localhost:8080/"
        },
        "id": "X4yXnAbPAbIO",
        "outputId": "55912b54-b753-4c2c-b088-11f2157b5e51"
      },
      "outputs": [
        {
          "output_type": "stream",
          "name": "stderr",
          "text": [
            "<ipython-input-3-3ec0608b1200>:1: DtypeWarning: Columns (2,3,8,12,28,35) have mixed types. Specify dtype option on import or set low_memory=False.\n",
            "  df = pd.read_csv('/content/drive/MyDrive/data_2021_CO2_Project.csv')\n"
          ]
        }
      ],
      "source": [
        "df = pd.read_csv('/content/drive/MyDrive/data_2021_CO2_Project.csv')"
      ]
    },
    {
      "cell_type": "markdown",
      "metadata": {
        "id": "Wk8Kn5UaA7FD"
      },
      "source": [
        "##Reduce Dataset to France only"
      ]
    },
    {
      "cell_type": "code",
      "execution_count": null,
      "metadata": {
        "id": "PFMzupmlBLjZ"
      },
      "outputs": [],
      "source": [
        "# Keep Only Fr observations\n",
        "df = df[df.Country == 'FR']\n"
      ]
    },
    {
      "cell_type": "code",
      "execution_count": null,
      "metadata": {
        "id": "OyPkg2DPBZPF"
      },
      "outputs": [],
      "source": [
        "import shutil #Export Dataset to Drive\n",
        "df.to_csv('/content/data_2021_CO2_Project_Fr.csv', index=False)\n",
        "shutil.move('/content/data_2021_CO2_Project_Fr.csv', '/content/drive/MyDrive/')"
      ]
    },
    {
      "cell_type": "code",
      "execution_count": null,
      "metadata": {
        "id": "Z6aTW_iwh9FH"
      },
      "outputs": [],
      "source": [
        "#df = pd.read_csv('/content/drive/MyDrive/data_2021_CO2_Project_Fr.csv')"
      ]
    },
    {
      "cell_type": "markdown",
      "source": [
        "# Explore Dataset"
      ],
      "metadata": {
        "id": "fkEoeXyNcqk4"
      }
    },
    {
      "cell_type": "code",
      "execution_count": null,
      "metadata": {
        "colab": {
          "base_uri": "https://localhost:8080/",
          "height": 464
        },
        "id": "PGmurt4WiyU-",
        "outputId": "d0711bef-32f0-4a69-f9e0-82b231f9009f"
      },
      "outputs": [
        {
          "output_type": "execute_result",
          "data": {
            "text/plain": [
              "              ID Country                   VFN          Mp          Mh  \\\n",
              "183427  55550000      FR  IP-03_312_0290-ZFA-1  STELLANTIS  FIAT GROUP   \n",
              "183428  55550001      FR  IP-03_312_0290-ZFA-1  STELLANTIS  FIAT GROUP   \n",
              "183429  55550002      FR  IP-03_312_0290-ZFA-1  STELLANTIS  FIAT GROUP   \n",
              "183430  55550003      FR  IP-03_312_0290-ZFA-1  STELLANTIS  FIAT GROUP   \n",
              "183431  55550004      FR  IP-03_312_0208-ZFA-1  STELLANTIS  FIAT GROUP   \n",
              "\n",
              "                  Man  MMS                 Tan    T     Va  ...     IT  \\\n",
              "183427  FCA ITALY SPA  NaN  E3*2007/46*0064*64  312  PYD1B  ...  e3 33   \n",
              "183428  FCA ITALY SPA  NaN  E3*2007/46*0064*64  312  PYD1B  ...  e3 33   \n",
              "183429  FCA ITALY SPA  NaN  E3*2007/46*0064*64  312  PYD1B  ...  e3 33   \n",
              "183430  FCA ITALY SPA  NaN  E3*2007/46*0064*64  312  PYD1B  ...  e3 33   \n",
              "183431  FCA ITALY SPA  NaN  E3*2007/46*0064*57  312  PYD1B  ...    NaN   \n",
              "\n",
              "       Ernedc (g/km) Erwltp (g/km)  De  Vf  Status  year  \\\n",
              "183427           NaN           1.3 NaN NaN       P  2021   \n",
              "183428           NaN           1.3 NaN NaN       P  2021   \n",
              "183429           NaN           1.3 NaN NaN       P  2021   \n",
              "183430           NaN           1.3 NaN NaN       P  2021   \n",
              "183431           NaN           NaN NaN NaN       P  2021   \n",
              "\n",
              "        Date of registration  Fuel consumption   Electric range (km)  \n",
              "183427            2021-12-29                4.9                  NaN  \n",
              "183428            2021-12-30                4.9                  NaN  \n",
              "183429            2021-12-31                4.9                  NaN  \n",
              "183430            2021-12-30                4.9                  NaN  \n",
              "183431            2021-01-26                NaN                  NaN  \n",
              "\n",
              "[5 rows x 38 columns]"
            ],
            "text/html": [
              "\n",
              "  <div id=\"df-ef837088-632b-4172-92d8-23504e5d49c0\" class=\"colab-df-container\">\n",
              "    <div>\n",
              "<style scoped>\n",
              "    .dataframe tbody tr th:only-of-type {\n",
              "        vertical-align: middle;\n",
              "    }\n",
              "\n",
              "    .dataframe tbody tr th {\n",
              "        vertical-align: top;\n",
              "    }\n",
              "\n",
              "    .dataframe thead th {\n",
              "        text-align: right;\n",
              "    }\n",
              "</style>\n",
              "<table border=\"1\" class=\"dataframe\">\n",
              "  <thead>\n",
              "    <tr style=\"text-align: right;\">\n",
              "      <th></th>\n",
              "      <th>ID</th>\n",
              "      <th>Country</th>\n",
              "      <th>VFN</th>\n",
              "      <th>Mp</th>\n",
              "      <th>Mh</th>\n",
              "      <th>Man</th>\n",
              "      <th>MMS</th>\n",
              "      <th>Tan</th>\n",
              "      <th>T</th>\n",
              "      <th>Va</th>\n",
              "      <th>...</th>\n",
              "      <th>IT</th>\n",
              "      <th>Ernedc (g/km)</th>\n",
              "      <th>Erwltp (g/km)</th>\n",
              "      <th>De</th>\n",
              "      <th>Vf</th>\n",
              "      <th>Status</th>\n",
              "      <th>year</th>\n",
              "      <th>Date of registration</th>\n",
              "      <th>Fuel consumption</th>\n",
              "      <th>Electric range (km)</th>\n",
              "    </tr>\n",
              "  </thead>\n",
              "  <tbody>\n",
              "    <tr>\n",
              "      <th>183427</th>\n",
              "      <td>55550000</td>\n",
              "      <td>FR</td>\n",
              "      <td>IP-03_312_0290-ZFA-1</td>\n",
              "      <td>STELLANTIS</td>\n",
              "      <td>FIAT GROUP</td>\n",
              "      <td>FCA ITALY SPA</td>\n",
              "      <td>NaN</td>\n",
              "      <td>E3*2007/46*0064*64</td>\n",
              "      <td>312</td>\n",
              "      <td>PYD1B</td>\n",
              "      <td>...</td>\n",
              "      <td>e3 33</td>\n",
              "      <td>NaN</td>\n",
              "      <td>1.3</td>\n",
              "      <td>NaN</td>\n",
              "      <td>NaN</td>\n",
              "      <td>P</td>\n",
              "      <td>2021</td>\n",
              "      <td>2021-12-29</td>\n",
              "      <td>4.9</td>\n",
              "      <td>NaN</td>\n",
              "    </tr>\n",
              "    <tr>\n",
              "      <th>183428</th>\n",
              "      <td>55550001</td>\n",
              "      <td>FR</td>\n",
              "      <td>IP-03_312_0290-ZFA-1</td>\n",
              "      <td>STELLANTIS</td>\n",
              "      <td>FIAT GROUP</td>\n",
              "      <td>FCA ITALY SPA</td>\n",
              "      <td>NaN</td>\n",
              "      <td>E3*2007/46*0064*64</td>\n",
              "      <td>312</td>\n",
              "      <td>PYD1B</td>\n",
              "      <td>...</td>\n",
              "      <td>e3 33</td>\n",
              "      <td>NaN</td>\n",
              "      <td>1.3</td>\n",
              "      <td>NaN</td>\n",
              "      <td>NaN</td>\n",
              "      <td>P</td>\n",
              "      <td>2021</td>\n",
              "      <td>2021-12-30</td>\n",
              "      <td>4.9</td>\n",
              "      <td>NaN</td>\n",
              "    </tr>\n",
              "    <tr>\n",
              "      <th>183429</th>\n",
              "      <td>55550002</td>\n",
              "      <td>FR</td>\n",
              "      <td>IP-03_312_0290-ZFA-1</td>\n",
              "      <td>STELLANTIS</td>\n",
              "      <td>FIAT GROUP</td>\n",
              "      <td>FCA ITALY SPA</td>\n",
              "      <td>NaN</td>\n",
              "      <td>E3*2007/46*0064*64</td>\n",
              "      <td>312</td>\n",
              "      <td>PYD1B</td>\n",
              "      <td>...</td>\n",
              "      <td>e3 33</td>\n",
              "      <td>NaN</td>\n",
              "      <td>1.3</td>\n",
              "      <td>NaN</td>\n",
              "      <td>NaN</td>\n",
              "      <td>P</td>\n",
              "      <td>2021</td>\n",
              "      <td>2021-12-31</td>\n",
              "      <td>4.9</td>\n",
              "      <td>NaN</td>\n",
              "    </tr>\n",
              "    <tr>\n",
              "      <th>183430</th>\n",
              "      <td>55550003</td>\n",
              "      <td>FR</td>\n",
              "      <td>IP-03_312_0290-ZFA-1</td>\n",
              "      <td>STELLANTIS</td>\n",
              "      <td>FIAT GROUP</td>\n",
              "      <td>FCA ITALY SPA</td>\n",
              "      <td>NaN</td>\n",
              "      <td>E3*2007/46*0064*64</td>\n",
              "      <td>312</td>\n",
              "      <td>PYD1B</td>\n",
              "      <td>...</td>\n",
              "      <td>e3 33</td>\n",
              "      <td>NaN</td>\n",
              "      <td>1.3</td>\n",
              "      <td>NaN</td>\n",
              "      <td>NaN</td>\n",
              "      <td>P</td>\n",
              "      <td>2021</td>\n",
              "      <td>2021-12-30</td>\n",
              "      <td>4.9</td>\n",
              "      <td>NaN</td>\n",
              "    </tr>\n",
              "    <tr>\n",
              "      <th>183431</th>\n",
              "      <td>55550004</td>\n",
              "      <td>FR</td>\n",
              "      <td>IP-03_312_0208-ZFA-1</td>\n",
              "      <td>STELLANTIS</td>\n",
              "      <td>FIAT GROUP</td>\n",
              "      <td>FCA ITALY SPA</td>\n",
              "      <td>NaN</td>\n",
              "      <td>E3*2007/46*0064*57</td>\n",
              "      <td>312</td>\n",
              "      <td>PYD1B</td>\n",
              "      <td>...</td>\n",
              "      <td>NaN</td>\n",
              "      <td>NaN</td>\n",
              "      <td>NaN</td>\n",
              "      <td>NaN</td>\n",
              "      <td>NaN</td>\n",
              "      <td>P</td>\n",
              "      <td>2021</td>\n",
              "      <td>2021-01-26</td>\n",
              "      <td>NaN</td>\n",
              "      <td>NaN</td>\n",
              "    </tr>\n",
              "  </tbody>\n",
              "</table>\n",
              "<p>5 rows × 38 columns</p>\n",
              "</div>\n",
              "    <div class=\"colab-df-buttons\">\n",
              "\n",
              "  <div class=\"colab-df-container\">\n",
              "    <button class=\"colab-df-convert\" onclick=\"convertToInteractive('df-ef837088-632b-4172-92d8-23504e5d49c0')\"\n",
              "            title=\"Convert this dataframe to an interactive table.\"\n",
              "            style=\"display:none;\">\n",
              "\n",
              "  <svg xmlns=\"http://www.w3.org/2000/svg\" height=\"24px\" viewBox=\"0 -960 960 960\">\n",
              "    <path d=\"M120-120v-720h720v720H120Zm60-500h600v-160H180v160Zm220 220h160v-160H400v160Zm0 220h160v-160H400v160ZM180-400h160v-160H180v160Zm440 0h160v-160H620v160ZM180-180h160v-160H180v160Zm440 0h160v-160H620v160Z\"/>\n",
              "  </svg>\n",
              "    </button>\n",
              "\n",
              "  <style>\n",
              "    .colab-df-container {\n",
              "      display:flex;\n",
              "      gap: 12px;\n",
              "    }\n",
              "\n",
              "    .colab-df-convert {\n",
              "      background-color: #E8F0FE;\n",
              "      border: none;\n",
              "      border-radius: 50%;\n",
              "      cursor: pointer;\n",
              "      display: none;\n",
              "      fill: #1967D2;\n",
              "      height: 32px;\n",
              "      padding: 0 0 0 0;\n",
              "      width: 32px;\n",
              "    }\n",
              "\n",
              "    .colab-df-convert:hover {\n",
              "      background-color: #E2EBFA;\n",
              "      box-shadow: 0px 1px 2px rgba(60, 64, 67, 0.3), 0px 1px 3px 1px rgba(60, 64, 67, 0.15);\n",
              "      fill: #174EA6;\n",
              "    }\n",
              "\n",
              "    .colab-df-buttons div {\n",
              "      margin-bottom: 4px;\n",
              "    }\n",
              "\n",
              "    [theme=dark] .colab-df-convert {\n",
              "      background-color: #3B4455;\n",
              "      fill: #D2E3FC;\n",
              "    }\n",
              "\n",
              "    [theme=dark] .colab-df-convert:hover {\n",
              "      background-color: #434B5C;\n",
              "      box-shadow: 0px 1px 3px 1px rgba(0, 0, 0, 0.15);\n",
              "      filter: drop-shadow(0px 1px 2px rgba(0, 0, 0, 0.3));\n",
              "      fill: #FFFFFF;\n",
              "    }\n",
              "  </style>\n",
              "\n",
              "    <script>\n",
              "      const buttonEl =\n",
              "        document.querySelector('#df-ef837088-632b-4172-92d8-23504e5d49c0 button.colab-df-convert');\n",
              "      buttonEl.style.display =\n",
              "        google.colab.kernel.accessAllowed ? 'block' : 'none';\n",
              "\n",
              "      async function convertToInteractive(key) {\n",
              "        const element = document.querySelector('#df-ef837088-632b-4172-92d8-23504e5d49c0');\n",
              "        const dataTable =\n",
              "          await google.colab.kernel.invokeFunction('convertToInteractive',\n",
              "                                                    [key], {});\n",
              "        if (!dataTable) return;\n",
              "\n",
              "        const docLinkHtml = 'Like what you see? Visit the ' +\n",
              "          '<a target=\"_blank\" href=https://colab.research.google.com/notebooks/data_table.ipynb>data table notebook</a>'\n",
              "          + ' to learn more about interactive tables.';\n",
              "        element.innerHTML = '';\n",
              "        dataTable['output_type'] = 'display_data';\n",
              "        await google.colab.output.renderOutput(dataTable, element);\n",
              "        const docLink = document.createElement('div');\n",
              "        docLink.innerHTML = docLinkHtml;\n",
              "        element.appendChild(docLink);\n",
              "      }\n",
              "    </script>\n",
              "  </div>\n",
              "\n",
              "\n",
              "<div id=\"df-9d3313c2-9fc0-4fdb-bf59-84bbfe4135ca\">\n",
              "  <button class=\"colab-df-quickchart\" onclick=\"quickchart('df-9d3313c2-9fc0-4fdb-bf59-84bbfe4135ca')\"\n",
              "            title=\"Suggest charts\"\n",
              "            style=\"display:none;\">\n",
              "\n",
              "<svg xmlns=\"http://www.w3.org/2000/svg\" height=\"24px\"viewBox=\"0 0 24 24\"\n",
              "     width=\"24px\">\n",
              "    <g>\n",
              "        <path d=\"M19 3H5c-1.1 0-2 .9-2 2v14c0 1.1.9 2 2 2h14c1.1 0 2-.9 2-2V5c0-1.1-.9-2-2-2zM9 17H7v-7h2v7zm4 0h-2V7h2v10zm4 0h-2v-4h2v4z\"/>\n",
              "    </g>\n",
              "</svg>\n",
              "  </button>\n",
              "\n",
              "<style>\n",
              "  .colab-df-quickchart {\n",
              "      --bg-color: #E8F0FE;\n",
              "      --fill-color: #1967D2;\n",
              "      --hover-bg-color: #E2EBFA;\n",
              "      --hover-fill-color: #174EA6;\n",
              "      --disabled-fill-color: #AAA;\n",
              "      --disabled-bg-color: #DDD;\n",
              "  }\n",
              "\n",
              "  [theme=dark] .colab-df-quickchart {\n",
              "      --bg-color: #3B4455;\n",
              "      --fill-color: #D2E3FC;\n",
              "      --hover-bg-color: #434B5C;\n",
              "      --hover-fill-color: #FFFFFF;\n",
              "      --disabled-bg-color: #3B4455;\n",
              "      --disabled-fill-color: #666;\n",
              "  }\n",
              "\n",
              "  .colab-df-quickchart {\n",
              "    background-color: var(--bg-color);\n",
              "    border: none;\n",
              "    border-radius: 50%;\n",
              "    cursor: pointer;\n",
              "    display: none;\n",
              "    fill: var(--fill-color);\n",
              "    height: 32px;\n",
              "    padding: 0;\n",
              "    width: 32px;\n",
              "  }\n",
              "\n",
              "  .colab-df-quickchart:hover {\n",
              "    background-color: var(--hover-bg-color);\n",
              "    box-shadow: 0 1px 2px rgba(60, 64, 67, 0.3), 0 1px 3px 1px rgba(60, 64, 67, 0.15);\n",
              "    fill: var(--button-hover-fill-color);\n",
              "  }\n",
              "\n",
              "  .colab-df-quickchart-complete:disabled,\n",
              "  .colab-df-quickchart-complete:disabled:hover {\n",
              "    background-color: var(--disabled-bg-color);\n",
              "    fill: var(--disabled-fill-color);\n",
              "    box-shadow: none;\n",
              "  }\n",
              "\n",
              "  .colab-df-spinner {\n",
              "    border: 2px solid var(--fill-color);\n",
              "    border-color: transparent;\n",
              "    border-bottom-color: var(--fill-color);\n",
              "    animation:\n",
              "      spin 1s steps(1) infinite;\n",
              "  }\n",
              "\n",
              "  @keyframes spin {\n",
              "    0% {\n",
              "      border-color: transparent;\n",
              "      border-bottom-color: var(--fill-color);\n",
              "      border-left-color: var(--fill-color);\n",
              "    }\n",
              "    20% {\n",
              "      border-color: transparent;\n",
              "      border-left-color: var(--fill-color);\n",
              "      border-top-color: var(--fill-color);\n",
              "    }\n",
              "    30% {\n",
              "      border-color: transparent;\n",
              "      border-left-color: var(--fill-color);\n",
              "      border-top-color: var(--fill-color);\n",
              "      border-right-color: var(--fill-color);\n",
              "    }\n",
              "    40% {\n",
              "      border-color: transparent;\n",
              "      border-right-color: var(--fill-color);\n",
              "      border-top-color: var(--fill-color);\n",
              "    }\n",
              "    60% {\n",
              "      border-color: transparent;\n",
              "      border-right-color: var(--fill-color);\n",
              "    }\n",
              "    80% {\n",
              "      border-color: transparent;\n",
              "      border-right-color: var(--fill-color);\n",
              "      border-bottom-color: var(--fill-color);\n",
              "    }\n",
              "    90% {\n",
              "      border-color: transparent;\n",
              "      border-bottom-color: var(--fill-color);\n",
              "    }\n",
              "  }\n",
              "</style>\n",
              "\n",
              "  <script>\n",
              "    async function quickchart(key) {\n",
              "      const quickchartButtonEl =\n",
              "        document.querySelector('#' + key + ' button');\n",
              "      quickchartButtonEl.disabled = true;  // To prevent multiple clicks.\n",
              "      quickchartButtonEl.classList.add('colab-df-spinner');\n",
              "      try {\n",
              "        const charts = await google.colab.kernel.invokeFunction(\n",
              "            'suggestCharts', [key], {});\n",
              "      } catch (error) {\n",
              "        console.error('Error during call to suggestCharts:', error);\n",
              "      }\n",
              "      quickchartButtonEl.classList.remove('colab-df-spinner');\n",
              "      quickchartButtonEl.classList.add('colab-df-quickchart-complete');\n",
              "    }\n",
              "    (() => {\n",
              "      let quickchartButtonEl =\n",
              "        document.querySelector('#df-9d3313c2-9fc0-4fdb-bf59-84bbfe4135ca button');\n",
              "      quickchartButtonEl.style.display =\n",
              "        google.colab.kernel.accessAllowed ? 'block' : 'none';\n",
              "    })();\n",
              "  </script>\n",
              "</div>\n",
              "    </div>\n",
              "  </div>\n"
            ]
          },
          "metadata": {},
          "execution_count": 5
        }
      ],
      "source": [
        "df.head()"
      ]
    },
    {
      "cell_type": "markdown",
      "metadata": {
        "id": "x_dWa-RtnRk4"
      },
      "source": [
        "## Info"
      ]
    },
    {
      "cell_type": "code",
      "execution_count": null,
      "metadata": {
        "colab": {
          "base_uri": "https://localhost:8080/"
        },
        "id": "cHBQn7Xxi59i",
        "outputId": "31cce312-d90a-4499-b578-8415d6ea56dc"
      },
      "outputs": [
        {
          "output_type": "stream",
          "name": "stdout",
          "text": [
            "<class 'pandas.core.frame.DataFrame'>\n",
            "Int64Index: 1777878 entries, 183427 to 7896715\n",
            "Data columns (total 38 columns):\n",
            " #   Column                Dtype  \n",
            "---  ------                -----  \n",
            " 0   ID                    int64  \n",
            " 1   Country               object \n",
            " 2   VFN                   object \n",
            " 3   Mp                    object \n",
            " 4   Mh                    object \n",
            " 5   Man                   object \n",
            " 6   MMS                   float64\n",
            " 7   Tan                   object \n",
            " 8   T                     object \n",
            " 9   Va                    object \n",
            " 10  Ve                    object \n",
            " 11  Mk                    object \n",
            " 12  Cn                    object \n",
            " 13  Ct                    object \n",
            " 14  Cr                    object \n",
            " 15  r                     int64  \n",
            " 16  m (kg)                float64\n",
            " 17  Mt                    float64\n",
            " 18  Enedc (g/km)          float64\n",
            " 19  Ewltp (g/km)          float64\n",
            " 20  W (mm)                float64\n",
            " 21  At1 (mm)              float64\n",
            " 22  At2 (mm)              float64\n",
            " 23  Ft                    object \n",
            " 24  Fm                    object \n",
            " 25  ec (cm3)              float64\n",
            " 26  ep (KW)               float64\n",
            " 27  z (Wh/km)             float64\n",
            " 28  IT                    object \n",
            " 29  Ernedc (g/km)         float64\n",
            " 30  Erwltp (g/km)         float64\n",
            " 31  De                    float64\n",
            " 32  Vf                    float64\n",
            " 33  Status                object \n",
            " 34  year                  int64  \n",
            " 35  Date of registration  object \n",
            " 36  Fuel consumption      float64\n",
            " 37  Electric range (km)   float64\n",
            "dtypes: float64(17), int64(3), object(18)\n",
            "memory usage: 529.0+ MB\n"
          ]
        }
      ],
      "source": [
        "df.info()"
      ]
    },
    {
      "cell_type": "code",
      "source": [
        "unique_val_count = [df[col].nunique() for col in df.columns]\n",
        "print(unique_val_count)\n",
        "pd.DataFrame({'Columns': df.columns, 'Count of unique values':unique_val_count})"
      ],
      "metadata": {
        "colab": {
          "base_uri": "https://localhost:8080/",
          "height": 1000
        },
        "id": "q0_NxmItdHlX",
        "outputId": "ffe5de6a-e765-4c8b-8d88-69b89955df29"
      },
      "execution_count": null,
      "outputs": [
        {
          "output_type": "stream",
          "name": "stdout",
          "text": [
            "[1777878, 1, 3248, 10, 65, 64, 0, 2173, 357, 2196, 9459, 62, 580, 2, 2, 1, 1149, 1972, 26, 341, 272, 245, 265, 10, 6, 113, 218, 226, 65, 0, 22, 0, 0, 1, 1, 354, 155, 470]\n"
          ]
        },
        {
          "output_type": "execute_result",
          "data": {
            "text/plain": [
              "                 Columns  Count of unique values\n",
              "0                     ID                 1777878\n",
              "1                Country                       1\n",
              "2                    VFN                    3248\n",
              "3                     Mp                      10\n",
              "4                     Mh                      65\n",
              "5                    Man                      64\n",
              "6                    MMS                       0\n",
              "7                    Tan                    2173\n",
              "8                      T                     357\n",
              "9                     Va                    2196\n",
              "10                    Ve                    9459\n",
              "11                    Mk                      62\n",
              "12                    Cn                     580\n",
              "13                    Ct                       2\n",
              "14                    Cr                       2\n",
              "15                     r                       1\n",
              "16                m (kg)                    1149\n",
              "17                    Mt                    1972\n",
              "18          Enedc (g/km)                      26\n",
              "19          Ewltp (g/km)                     341\n",
              "20                W (mm)                     272\n",
              "21              At1 (mm)                     245\n",
              "22              At2 (mm)                     265\n",
              "23                    Ft                      10\n",
              "24                    Fm                       6\n",
              "25              ec (cm3)                     113\n",
              "26               ep (KW)                     218\n",
              "27             z (Wh/km)                     226\n",
              "28                    IT                      65\n",
              "29         Ernedc (g/km)                       0\n",
              "30         Erwltp (g/km)                      22\n",
              "31                    De                       0\n",
              "32                    Vf                       0\n",
              "33                Status                       1\n",
              "34                  year                       1\n",
              "35  Date of registration                     354\n",
              "36     Fuel consumption                      155\n",
              "37   Electric range (km)                     470"
            ],
            "text/html": [
              "\n",
              "  <div id=\"df-30fa2ae1-5ce1-47e9-a065-deac5bf05e2e\" class=\"colab-df-container\">\n",
              "    <div>\n",
              "<style scoped>\n",
              "    .dataframe tbody tr th:only-of-type {\n",
              "        vertical-align: middle;\n",
              "    }\n",
              "\n",
              "    .dataframe tbody tr th {\n",
              "        vertical-align: top;\n",
              "    }\n",
              "\n",
              "    .dataframe thead th {\n",
              "        text-align: right;\n",
              "    }\n",
              "</style>\n",
              "<table border=\"1\" class=\"dataframe\">\n",
              "  <thead>\n",
              "    <tr style=\"text-align: right;\">\n",
              "      <th></th>\n",
              "      <th>Columns</th>\n",
              "      <th>Count of unique values</th>\n",
              "    </tr>\n",
              "  </thead>\n",
              "  <tbody>\n",
              "    <tr>\n",
              "      <th>0</th>\n",
              "      <td>ID</td>\n",
              "      <td>1777878</td>\n",
              "    </tr>\n",
              "    <tr>\n",
              "      <th>1</th>\n",
              "      <td>Country</td>\n",
              "      <td>1</td>\n",
              "    </tr>\n",
              "    <tr>\n",
              "      <th>2</th>\n",
              "      <td>VFN</td>\n",
              "      <td>3248</td>\n",
              "    </tr>\n",
              "    <tr>\n",
              "      <th>3</th>\n",
              "      <td>Mp</td>\n",
              "      <td>10</td>\n",
              "    </tr>\n",
              "    <tr>\n",
              "      <th>4</th>\n",
              "      <td>Mh</td>\n",
              "      <td>65</td>\n",
              "    </tr>\n",
              "    <tr>\n",
              "      <th>5</th>\n",
              "      <td>Man</td>\n",
              "      <td>64</td>\n",
              "    </tr>\n",
              "    <tr>\n",
              "      <th>6</th>\n",
              "      <td>MMS</td>\n",
              "      <td>0</td>\n",
              "    </tr>\n",
              "    <tr>\n",
              "      <th>7</th>\n",
              "      <td>Tan</td>\n",
              "      <td>2173</td>\n",
              "    </tr>\n",
              "    <tr>\n",
              "      <th>8</th>\n",
              "      <td>T</td>\n",
              "      <td>357</td>\n",
              "    </tr>\n",
              "    <tr>\n",
              "      <th>9</th>\n",
              "      <td>Va</td>\n",
              "      <td>2196</td>\n",
              "    </tr>\n",
              "    <tr>\n",
              "      <th>10</th>\n",
              "      <td>Ve</td>\n",
              "      <td>9459</td>\n",
              "    </tr>\n",
              "    <tr>\n",
              "      <th>11</th>\n",
              "      <td>Mk</td>\n",
              "      <td>62</td>\n",
              "    </tr>\n",
              "    <tr>\n",
              "      <th>12</th>\n",
              "      <td>Cn</td>\n",
              "      <td>580</td>\n",
              "    </tr>\n",
              "    <tr>\n",
              "      <th>13</th>\n",
              "      <td>Ct</td>\n",
              "      <td>2</td>\n",
              "    </tr>\n",
              "    <tr>\n",
              "      <th>14</th>\n",
              "      <td>Cr</td>\n",
              "      <td>2</td>\n",
              "    </tr>\n",
              "    <tr>\n",
              "      <th>15</th>\n",
              "      <td>r</td>\n",
              "      <td>1</td>\n",
              "    </tr>\n",
              "    <tr>\n",
              "      <th>16</th>\n",
              "      <td>m (kg)</td>\n",
              "      <td>1149</td>\n",
              "    </tr>\n",
              "    <tr>\n",
              "      <th>17</th>\n",
              "      <td>Mt</td>\n",
              "      <td>1972</td>\n",
              "    </tr>\n",
              "    <tr>\n",
              "      <th>18</th>\n",
              "      <td>Enedc (g/km)</td>\n",
              "      <td>26</td>\n",
              "    </tr>\n",
              "    <tr>\n",
              "      <th>19</th>\n",
              "      <td>Ewltp (g/km)</td>\n",
              "      <td>341</td>\n",
              "    </tr>\n",
              "    <tr>\n",
              "      <th>20</th>\n",
              "      <td>W (mm)</td>\n",
              "      <td>272</td>\n",
              "    </tr>\n",
              "    <tr>\n",
              "      <th>21</th>\n",
              "      <td>At1 (mm)</td>\n",
              "      <td>245</td>\n",
              "    </tr>\n",
              "    <tr>\n",
              "      <th>22</th>\n",
              "      <td>At2 (mm)</td>\n",
              "      <td>265</td>\n",
              "    </tr>\n",
              "    <tr>\n",
              "      <th>23</th>\n",
              "      <td>Ft</td>\n",
              "      <td>10</td>\n",
              "    </tr>\n",
              "    <tr>\n",
              "      <th>24</th>\n",
              "      <td>Fm</td>\n",
              "      <td>6</td>\n",
              "    </tr>\n",
              "    <tr>\n",
              "      <th>25</th>\n",
              "      <td>ec (cm3)</td>\n",
              "      <td>113</td>\n",
              "    </tr>\n",
              "    <tr>\n",
              "      <th>26</th>\n",
              "      <td>ep (KW)</td>\n",
              "      <td>218</td>\n",
              "    </tr>\n",
              "    <tr>\n",
              "      <th>27</th>\n",
              "      <td>z (Wh/km)</td>\n",
              "      <td>226</td>\n",
              "    </tr>\n",
              "    <tr>\n",
              "      <th>28</th>\n",
              "      <td>IT</td>\n",
              "      <td>65</td>\n",
              "    </tr>\n",
              "    <tr>\n",
              "      <th>29</th>\n",
              "      <td>Ernedc (g/km)</td>\n",
              "      <td>0</td>\n",
              "    </tr>\n",
              "    <tr>\n",
              "      <th>30</th>\n",
              "      <td>Erwltp (g/km)</td>\n",
              "      <td>22</td>\n",
              "    </tr>\n",
              "    <tr>\n",
              "      <th>31</th>\n",
              "      <td>De</td>\n",
              "      <td>0</td>\n",
              "    </tr>\n",
              "    <tr>\n",
              "      <th>32</th>\n",
              "      <td>Vf</td>\n",
              "      <td>0</td>\n",
              "    </tr>\n",
              "    <tr>\n",
              "      <th>33</th>\n",
              "      <td>Status</td>\n",
              "      <td>1</td>\n",
              "    </tr>\n",
              "    <tr>\n",
              "      <th>34</th>\n",
              "      <td>year</td>\n",
              "      <td>1</td>\n",
              "    </tr>\n",
              "    <tr>\n",
              "      <th>35</th>\n",
              "      <td>Date of registration</td>\n",
              "      <td>354</td>\n",
              "    </tr>\n",
              "    <tr>\n",
              "      <th>36</th>\n",
              "      <td>Fuel consumption</td>\n",
              "      <td>155</td>\n",
              "    </tr>\n",
              "    <tr>\n",
              "      <th>37</th>\n",
              "      <td>Electric range (km)</td>\n",
              "      <td>470</td>\n",
              "    </tr>\n",
              "  </tbody>\n",
              "</table>\n",
              "</div>\n",
              "    <div class=\"colab-df-buttons\">\n",
              "\n",
              "  <div class=\"colab-df-container\">\n",
              "    <button class=\"colab-df-convert\" onclick=\"convertToInteractive('df-30fa2ae1-5ce1-47e9-a065-deac5bf05e2e')\"\n",
              "            title=\"Convert this dataframe to an interactive table.\"\n",
              "            style=\"display:none;\">\n",
              "\n",
              "  <svg xmlns=\"http://www.w3.org/2000/svg\" height=\"24px\" viewBox=\"0 -960 960 960\">\n",
              "    <path d=\"M120-120v-720h720v720H120Zm60-500h600v-160H180v160Zm220 220h160v-160H400v160Zm0 220h160v-160H400v160ZM180-400h160v-160H180v160Zm440 0h160v-160H620v160ZM180-180h160v-160H180v160Zm440 0h160v-160H620v160Z\"/>\n",
              "  </svg>\n",
              "    </button>\n",
              "\n",
              "  <style>\n",
              "    .colab-df-container {\n",
              "      display:flex;\n",
              "      gap: 12px;\n",
              "    }\n",
              "\n",
              "    .colab-df-convert {\n",
              "      background-color: #E8F0FE;\n",
              "      border: none;\n",
              "      border-radius: 50%;\n",
              "      cursor: pointer;\n",
              "      display: none;\n",
              "      fill: #1967D2;\n",
              "      height: 32px;\n",
              "      padding: 0 0 0 0;\n",
              "      width: 32px;\n",
              "    }\n",
              "\n",
              "    .colab-df-convert:hover {\n",
              "      background-color: #E2EBFA;\n",
              "      box-shadow: 0px 1px 2px rgba(60, 64, 67, 0.3), 0px 1px 3px 1px rgba(60, 64, 67, 0.15);\n",
              "      fill: #174EA6;\n",
              "    }\n",
              "\n",
              "    .colab-df-buttons div {\n",
              "      margin-bottom: 4px;\n",
              "    }\n",
              "\n",
              "    [theme=dark] .colab-df-convert {\n",
              "      background-color: #3B4455;\n",
              "      fill: #D2E3FC;\n",
              "    }\n",
              "\n",
              "    [theme=dark] .colab-df-convert:hover {\n",
              "      background-color: #434B5C;\n",
              "      box-shadow: 0px 1px 3px 1px rgba(0, 0, 0, 0.15);\n",
              "      filter: drop-shadow(0px 1px 2px rgba(0, 0, 0, 0.3));\n",
              "      fill: #FFFFFF;\n",
              "    }\n",
              "  </style>\n",
              "\n",
              "    <script>\n",
              "      const buttonEl =\n",
              "        document.querySelector('#df-30fa2ae1-5ce1-47e9-a065-deac5bf05e2e button.colab-df-convert');\n",
              "      buttonEl.style.display =\n",
              "        google.colab.kernel.accessAllowed ? 'block' : 'none';\n",
              "\n",
              "      async function convertToInteractive(key) {\n",
              "        const element = document.querySelector('#df-30fa2ae1-5ce1-47e9-a065-deac5bf05e2e');\n",
              "        const dataTable =\n",
              "          await google.colab.kernel.invokeFunction('convertToInteractive',\n",
              "                                                    [key], {});\n",
              "        if (!dataTable) return;\n",
              "\n",
              "        const docLinkHtml = 'Like what you see? Visit the ' +\n",
              "          '<a target=\"_blank\" href=https://colab.research.google.com/notebooks/data_table.ipynb>data table notebook</a>'\n",
              "          + ' to learn more about interactive tables.';\n",
              "        element.innerHTML = '';\n",
              "        dataTable['output_type'] = 'display_data';\n",
              "        await google.colab.output.renderOutput(dataTable, element);\n",
              "        const docLink = document.createElement('div');\n",
              "        docLink.innerHTML = docLinkHtml;\n",
              "        element.appendChild(docLink);\n",
              "      }\n",
              "    </script>\n",
              "  </div>\n",
              "\n",
              "\n",
              "<div id=\"df-a41c9979-84e3-4dec-a15b-304ca6150a76\">\n",
              "  <button class=\"colab-df-quickchart\" onclick=\"quickchart('df-a41c9979-84e3-4dec-a15b-304ca6150a76')\"\n",
              "            title=\"Suggest charts\"\n",
              "            style=\"display:none;\">\n",
              "\n",
              "<svg xmlns=\"http://www.w3.org/2000/svg\" height=\"24px\"viewBox=\"0 0 24 24\"\n",
              "     width=\"24px\">\n",
              "    <g>\n",
              "        <path d=\"M19 3H5c-1.1 0-2 .9-2 2v14c0 1.1.9 2 2 2h14c1.1 0 2-.9 2-2V5c0-1.1-.9-2-2-2zM9 17H7v-7h2v7zm4 0h-2V7h2v10zm4 0h-2v-4h2v4z\"/>\n",
              "    </g>\n",
              "</svg>\n",
              "  </button>\n",
              "\n",
              "<style>\n",
              "  .colab-df-quickchart {\n",
              "      --bg-color: #E8F0FE;\n",
              "      --fill-color: #1967D2;\n",
              "      --hover-bg-color: #E2EBFA;\n",
              "      --hover-fill-color: #174EA6;\n",
              "      --disabled-fill-color: #AAA;\n",
              "      --disabled-bg-color: #DDD;\n",
              "  }\n",
              "\n",
              "  [theme=dark] .colab-df-quickchart {\n",
              "      --bg-color: #3B4455;\n",
              "      --fill-color: #D2E3FC;\n",
              "      --hover-bg-color: #434B5C;\n",
              "      --hover-fill-color: #FFFFFF;\n",
              "      --disabled-bg-color: #3B4455;\n",
              "      --disabled-fill-color: #666;\n",
              "  }\n",
              "\n",
              "  .colab-df-quickchart {\n",
              "    background-color: var(--bg-color);\n",
              "    border: none;\n",
              "    border-radius: 50%;\n",
              "    cursor: pointer;\n",
              "    display: none;\n",
              "    fill: var(--fill-color);\n",
              "    height: 32px;\n",
              "    padding: 0;\n",
              "    width: 32px;\n",
              "  }\n",
              "\n",
              "  .colab-df-quickchart:hover {\n",
              "    background-color: var(--hover-bg-color);\n",
              "    box-shadow: 0 1px 2px rgba(60, 64, 67, 0.3), 0 1px 3px 1px rgba(60, 64, 67, 0.15);\n",
              "    fill: var(--button-hover-fill-color);\n",
              "  }\n",
              "\n",
              "  .colab-df-quickchart-complete:disabled,\n",
              "  .colab-df-quickchart-complete:disabled:hover {\n",
              "    background-color: var(--disabled-bg-color);\n",
              "    fill: var(--disabled-fill-color);\n",
              "    box-shadow: none;\n",
              "  }\n",
              "\n",
              "  .colab-df-spinner {\n",
              "    border: 2px solid var(--fill-color);\n",
              "    border-color: transparent;\n",
              "    border-bottom-color: var(--fill-color);\n",
              "    animation:\n",
              "      spin 1s steps(1) infinite;\n",
              "  }\n",
              "\n",
              "  @keyframes spin {\n",
              "    0% {\n",
              "      border-color: transparent;\n",
              "      border-bottom-color: var(--fill-color);\n",
              "      border-left-color: var(--fill-color);\n",
              "    }\n",
              "    20% {\n",
              "      border-color: transparent;\n",
              "      border-left-color: var(--fill-color);\n",
              "      border-top-color: var(--fill-color);\n",
              "    }\n",
              "    30% {\n",
              "      border-color: transparent;\n",
              "      border-left-color: var(--fill-color);\n",
              "      border-top-color: var(--fill-color);\n",
              "      border-right-color: var(--fill-color);\n",
              "    }\n",
              "    40% {\n",
              "      border-color: transparent;\n",
              "      border-right-color: var(--fill-color);\n",
              "      border-top-color: var(--fill-color);\n",
              "    }\n",
              "    60% {\n",
              "      border-color: transparent;\n",
              "      border-right-color: var(--fill-color);\n",
              "    }\n",
              "    80% {\n",
              "      border-color: transparent;\n",
              "      border-right-color: var(--fill-color);\n",
              "      border-bottom-color: var(--fill-color);\n",
              "    }\n",
              "    90% {\n",
              "      border-color: transparent;\n",
              "      border-bottom-color: var(--fill-color);\n",
              "    }\n",
              "  }\n",
              "</style>\n",
              "\n",
              "  <script>\n",
              "    async function quickchart(key) {\n",
              "      const quickchartButtonEl =\n",
              "        document.querySelector('#' + key + ' button');\n",
              "      quickchartButtonEl.disabled = true;  // To prevent multiple clicks.\n",
              "      quickchartButtonEl.classList.add('colab-df-spinner');\n",
              "      try {\n",
              "        const charts = await google.colab.kernel.invokeFunction(\n",
              "            'suggestCharts', [key], {});\n",
              "      } catch (error) {\n",
              "        console.error('Error during call to suggestCharts:', error);\n",
              "      }\n",
              "      quickchartButtonEl.classList.remove('colab-df-spinner');\n",
              "      quickchartButtonEl.classList.add('colab-df-quickchart-complete');\n",
              "    }\n",
              "    (() => {\n",
              "      let quickchartButtonEl =\n",
              "        document.querySelector('#df-a41c9979-84e3-4dec-a15b-304ca6150a76 button');\n",
              "      quickchartButtonEl.style.display =\n",
              "        google.colab.kernel.accessAllowed ? 'block' : 'none';\n",
              "    })();\n",
              "  </script>\n",
              "</div>\n",
              "    </div>\n",
              "  </div>\n"
            ]
          },
          "metadata": {},
          "execution_count": 7
        }
      ]
    },
    {
      "cell_type": "markdown",
      "metadata": {
        "id": "yVn5VTsMnXXN"
      },
      "source": [
        "## Missing Values per column (%)\n",
        "\n"
      ]
    },
    {
      "cell_type": "code",
      "execution_count": null,
      "metadata": {
        "colab": {
          "base_uri": "https://localhost:8080/",
          "height": 1000
        },
        "id": "0I84-vhelAUw",
        "outputId": "71ad4f61-6c98-4f2d-c929-d65e967b4012"
      },
      "outputs": [
        {
          "output_type": "execute_result",
          "data": {
            "text/plain": [
              "                      Missing values (%)\n",
              "ID                              0.000000\n",
              "Country                         0.000000\n",
              "VFN                             0.000000\n",
              "Mp                              1.082920\n",
              "Mh                              0.000000\n",
              "Man                             0.000000\n",
              "MMS                           100.000000\n",
              "Tan                             0.000000\n",
              "T                               0.000000\n",
              "Va                              0.000000\n",
              "Ve                              0.000000\n",
              "Mk                              0.000000\n",
              "Cn                              0.000000\n",
              "Ct                              0.000000\n",
              "Cr                              0.000000\n",
              "r                               0.000000\n",
              "m (kg)                          0.000000\n",
              "Mt                              0.000000\n",
              "Enedc (g/km)                   90.479549\n",
              "Ewltp (g/km)                    0.000000\n",
              "W (mm)                          0.000000\n",
              "At1 (mm)                        0.000000\n",
              "At2 (mm)                        0.000000\n",
              "Ft                              0.000000\n",
              "Fm                              0.000000\n",
              "ec (cm3)                        9.502227\n",
              "ep (KW)                         0.000000\n",
              "z (Wh/km)                      82.452283\n",
              "IT                             36.383205\n",
              "Ernedc (g/km)                 100.000000\n",
              "Erwltp (g/km)                  36.396198\n",
              "De                            100.000000\n",
              "Vf                            100.000000\n",
              "Status                          0.000000\n",
              "year                            0.000000\n",
              "Date of registration            0.000000\n",
              "Fuel consumption               21.488370\n",
              "Electric range (km)            82.452171"
            ],
            "text/html": [
              "\n",
              "  <div id=\"df-b7e1288d-e9d0-48ec-aeb1-01704e13ace0\" class=\"colab-df-container\">\n",
              "    <div>\n",
              "<style scoped>\n",
              "    .dataframe tbody tr th:only-of-type {\n",
              "        vertical-align: middle;\n",
              "    }\n",
              "\n",
              "    .dataframe tbody tr th {\n",
              "        vertical-align: top;\n",
              "    }\n",
              "\n",
              "    .dataframe thead th {\n",
              "        text-align: right;\n",
              "    }\n",
              "</style>\n",
              "<table border=\"1\" class=\"dataframe\">\n",
              "  <thead>\n",
              "    <tr style=\"text-align: right;\">\n",
              "      <th></th>\n",
              "      <th>Missing values (%)</th>\n",
              "    </tr>\n",
              "  </thead>\n",
              "  <tbody>\n",
              "    <tr>\n",
              "      <th>ID</th>\n",
              "      <td>0.000000</td>\n",
              "    </tr>\n",
              "    <tr>\n",
              "      <th>Country</th>\n",
              "      <td>0.000000</td>\n",
              "    </tr>\n",
              "    <tr>\n",
              "      <th>VFN</th>\n",
              "      <td>0.000000</td>\n",
              "    </tr>\n",
              "    <tr>\n",
              "      <th>Mp</th>\n",
              "      <td>1.082920</td>\n",
              "    </tr>\n",
              "    <tr>\n",
              "      <th>Mh</th>\n",
              "      <td>0.000000</td>\n",
              "    </tr>\n",
              "    <tr>\n",
              "      <th>Man</th>\n",
              "      <td>0.000000</td>\n",
              "    </tr>\n",
              "    <tr>\n",
              "      <th>MMS</th>\n",
              "      <td>100.000000</td>\n",
              "    </tr>\n",
              "    <tr>\n",
              "      <th>Tan</th>\n",
              "      <td>0.000000</td>\n",
              "    </tr>\n",
              "    <tr>\n",
              "      <th>T</th>\n",
              "      <td>0.000000</td>\n",
              "    </tr>\n",
              "    <tr>\n",
              "      <th>Va</th>\n",
              "      <td>0.000000</td>\n",
              "    </tr>\n",
              "    <tr>\n",
              "      <th>Ve</th>\n",
              "      <td>0.000000</td>\n",
              "    </tr>\n",
              "    <tr>\n",
              "      <th>Mk</th>\n",
              "      <td>0.000000</td>\n",
              "    </tr>\n",
              "    <tr>\n",
              "      <th>Cn</th>\n",
              "      <td>0.000000</td>\n",
              "    </tr>\n",
              "    <tr>\n",
              "      <th>Ct</th>\n",
              "      <td>0.000000</td>\n",
              "    </tr>\n",
              "    <tr>\n",
              "      <th>Cr</th>\n",
              "      <td>0.000000</td>\n",
              "    </tr>\n",
              "    <tr>\n",
              "      <th>r</th>\n",
              "      <td>0.000000</td>\n",
              "    </tr>\n",
              "    <tr>\n",
              "      <th>m (kg)</th>\n",
              "      <td>0.000000</td>\n",
              "    </tr>\n",
              "    <tr>\n",
              "      <th>Mt</th>\n",
              "      <td>0.000000</td>\n",
              "    </tr>\n",
              "    <tr>\n",
              "      <th>Enedc (g/km)</th>\n",
              "      <td>90.479549</td>\n",
              "    </tr>\n",
              "    <tr>\n",
              "      <th>Ewltp (g/km)</th>\n",
              "      <td>0.000000</td>\n",
              "    </tr>\n",
              "    <tr>\n",
              "      <th>W (mm)</th>\n",
              "      <td>0.000000</td>\n",
              "    </tr>\n",
              "    <tr>\n",
              "      <th>At1 (mm)</th>\n",
              "      <td>0.000000</td>\n",
              "    </tr>\n",
              "    <tr>\n",
              "      <th>At2 (mm)</th>\n",
              "      <td>0.000000</td>\n",
              "    </tr>\n",
              "    <tr>\n",
              "      <th>Ft</th>\n",
              "      <td>0.000000</td>\n",
              "    </tr>\n",
              "    <tr>\n",
              "      <th>Fm</th>\n",
              "      <td>0.000000</td>\n",
              "    </tr>\n",
              "    <tr>\n",
              "      <th>ec (cm3)</th>\n",
              "      <td>9.502227</td>\n",
              "    </tr>\n",
              "    <tr>\n",
              "      <th>ep (KW)</th>\n",
              "      <td>0.000000</td>\n",
              "    </tr>\n",
              "    <tr>\n",
              "      <th>z (Wh/km)</th>\n",
              "      <td>82.452283</td>\n",
              "    </tr>\n",
              "    <tr>\n",
              "      <th>IT</th>\n",
              "      <td>36.383205</td>\n",
              "    </tr>\n",
              "    <tr>\n",
              "      <th>Ernedc (g/km)</th>\n",
              "      <td>100.000000</td>\n",
              "    </tr>\n",
              "    <tr>\n",
              "      <th>Erwltp (g/km)</th>\n",
              "      <td>36.396198</td>\n",
              "    </tr>\n",
              "    <tr>\n",
              "      <th>De</th>\n",
              "      <td>100.000000</td>\n",
              "    </tr>\n",
              "    <tr>\n",
              "      <th>Vf</th>\n",
              "      <td>100.000000</td>\n",
              "    </tr>\n",
              "    <tr>\n",
              "      <th>Status</th>\n",
              "      <td>0.000000</td>\n",
              "    </tr>\n",
              "    <tr>\n",
              "      <th>year</th>\n",
              "      <td>0.000000</td>\n",
              "    </tr>\n",
              "    <tr>\n",
              "      <th>Date of registration</th>\n",
              "      <td>0.000000</td>\n",
              "    </tr>\n",
              "    <tr>\n",
              "      <th>Fuel consumption</th>\n",
              "      <td>21.488370</td>\n",
              "    </tr>\n",
              "    <tr>\n",
              "      <th>Electric range (km)</th>\n",
              "      <td>82.452171</td>\n",
              "    </tr>\n",
              "  </tbody>\n",
              "</table>\n",
              "</div>\n",
              "    <div class=\"colab-df-buttons\">\n",
              "\n",
              "  <div class=\"colab-df-container\">\n",
              "    <button class=\"colab-df-convert\" onclick=\"convertToInteractive('df-b7e1288d-e9d0-48ec-aeb1-01704e13ace0')\"\n",
              "            title=\"Convert this dataframe to an interactive table.\"\n",
              "            style=\"display:none;\">\n",
              "\n",
              "  <svg xmlns=\"http://www.w3.org/2000/svg\" height=\"24px\" viewBox=\"0 -960 960 960\">\n",
              "    <path d=\"M120-120v-720h720v720H120Zm60-500h600v-160H180v160Zm220 220h160v-160H400v160Zm0 220h160v-160H400v160ZM180-400h160v-160H180v160Zm440 0h160v-160H620v160ZM180-180h160v-160H180v160Zm440 0h160v-160H620v160Z\"/>\n",
              "  </svg>\n",
              "    </button>\n",
              "\n",
              "  <style>\n",
              "    .colab-df-container {\n",
              "      display:flex;\n",
              "      gap: 12px;\n",
              "    }\n",
              "\n",
              "    .colab-df-convert {\n",
              "      background-color: #E8F0FE;\n",
              "      border: none;\n",
              "      border-radius: 50%;\n",
              "      cursor: pointer;\n",
              "      display: none;\n",
              "      fill: #1967D2;\n",
              "      height: 32px;\n",
              "      padding: 0 0 0 0;\n",
              "      width: 32px;\n",
              "    }\n",
              "\n",
              "    .colab-df-convert:hover {\n",
              "      background-color: #E2EBFA;\n",
              "      box-shadow: 0px 1px 2px rgba(60, 64, 67, 0.3), 0px 1px 3px 1px rgba(60, 64, 67, 0.15);\n",
              "      fill: #174EA6;\n",
              "    }\n",
              "\n",
              "    .colab-df-buttons div {\n",
              "      margin-bottom: 4px;\n",
              "    }\n",
              "\n",
              "    [theme=dark] .colab-df-convert {\n",
              "      background-color: #3B4455;\n",
              "      fill: #D2E3FC;\n",
              "    }\n",
              "\n",
              "    [theme=dark] .colab-df-convert:hover {\n",
              "      background-color: #434B5C;\n",
              "      box-shadow: 0px 1px 3px 1px rgba(0, 0, 0, 0.15);\n",
              "      filter: drop-shadow(0px 1px 2px rgba(0, 0, 0, 0.3));\n",
              "      fill: #FFFFFF;\n",
              "    }\n",
              "  </style>\n",
              "\n",
              "    <script>\n",
              "      const buttonEl =\n",
              "        document.querySelector('#df-b7e1288d-e9d0-48ec-aeb1-01704e13ace0 button.colab-df-convert');\n",
              "      buttonEl.style.display =\n",
              "        google.colab.kernel.accessAllowed ? 'block' : 'none';\n",
              "\n",
              "      async function convertToInteractive(key) {\n",
              "        const element = document.querySelector('#df-b7e1288d-e9d0-48ec-aeb1-01704e13ace0');\n",
              "        const dataTable =\n",
              "          await google.colab.kernel.invokeFunction('convertToInteractive',\n",
              "                                                    [key], {});\n",
              "        if (!dataTable) return;\n",
              "\n",
              "        const docLinkHtml = 'Like what you see? Visit the ' +\n",
              "          '<a target=\"_blank\" href=https://colab.research.google.com/notebooks/data_table.ipynb>data table notebook</a>'\n",
              "          + ' to learn more about interactive tables.';\n",
              "        element.innerHTML = '';\n",
              "        dataTable['output_type'] = 'display_data';\n",
              "        await google.colab.output.renderOutput(dataTable, element);\n",
              "        const docLink = document.createElement('div');\n",
              "        docLink.innerHTML = docLinkHtml;\n",
              "        element.appendChild(docLink);\n",
              "      }\n",
              "    </script>\n",
              "  </div>\n",
              "\n",
              "\n",
              "<div id=\"df-86c9b449-3a61-415e-81ef-bba1d1df5551\">\n",
              "  <button class=\"colab-df-quickchart\" onclick=\"quickchart('df-86c9b449-3a61-415e-81ef-bba1d1df5551')\"\n",
              "            title=\"Suggest charts\"\n",
              "            style=\"display:none;\">\n",
              "\n",
              "<svg xmlns=\"http://www.w3.org/2000/svg\" height=\"24px\"viewBox=\"0 0 24 24\"\n",
              "     width=\"24px\">\n",
              "    <g>\n",
              "        <path d=\"M19 3H5c-1.1 0-2 .9-2 2v14c0 1.1.9 2 2 2h14c1.1 0 2-.9 2-2V5c0-1.1-.9-2-2-2zM9 17H7v-7h2v7zm4 0h-2V7h2v10zm4 0h-2v-4h2v4z\"/>\n",
              "    </g>\n",
              "</svg>\n",
              "  </button>\n",
              "\n",
              "<style>\n",
              "  .colab-df-quickchart {\n",
              "      --bg-color: #E8F0FE;\n",
              "      --fill-color: #1967D2;\n",
              "      --hover-bg-color: #E2EBFA;\n",
              "      --hover-fill-color: #174EA6;\n",
              "      --disabled-fill-color: #AAA;\n",
              "      --disabled-bg-color: #DDD;\n",
              "  }\n",
              "\n",
              "  [theme=dark] .colab-df-quickchart {\n",
              "      --bg-color: #3B4455;\n",
              "      --fill-color: #D2E3FC;\n",
              "      --hover-bg-color: #434B5C;\n",
              "      --hover-fill-color: #FFFFFF;\n",
              "      --disabled-bg-color: #3B4455;\n",
              "      --disabled-fill-color: #666;\n",
              "  }\n",
              "\n",
              "  .colab-df-quickchart {\n",
              "    background-color: var(--bg-color);\n",
              "    border: none;\n",
              "    border-radius: 50%;\n",
              "    cursor: pointer;\n",
              "    display: none;\n",
              "    fill: var(--fill-color);\n",
              "    height: 32px;\n",
              "    padding: 0;\n",
              "    width: 32px;\n",
              "  }\n",
              "\n",
              "  .colab-df-quickchart:hover {\n",
              "    background-color: var(--hover-bg-color);\n",
              "    box-shadow: 0 1px 2px rgba(60, 64, 67, 0.3), 0 1px 3px 1px rgba(60, 64, 67, 0.15);\n",
              "    fill: var(--button-hover-fill-color);\n",
              "  }\n",
              "\n",
              "  .colab-df-quickchart-complete:disabled,\n",
              "  .colab-df-quickchart-complete:disabled:hover {\n",
              "    background-color: var(--disabled-bg-color);\n",
              "    fill: var(--disabled-fill-color);\n",
              "    box-shadow: none;\n",
              "  }\n",
              "\n",
              "  .colab-df-spinner {\n",
              "    border: 2px solid var(--fill-color);\n",
              "    border-color: transparent;\n",
              "    border-bottom-color: var(--fill-color);\n",
              "    animation:\n",
              "      spin 1s steps(1) infinite;\n",
              "  }\n",
              "\n",
              "  @keyframes spin {\n",
              "    0% {\n",
              "      border-color: transparent;\n",
              "      border-bottom-color: var(--fill-color);\n",
              "      border-left-color: var(--fill-color);\n",
              "    }\n",
              "    20% {\n",
              "      border-color: transparent;\n",
              "      border-left-color: var(--fill-color);\n",
              "      border-top-color: var(--fill-color);\n",
              "    }\n",
              "    30% {\n",
              "      border-color: transparent;\n",
              "      border-left-color: var(--fill-color);\n",
              "      border-top-color: var(--fill-color);\n",
              "      border-right-color: var(--fill-color);\n",
              "    }\n",
              "    40% {\n",
              "      border-color: transparent;\n",
              "      border-right-color: var(--fill-color);\n",
              "      border-top-color: var(--fill-color);\n",
              "    }\n",
              "    60% {\n",
              "      border-color: transparent;\n",
              "      border-right-color: var(--fill-color);\n",
              "    }\n",
              "    80% {\n",
              "      border-color: transparent;\n",
              "      border-right-color: var(--fill-color);\n",
              "      border-bottom-color: var(--fill-color);\n",
              "    }\n",
              "    90% {\n",
              "      border-color: transparent;\n",
              "      border-bottom-color: var(--fill-color);\n",
              "    }\n",
              "  }\n",
              "</style>\n",
              "\n",
              "  <script>\n",
              "    async function quickchart(key) {\n",
              "      const quickchartButtonEl =\n",
              "        document.querySelector('#' + key + ' button');\n",
              "      quickchartButtonEl.disabled = true;  // To prevent multiple clicks.\n",
              "      quickchartButtonEl.classList.add('colab-df-spinner');\n",
              "      try {\n",
              "        const charts = await google.colab.kernel.invokeFunction(\n",
              "            'suggestCharts', [key], {});\n",
              "      } catch (error) {\n",
              "        console.error('Error during call to suggestCharts:', error);\n",
              "      }\n",
              "      quickchartButtonEl.classList.remove('colab-df-spinner');\n",
              "      quickchartButtonEl.classList.add('colab-df-quickchart-complete');\n",
              "    }\n",
              "    (() => {\n",
              "      let quickchartButtonEl =\n",
              "        document.querySelector('#df-86c9b449-3a61-415e-81ef-bba1d1df5551 button');\n",
              "      quickchartButtonEl.style.display =\n",
              "        google.colab.kernel.accessAllowed ? 'block' : 'none';\n",
              "    })();\n",
              "  </script>\n",
              "</div>\n",
              "    </div>\n",
              "  </div>\n"
            ]
          },
          "metadata": {},
          "execution_count": 8
        }
      ],
      "source": [
        "miss_val_percentage = list(map(lambda col : df[col].isna().sum()*100/len(df), df.columns))\n",
        "pd.DataFrame({'Missing values (%)' : miss_val_percentage}, index=df.columns)"
      ]
    },
    {
      "cell_type": "markdown",
      "metadata": {
        "id": "jRa1vz0Co2fe"
      },
      "source": [
        "#Renaming columns"
      ]
    },
    {
      "cell_type": "code",
      "execution_count": null,
      "metadata": {
        "colab": {
          "base_uri": "https://localhost:8080/"
        },
        "id": "wJP08Oxyo0lF",
        "outputId": "f13d7394-be25-414b-cea7-8f41ed759aee"
      },
      "outputs": [
        {
          "output_type": "execute_result",
          "data": {
            "text/plain": [
              "Index(['ID', 'Country', 'VFN', 'Mp', 'Mh', 'Man', 'MMS', 'Tan', 'T', 'Va',\n",
              "       'Ve', 'Mk', 'Cn', 'Ct', 'Cr', 'r', 'm_kg', 'Mt', 'Enedc_g/km',\n",
              "       'Ewltp_g/km', 'W_mm', 'At1_mm', 'At2_mm', 'Ft', 'Fm', 'ec_cm3', 'ep_KW',\n",
              "       'z_Wh/km', 'IT', 'Ernedc_g/km', 'Erwltp_g/km', 'De', 'Vf', 'Status',\n",
              "       'year', 'Rd', 'Fc', 'Er_km'],\n",
              "      dtype='object')"
            ]
          },
          "metadata": {},
          "execution_count": 9
        }
      ],
      "source": [
        "renaming_mapping = {col : col.replace(' ', '_')\n",
        "                    .replace(')', '')\n",
        "                    .replace('(', '')\n",
        "                    for col in df.columns}\n",
        "renaming_mapping['Electric range (km)'] = 'Er_km'\n",
        "renaming_mapping['Fuel consumption '] = 'Fc'\n",
        "renaming_mapping['Date of registration'] = 'Rd'\n",
        "df.rename(columns = renaming_mapping, inplace = True)\n",
        "df.columns"
      ]
    },
    {
      "cell_type": "markdown",
      "metadata": {
        "id": "uVOhY0Dkn4j_"
      },
      "source": [
        "#Dropping Data\n"
      ]
    },
    {
      "cell_type": "markdown",
      "metadata": {
        "id": "uHEMWiKuA1fw"
      },
      "source": [
        "## Remove columns with 100% missing values"
      ]
    },
    {
      "cell_type": "code",
      "execution_count": null,
      "metadata": {
        "id": "AOSfoWURAfxB",
        "colab": {
          "base_uri": "https://localhost:8080/"
        },
        "outputId": "05dff8ff-1e0d-42c5-9849-6df28b328f60"
      },
      "outputs": [
        {
          "output_type": "stream",
          "name": "stdout",
          "text": [
            "['MMS', 'Ernedc_g/km', 'De', 'Vf']\n"
          ]
        }
      ],
      "source": [
        "print([col for col in df.columns if df[col].isna().sum() == len(df)])\n",
        "df.dropna(axis = 1, how = 'all', inplace = True)\n"
      ]
    },
    {
      "cell_type": "markdown",
      "metadata": {
        "id": "D5UMSFjLsqCH"
      },
      "source": [
        "\n",
        "\n",
        "##1.   Dropping columns with too many categories\n",
        "\n"
      ]
    },
    {
      "cell_type": "code",
      "execution_count": null,
      "metadata": {
        "id": "mYf1Kgu6oG4A"
      },
      "outputs": [],
      "source": [
        "df = df[['Mp','Cr','m_kg','Ewltp_g/km','W_mm','At1_mm','Ft','Fm','ec_cm3','ep_KW','z_Wh/km','IT','Erwltp_g/km','Fc','Er_km']]"
      ]
    },
    {
      "cell_type": "markdown",
      "metadata": {
        "id": "KyP8OT0JszSX"
      },
      "source": [
        "##2.   Dropping lines if missing values < 1%\n",
        "\n",
        "\n",
        "\n"
      ]
    },
    {
      "cell_type": "code",
      "execution_count": null,
      "metadata": {
        "id": "RiHzOJHas9l4"
      },
      "outputs": [],
      "source": [
        "# According to Missing values per column %, only Mp Feature is treated here\n",
        "df = df.drop(df.loc[df.Mp.isna()].index, axis=0)"
      ]
    },
    {
      "cell_type": "markdown",
      "metadata": {
        "id": "i-P4fn73vdKQ"
      },
      "source": [
        "\n",
        "\n",
        "##3.   Dropping non-polluting cars\n",
        "\n",
        "\n"
      ]
    },
    {
      "cell_type": "code",
      "execution_count": null,
      "metadata": {
        "id": "_aYyOHYDtyng"
      },
      "outputs": [],
      "source": [
        "df = df.drop(df.loc[df.Ft.isin(['ELECTRIC', 'UNKNOWN', 'HYDROGEN'])].index, axis=0)"
      ]
    },
    {
      "cell_type": "markdown",
      "metadata": {
        "id": "2-oaEt7cEL67"
      },
      "source": [
        "##4. Dropping very low observations"
      ]
    },
    {
      "cell_type": "code",
      "execution_count": null,
      "metadata": {
        "id": "_cGewh2BNX8u"
      },
      "outputs": [],
      "source": [
        "#Dropping 'NG', 'NG-BIOMETHANE' categories due to very low observations percentages\n",
        "df.drop(df.loc[df.Ft.isin(['NG', 'NG-BIOMETHANE'])].index, inplace=True)\n"
      ]
    },
    {
      "cell_type": "markdown",
      "metadata": {
        "id": "POL2pw3tC9RK"
      },
      "source": [
        "#Filling Missing values"
      ]
    },
    {
      "cell_type": "code",
      "execution_count": null,
      "metadata": {
        "id": "77kfMeOrwmtQ"
      },
      "outputs": [],
      "source": [
        "#Filling missing values for z_Wh/km by 0 if car is not Hybrid\n",
        "df.loc[((df['z_Wh/km'].isna()) & (df.Ft.isin(['PETROL', 'DIESEL', 'NG-BIOMETHANE', 'NG', 'E85', 'LPG']))),'z_Wh/km'] = 0"
      ]
    },
    {
      "cell_type": "code",
      "execution_count": null,
      "metadata": {
        "id": "l_sqL8BIFiIb"
      },
      "outputs": [],
      "source": [
        "#Setting It to 0/1 depending if the value has or not an IT tech\n",
        "df.IT = np.where(df.IT.isna(), 0, 1)"
      ]
    },
    {
      "cell_type": "code",
      "execution_count": null,
      "metadata": {
        "id": "y3C15wlZIgRO"
      },
      "outputs": [],
      "source": [
        "#Filling Electric range (km) is 0 for non_hybrid cars\n",
        "df.Er_km = np.where(~df.Ft.isin(['PETROL/ELECTRIC', 'DIESEL/ELECTRIC']), 0, df.Er_km)"
      ]
    },
    {
      "cell_type": "code",
      "execution_count": null,
      "metadata": {
        "id": "LeRJXzokJcKQ"
      },
      "outputs": [],
      "source": [
        "#Filling missing values for Erwltp_g/km with 0\n",
        "df['Erwltp_g/km'] = df['Erwltp_g/km'].fillna(0)"
      ]
    },
    {
      "cell_type": "code",
      "source": [
        "import seaborn as sns\n",
        "import matplotlib.pyplot as plt\n",
        "\n",
        "# Set Seaborn theme for a better aesthetic\n",
        "sns.set_theme(style=\"whitegrid\", palette=\"viridis\")\n",
        "\n",
        "# Create a boxplot\n",
        "plt.figure(figsize=(8, 6))\n",
        "sns.boxplot(x='Ft', y='Fc', data=df)\n",
        "\n",
        "# Rotate x-axis labels for better readability\n",
        "plt.xticks(rotation=45)\n",
        "\n",
        "# Add labels and title\n",
        "plt.xlabel('Fuel Type')\n",
        "plt.ylabel('Fuel Consumption')\n",
        "plt.title('Fuel Consumption Distribution by Fuel Type')\n",
        "\n",
        "# Save the plot as an image file (e.g., PNG)\n",
        "plt.savefig('fuel_consumption_boxplot.png', bbox_inches='tight')\n",
        "\n",
        "# Show the plot in the Jupyter Notebook\n",
        "plt.show()"
      ],
      "metadata": {
        "colab": {
          "base_uri": "https://localhost:8080/",
          "height": 666
        },
        "id": "C1Anex9bHoDy",
        "outputId": "4d2fbc6b-9a99-4599-cec9-ad7e127c7ce0"
      },
      "execution_count": null,
      "outputs": [
        {
          "output_type": "display_data",
          "data": {
            "text/plain": [
              "<Figure size 800x600 with 1 Axes>"
            ],
            "image/png": "[encoded data removed]"
          },
          "metadata": {}
        }
      ]
    },
    {
      "cell_type": "code",
      "execution_count": null,
      "metadata": {
        "id": "v6smhix2WYy0"
      },
      "outputs": [],
      "source": [
        "#Fill missing values for Fuel consumption by the median of the corresponding class in term of Fuel Type\n",
        "\n",
        "fc_med_per_ft_category = df.groupby(['Ft'])['Fc'].median()\n",
        "# Create a new column with median values based on 'Ft'\n",
        "df['Fc_median'] = df['Ft'].map(fc_med_per_ft_category)\n",
        "\n",
        "# Fill missing values in 'Fc' based on the corresponding 'Fc_median' values\n",
        "df['Fc'].fillna(df['Fc_median'], inplace=True)\n",
        "\n",
        "# Drop the temporary 'Fc_median' column if you no longer need it\n",
        "df.drop('Fc_median', axis=1, inplace=True)\n"
      ]
    },
    {
      "cell_type": "markdown",
      "metadata": {
        "id": "rNPilBdiDYIE"
      },
      "source": [
        "#Regrouping"
      ]
    },
    {
      "cell_type": "markdown",
      "metadata": {
        "id": "yj3TUrgODb4I"
      },
      "source": [
        "##New groups for Fuel Type: Hybrid and Others"
      ]
    },
    {
      "cell_type": "code",
      "execution_count": null,
      "metadata": {
        "colab": {
          "base_uri": "https://localhost:8080/",
          "height": 820
        },
        "id": "ExpbCpbPEDqb",
        "outputId": "5e39f547-84fa-489f-8293-e87cb5735d49"
      },
      "outputs": [
        {
          "output_type": "display_data",
          "data": {
            "text/plain": [
              "<Figure size 800x800 with 1 Axes>"
            ],
            "image/png": "[encoded data removed]"
          },
          "metadata": {}
        }
      ],
      "source": [
        "#Check Fuel Type distribution\n",
        "import seaborn as sns\n",
        "import matplotlib.pyplot as plt\n",
        "\n",
        "# Assuming you have already created a Seaborn plot\n",
        "df_plt = df.Ft.value_counts(normalize=True) * 100\n",
        "df_plt = df_plt.sort_values(ascending=False)\n",
        "\n",
        "plt.figure(figsize=(8, 8))\n",
        "sns.set_theme()  # Optional: set the Seaborn theme for a better aesthetic\n",
        "ax = sns.countplot(x=df.Ft, data=df, order=df_plt.index, palette='viridis')  # Use x=df.Ft instead of x=index\n",
        "plt.xticks(rotation=45)\n",
        "plt.title('Fuel Type Distribution')\n",
        "plt.xlabel('Fuel Type')\n",
        "\n",
        "# Switch y-axis to percentage\n",
        "total = float(len(df))\n",
        "for p in ax.patches:\n",
        "    height = p.get_height()\n",
        "    ax.text(p.get_x() + p.get_width() / 2., height + 1,\n",
        "            f'{height/total:.1%}', ha=\"center\")\n",
        "\n",
        "# Save the plot as an image file (e.g., PNG)\n",
        "plt.savefig('fuel_type_distribution_percentage.png', bbox_inches='tight')\n",
        "\n",
        "# Show the plot in the Jupyter Notebook\n",
        "plt.show()\n"
      ]
    },
    {
      "cell_type": "code",
      "execution_count": null,
      "metadata": {
        "colab": {
          "base_uri": "https://localhost:8080/"
        },
        "id": "8K6YwWQOL3Un",
        "outputId": "32ae4750-4c89-40ce-c2ab-b1a48e7ef282"
      },
      "outputs": [
        {
          "output_type": "execute_result",
          "data": {
            "text/plain": [
              "PETROL             61.168877\n",
              "DIESEL             27.217395\n",
              "PETROL/ELECTRIC     7.863951\n",
              "LPG                 2.919205\n",
              "DIESEL/ELECTRIC     0.455041\n",
              "E85                 0.375531\n",
              "Name: Ft, dtype: float64"
            ]
          },
          "metadata": {},
          "execution_count": 22
        }
      ],
      "source": [
        "#Check Fuel Type distribution\n",
        "df.Ft.value_counts(normalize=True)*100"
      ]
    },
    {
      "cell_type": "code",
      "execution_count": null,
      "metadata": {
        "id": "4qHZqRXINEst"
      },
      "outputs": [],
      "source": [
        "#Grouping cars into new categories Hybrid for 'PETROL/ELECTRIC' and 'DIESEL/ELECTRIC', others for 'E85', 'LPG' to deal with very low observations percentages\n",
        "df.Ft = df.Ft.replace({'PETROL/ELECTRIC' : 'HYBRID', 'DIESEL/ELECTRIC' : 'HYBRID', 'E85' : 'OTHER', 'LPG' : 'OTHER'})\n"
      ]
    },
    {
      "cell_type": "code",
      "execution_count": null,
      "metadata": {
        "colab": {
          "base_uri": "https://localhost:8080/"
        },
        "id": "mdjhs3fgQ_Uv",
        "outputId": "2af7c51d-4879-42d3-a27d-b0bb9991b27d"
      },
      "outputs": [
        {
          "output_type": "execute_result",
          "data": {
            "text/plain": [
              "PETROL    61.168877\n",
              "DIESEL    27.217395\n",
              "HYBRID     8.318991\n",
              "OTHER      3.294736\n",
              "Name: Ft, dtype: float64"
            ]
          },
          "metadata": {},
          "execution_count": 24
        }
      ],
      "source": [
        "#Check Fuel Type distribution again\n",
        "df.Ft.value_counts(normalize=True)*100"
      ]
    },
    {
      "cell_type": "markdown",
      "metadata": {
        "id": "HpnOG6PpEw9l"
      },
      "source": [
        "#Check new Dataframe"
      ]
    },
    {
      "cell_type": "markdown",
      "metadata": {
        "id": "AfFx7JT6FEcH"
      },
      "source": [
        "###Check missing values\n"
      ]
    },
    {
      "cell_type": "code",
      "execution_count": null,
      "metadata": {
        "colab": {
          "base_uri": "https://localhost:8080/"
        },
        "id": "PcYMTZ6mI3Y3",
        "outputId": "08c9e49d-fb8a-4ff8-9de5-c44f1a52f50b"
      },
      "outputs": [
        {
          "output_type": "execute_result",
          "data": {
            "text/plain": [
              "Mp             False\n",
              "Cr             False\n",
              "m_kg           False\n",
              "Ewltp_g/km     False\n",
              "W_mm           False\n",
              "At1_mm         False\n",
              "Ft             False\n",
              "Fm             False\n",
              "ec_cm3         False\n",
              "ep_KW          False\n",
              "z_Wh/km        False\n",
              "IT             False\n",
              "Erwltp_g/km    False\n",
              "Fc             False\n",
              "Er_km          False\n",
              "dtype: bool"
            ]
          },
          "metadata": {},
          "execution_count": 25
        }
      ],
      "source": [
        "df.isna().any()"
      ]
    },
    {
      "cell_type": "code",
      "execution_count": null,
      "metadata": {
        "id": "TNn3cR9dSZ3k"
      },
      "outputs": [],
      "source": [
        "df_copy2 = df.copy()"
      ]
    },
    {
      "cell_type": "markdown",
      "metadata": {
        "id": "EQVKiZBCFGy0"
      },
      "source": [
        "###Info"
      ]
    },
    {
      "cell_type": "code",
      "execution_count": null,
      "metadata": {
        "colab": {
          "base_uri": "https://localhost:8080/"
        },
        "id": "tZll5gtbSggi",
        "outputId": "a1af7582-0b26-45a1-a3e2-fbf8194479ee"
      },
      "outputs": [
        {
          "output_type": "stream",
          "name": "stdout",
          "text": [
            "<class 'pandas.core.frame.DataFrame'>\n",
            "Int64Index: 1589748 entries, 183427 to 7896715\n",
            "Data columns (total 15 columns):\n",
            " #   Column       Non-Null Count    Dtype  \n",
            "---  ------       --------------    -----  \n",
            " 0   Mp           1589748 non-null  object \n",
            " 1   Cr           1589748 non-null  object \n",
            " 2   m_kg         1589748 non-null  float64\n",
            " 3   Ewltp_g/km   1589748 non-null  float64\n",
            " 4   W_mm         1589748 non-null  float64\n",
            " 5   At1_mm       1589748 non-null  float64\n",
            " 6   Ft           1589748 non-null  object \n",
            " 7   Fm           1589748 non-null  object \n",
            " 8   ec_cm3       1589748 non-null  float64\n",
            " 9   ep_KW        1589748 non-null  float64\n",
            " 10  z_Wh/km      1589748 non-null  float64\n",
            " 11  IT           1589748 non-null  int64  \n",
            " 12  Erwltp_g/km  1589748 non-null  float64\n",
            " 13  Fc           1589748 non-null  float64\n",
            " 14  Er_km        1589748 non-null  float64\n",
            "dtypes: float64(10), int64(1), object(4)\n",
            "memory usage: 194.1+ MB\n"
          ]
        }
      ],
      "source": [
        "df.info()"
      ]
    },
    {
      "cell_type": "markdown",
      "metadata": {
        "id": "A7geYMTaW7JX"
      },
      "source": [
        "#Label Encoding/One Hot Encoding"
      ]
    },
    {
      "cell_type": "code",
      "execution_count": null,
      "metadata": {
        "id": "wEUO1HBCU502"
      },
      "outputs": [],
      "source": [
        "df = pd.get_dummies(df, columns=['Mp', 'Ft', 'Fm'])"
      ]
    },
    {
      "cell_type": "code",
      "execution_count": null,
      "metadata": {
        "colab": {
          "base_uri": "https://localhost:8080/"
        },
        "id": "PIvCXbLOVJCR",
        "outputId": "1285a669-976f-4e92-c969-4fa341379f5c"
      },
      "outputs": [
        {
          "output_type": "stream",
          "name": "stdout",
          "text": [
            "<class 'pandas.core.frame.DataFrame'>\n",
            "Int64Index: 1589748 entries, 183427 to 7896715\n",
            "Data columns (total 31 columns):\n",
            " #   Column                         Non-Null Count    Dtype  \n",
            "---  ------                         --------------    -----  \n",
            " 0   Cr                             1589748 non-null  int64  \n",
            " 1   m_kg                           1589748 non-null  float64\n",
            " 2   Ewltp_g/km                     1589748 non-null  float64\n",
            " 3   W_mm                           1589748 non-null  float64\n",
            " 4   At1_mm                         1589748 non-null  float64\n",
            " 5   ec_cm3                         1589748 non-null  float64\n",
            " 6   ep_KW                          1589748 non-null  float64\n",
            " 7   z_Wh/km                        1589748 non-null  float64\n",
            " 8   IT                             1589748 non-null  int64  \n",
            " 9   Erwltp_g/km                    1589748 non-null  float64\n",
            " 10  Fc                             1589748 non-null  float64\n",
            " 11  Er_km                          1589748 non-null  float64\n",
            " 12  Mp_BMW                         1589748 non-null  uint8  \n",
            " 13  Mp_FORD                        1589748 non-null  uint8  \n",
            " 14  Mp_HYUNDAI                     1589748 non-null  uint8  \n",
            " 15  Mp_KIA                         1589748 non-null  uint8  \n",
            " 16  Mp_MAZDA-SUBARU-SUZUKI-TOYOTA  1589748 non-null  uint8  \n",
            " 17  Mp_MERCEDES-BENZ               1589748 non-null  uint8  \n",
            " 18  Mp_RENAULT-NISSAN-MITSUBISHI   1589748 non-null  uint8  \n",
            " 19  Mp_STELLANTIS                  1589748 non-null  uint8  \n",
            " 20  Mp_TESLA                       1589748 non-null  uint8  \n",
            " 21  Mp_VW-SAIC                     1589748 non-null  uint8  \n",
            " 22  Ft_DIESEL                      1589748 non-null  uint8  \n",
            " 23  Ft_HYBRID                      1589748 non-null  uint8  \n",
            " 24  Ft_OTHER                       1589748 non-null  uint8  \n",
            " 25  Ft_PETROL                      1589748 non-null  uint8  \n",
            " 26  Fm_B                           1589748 non-null  uint8  \n",
            " 27  Fm_F                           1589748 non-null  uint8  \n",
            " 28  Fm_H                           1589748 non-null  uint8  \n",
            " 29  Fm_M                           1589748 non-null  uint8  \n",
            " 30  Fm_P                           1589748 non-null  uint8  \n",
            "dtypes: float64(10), int64(2), uint8(19)\n",
            "memory usage: 186.5 MB\n"
          ]
        }
      ],
      "source": [
        "from sklearn.preprocessing import LabelEncoder\n",
        "df.Cr = LabelEncoder().fit_transform(df.Cr)\n",
        "df.info()"
      ]
    }
  ],
  "metadata": {
    "colab": {
      "machine_shape": "hm",
      "provenance": [],
      "toc_visible": true
    },
    "kernelspec": {
      "display_name": "Python 3",
      "name": "python3"
    },
    "language_info": {
      "name": "python"
    }
  },
  "nbformat": 4,
  "nbformat_minor": 0
}