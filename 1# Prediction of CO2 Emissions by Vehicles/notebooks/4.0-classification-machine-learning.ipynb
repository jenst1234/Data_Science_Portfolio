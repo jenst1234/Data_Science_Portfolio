{
 "cells": [
  {
   "cell_type": "markdown",
   "metadata": {},
   "source": [
    "# **Predicting CO² Emission by Vehicles**\n",
    "## **Classification - Machine Learning**\n",
    "\n",
    "<!DOCTYPE html>\n",
    "<html>\n",
    "<head>\n",
    "<style>\n",
    "  .centered-image {\n",
    "    display: block;\n",
    "    margin: 0 auto;\n",
    "    max-width: 30%; /* Hier können Sie die maximale Breite einstellen */\n",
    "    height: auto;    /* Das Verhältnis wird beibehalten */\n",
    "  }\n",
    "</style>\n",
    "</head>\n",
    "<body>\n",
    "  <a href=>\n",
    "    <img class=\"centered-image\" src=\"https://static.vecteezy.com/system/resources/previews/005/893/697/non_2x/car-emits-co2-gas-pollution-of-carbon-dioxide-from-traffic-co2-cloud-gas-icon-traffic-pollution-from-vehicle-icon-illustration-vector.jpg\" alt=\"Co2_cars\">\n",
    "  </a>\n",
    "</body>\n",
    "</html>\n",
    "\n"
   ]
  },
  {
   "cell_type": "markdown",
   "metadata": {},
   "source": [
    "## **Load data**\n",
    "### **Import libraries**"
   ]
  },
  {
   "cell_type": "code",
   "execution_count": 45,
   "metadata": {},
   "outputs": [],
   "source": [
    "import pandas as pd\n",
    "import numpy as np\n",
    "from imblearn.over_sampling import RandomOverSampler\n",
    "import seaborn as sns\n",
    "import matplotlib.pyplot as plt\n",
    "import matplotlib.ticker as mticker\n",
    "from matplotlib.patches import Patch\n",
    "from matplotlib.lines import Line2D\n",
    "from scipy import stats\n",
    "from mpl_toolkits.mplot3d import Axes3D\n",
    "import sklearn.metrics as metrics\n",
    "from sklearn.metrics import mean_squared_error, r2_score\n",
    "from tqdm.notebook import *\n",
    "from sklearn.preprocessing import OneHotEncoder # for one-hot encoding\n",
    "from sklearn.model_selection import train_test_split\n",
    "from sklearn.tree import DecisionTreeClassifier\n",
    "from sklearn.metrics import classification_report, roc_curve, auc, roc_auc_score, accuracy_score, confusion_matrix, f1_score\n",
    "import joblib\n",
    "from sklearn.model_selection import cross_validate\n",
    "import os\n",
    "from sklearn.ensemble import RandomForestClassifier, VotingClassifier\n",
    "from sklearn.neighbors import KNeighborsClassifier\n",
    "import xgboost as xgb\n",
    "from sklearn.model_selection import KFold, cross_val_score, GridSearchCV, cross_validate\n",
    "from xgboost import XGBClassifier\n",
    "from sklearn.preprocessing import StandardScaler, RobustScaler\n",
    "import warnings\n",
    "warnings.filterwarnings(\"ignore\")\n",
    "%matplotlib inline\n",
    "\n"
   ]
  },
  {
   "cell_type": "markdown",
   "metadata": {},
   "source": [
    "### **Load data**"
   ]
  },
  {
   "cell_type": "code",
   "execution_count": null,
   "metadata": {},
   "outputs": [],
   "source": [
    "# script was initally used locally, so the data path may be different\n",
    "#df = pd.read_csv(r\"C:\\Datasets\\CO2_Emissions\\data_2021_CO2_Project_Fr_preprocessed.csv\")\n",
    "\n",
    "df = pd.read_csv(\"../data/data_2021_CO2_Project_Fr_preprocessed.csv\")"
   ]
  },
  {
   "cell_type": "markdown",
   "metadata": {},
   "source": [
    "### **Preprocessing ML**"
   ]
  },
  {
   "cell_type": "code",
   "execution_count": 46,
   "metadata": {},
   "outputs": [],
   "source": [
    "# Create a target variable 'target' by binning the values in 'Ewltp_g/km'\n",
    "target = pd.cut(x=df['Ewltp_g/km'], bins=[0, 100, 120, 140, 160, 200, 250, np.inf], labels=['1', '2', '3', '4', '5', '6', '7'], right=True)\n",
    "\n",
    "# Drop the column 'Ewltp_g/km' from the DataFrame\n",
    "data = df.drop('Ewltp_g/km', axis=1)"
   ]
  },
  {
   "cell_type": "code",
   "execution_count": 48,
   "metadata": {},
   "outputs": [],
   "source": [
    "# Drop the columns 'Cr', 'IT', 'Fc', and 'Er_km' from the DataFrame\n",
    "data = data.drop(['Cr', 'IT', 'Fc', 'Er_km'], axis=1)"
   ]
  },
  {
   "cell_type": "markdown",
   "metadata": {},
   "source": [
    "### **Oversampling**"
   ]
  },
  {
   "cell_type": "markdown",
   "metadata": {},
   "source": [
    "To tackle the issue of imbalanced class distribution within the dataset, oversampling techniques were employed. Specifically, the 'RandomOverSampler' from the 'imbalanced-learn' library was utilized. This process involves generating synthetic samples for the minority classes, thereby balancing the class distribution and preventing the model from being biased towards the majority class.\n",
    "Before the application of oversampling, the dataset exhibited a certain distribution among its classes. Post-oversampling, the dataset underwent a transformation to ensure a more equitable representation of classes, contributing to a more balanced and fair training process. This strategic preprocessing step is essential for improving the model's capacity to recognize patterns and make accurate predictions across all classes, ultimately enhancing the Random Forest Classifier's robustness and reliability.\n"
   ]
  },
  {
   "cell_type": "code",
   "execution_count": 49,
   "metadata": {},
   "outputs": [
    {
     "name": "stdout",
     "output_type": "stream",
     "text": [
      "Data shape before over-sampling (1589748, 26)\n",
      "Data shape after over-sampling (4808811, 26)\n"
     ]
    }
   ],
   "source": [
    "# Display the shape of the data before over-sampling\n",
    "print(f'Data shape before over-sampling {data.shape}')\n",
    "\n",
    "# Create a RandomOverSampler instance\n",
    "ros = RandomOverSampler()\n",
    "\n",
    "# Apply over-sampling to the data and target variables\n",
    "data_ros, target_ros = ros.fit_resample(data, target)\n",
    "\n",
    "# Display the shape of the data after over-sampling\n",
    "print(f'Data shape after over-sampling {data_ros.shape}')"
   ]
  },
  {
   "cell_type": "markdown",
   "metadata": {},
   "source": [
    "## **Functions**"
   ]
  },
  {
   "cell_type": "markdown",
   "metadata": {},
   "source": [
    "### **Split and Scale Data**"
   ]
  },
  {
   "cell_type": "code",
   "execution_count": 50,
   "metadata": {},
   "outputs": [],
   "source": [
    "# Function to Split and Scale the Data\n",
    "\n",
    "def split_scale(X, y, test_size=0.3, scaler_to_apply=StandardScaler):\n",
    "    \"\"\"\n",
    "    Split the data into training and testing sets, and scale the features.\n",
    "\n",
    "    Parameters:\n",
    "    - X: Features data\n",
    "    - y: Target variable data\n",
    "    - test_size: Proportion of the data to include in the test split (default is 0.3)\n",
    "    - scaler_to_apply: Scaler to be applied (default is StandardScaler)\n",
    "\n",
    "    Returns:\n",
    "    - X_train_scaled: Scaled features for the training set\n",
    "    - X_test_scaled: Scaled features for the testing set\n",
    "    - y_train: Target variable for the training set\n",
    "    - y_test: Target variable for the testing set\n",
    "    \"\"\"\n",
    "\n",
    "    # Split the data into training and testing sets, maintaining the stratification of the target variable\n",
    "    X_train, X_test, y_train, y_test = train_test_split(X, y, test_size=test_size, stratify=y)\n",
    "\n",
    "    # Initialize the scaler\n",
    "    scaler = scaler_to_apply()\n",
    "\n",
    "    # Fit the scaler on the training data and transform both training and testing sets\n",
    "    scaler.fit(X_train, y_train)\n",
    "    X_train_scaled = scaler.transform(X_train)\n",
    "    X_test_scaled = scaler.transform(X_test)\n",
    "\n",
    "    # Return the scaled data along with the target variables\n",
    "    return X_train_scaled, X_test_scaled, y_train, y_test\n",
    "\n",
    "\n",
    "# Apply the split_scale function to the data and target variables using StandardScaler\n",
    "X_train, X_test, y_train, y_test = split_scale(data_ros, target_ros, scaler_to_apply=StandardScaler)\n"
   ]
  },
  {
   "cell_type": "markdown",
   "metadata": {},
   "source": [
    "### **Feature importance**"
   ]
  },
  {
   "cell_type": "code",
   "execution_count": 56,
   "metadata": {},
   "outputs": [],
   "source": [
    "\n",
    "def display_feature_importance(data, feature_names, clf, top_n=10):\n",
    "    '''\n",
    "    Display a horizontal bar plot of the top N feature importances\n",
    "    clf : fitted classifier with results including feature_importances_\n",
    "    data : data including feature names\n",
    "    feature_names : list of feature names\n",
    "    top_n : number of top features to display (default is 10)\n",
    "    Returns:\n",
    "      - Bar plot\n",
    "      - Feature importance as data Frame {'Feature': , 'Importance':}\n",
    "      - Top N feature importances as a list\n",
    "    '''\n",
    "\n",
    "    feature_importance = clf.feature_importances_\n",
    "    indices = feature_importance.argsort()[::-1][:top_n] \n",
    "    sorted_feature_names = [feature_names[i] for i in indices]\n",
    "    top_n_feature_importances = feature_importance[indices]\n",
    "\n",
    "    # Create a DataFrame to display feature importance\n",
    "    feature_importance_df = pd.DataFrame({'Feature': sorted_feature_names, 'Importance': top_n_feature_importances})\n",
    "\n",
    "    # Print top N feature importances\n",
    "    print(f'Top {top_n} Feature Importances:')\n",
    "    for feature, importance in zip(sorted_feature_names, top_n_feature_importances):\n",
    "        print(f'{feature}: {importance:.4f}')\n",
    "\n",
    "    # Plot the feature importance using sns.barplot\n",
    "    plt.figure(figsize=(10, 6))\n",
    "    sns.barplot(x='Importance', y='Feature', data=feature_importance_df, palette='viridis')\n",
    "\n",
    "    plt.xlabel('Importance')\n",
    "    plt.ylabel('Feature')\n",
    "    plt.title(f'', loc=\"left\", fontweight=\"bold\", pad=20)\n",
    "    plt.show()\n",
    "    \n",
    "    return feature_importance_df, list(zip(sorted_feature_names, top_n_feature_importances))\n"
   ]
  },
  {
   "cell_type": "markdown",
   "metadata": {},
   "source": [
    "### **Results**"
   ]
  },
  {
   "cell_type": "code",
   "execution_count": 54,
   "metadata": {},
   "outputs": [],
   "source": [
    "# Function to Evaluate Classifier Performance and Provide Insights\n",
    "\n",
    "def classifier_results(X_train, y_train, X_test, y_test, feature_names, clf_name, n_folds=5,  **params):\n",
    "    \"\"\"\n",
    "    Evaluate the performance of a classifier, display various metrics, and save the trained model.\n",
    "\n",
    "    Parameters:\n",
    "    - X_train: Features data for the training set\n",
    "    - y_train: Target variable data for the training set\n",
    "    - X_test: Features data for the testing set\n",
    "    - y_test: Target variable data for the testing set\n",
    "    - feature_names: Names of the features\n",
    "    - clf_name: Classifier class to be used\n",
    "    - n_folds: Number of folds for cross-validation (default is 5)\n",
    "    - **params: Additional parameters for the classifier\n",
    "\n",
    "    Returns:\n",
    "    - Dictionary containing various outputs and metrics\n",
    "    \"\"\"\n",
    "\n",
    "    # Initiate a classifier from the provided classifier class\n",
    "    clf = clf_name(**params)\n",
    "\n",
    "    # Fit the classifier on the training set\n",
    "    clf.fit(X_train, y_train)\n",
    "\n",
    "    # Print the accuracy score based on the test set\n",
    "    print(f'({clf_name} score = {format(clf.score(X_test, y_test), \".2f\")})')\n",
    "\n",
    "    # Run cross-validation and print scores for each scoring metric used\n",
    "    cv_kf = KFold(n_splits=n_folds, shuffle=True)\n",
    "    scoring_metrics = ['roc_auc_ovr', 'f1_macro']\n",
    "    clf_scores = cross_validate(clf, X_train, y_train, cv=cv_kf, scoring=scoring_metrics, return_train_score=False)\n",
    "    for metric in scoring_metrics:\n",
    "        mean_score = clf_scores[f'test_{metric}'].mean()\n",
    "        print(f\"Mean {metric}:\", mean_score)\n",
    "\n",
    "    # Display feature importance Bar plot\n",
    "    feature_importance = display_feature_importance(X_train, feature_names, clf)\n",
    "\n",
    "    # Predict the target for the test set\n",
    "    y_pred = clf.predict(X_test)\n",
    "\n",
    "    # Display confusion matrix\n",
    "    conf_mat = pd.DataFrame(pd.crosstab(y_test, y_pred, rownames=['True Values'], colnames=['Predictions']))\n",
    "    print(conf_mat)\n",
    "\n",
    "    # Display classification report\n",
    "    classif_report = classification_report(y_test, y_pred)\n",
    "    print(classif_report)\n",
    "\n",
    "    # Save the trained classifier using joblib with a dynamically generated filename and full path\n",
    "    #folder_path = r'C:\\Datasets\\CO2_Emissions\\Streamlit'\n",
    "    #filename = os.path.join(folder_path, f'{clf_name.__name__}_trained_classifier.joblib')\n",
    "    #joblib.dump(clf, filename)\n",
    "\n",
    "    # Create a dictionary with various outputs and metrics\n",
    "    output = {\n",
    "        'clf_': clf,\n",
    "        'clf_scores_': clf_scores,\n",
    "        'feature_importance_': feature_importance,\n",
    "        'predictions_': y_pred,\n",
    "        'conf_mat_': conf_mat,\n",
    "        'classif_report_': classif_report,\n",
    "     #   'filename': filename\n",
    "    }\n",
    "\n",
    "    return output\n"
   ]
  },
  {
   "cell_type": "markdown",
   "metadata": {},
   "source": [
    "## **Classification models**"
   ]
  },
  {
   "cell_type": "markdown",
   "metadata": {},
   "source": [
    "### **Selecting a Classification Model**\n",
    "Choosing an appropriate classification model is crucial for the success of a Machine Learning project. In our case, after careful evaluation of requirements and data context, we opted for the Random Forest, Decision Tree, and XGBoost models. The selection is based on various aspects:\n",
    "1. **Random Forest:**\n",
    "- Ensemble Technique: Random Forest is an ensemble technique based on multiple Decision Trees. Combining multiple models enhances robustness and reduces overfitting.\n",
    "- High Precision: Aggregating predictions from many Decision Trees often results in higher precision and robustness against outliers compared to individual Decision Trees.\n",
    "- Handling Feature Diversity: Random Forest can effectively handle datasets with a variety of features and provides automatic feature importance evaluations.\n",
    "\n",
    "\n",
    "2. **Decision Tree:**\n",
    "- Simple Interpretation: Decision trees are easily understandable and interpretable. This is crucial for gaining insights into the model's decision-making and explaining results to stakeholders.\n",
    "- Natural Decision Structure: Decision Trees model decisions in an intuitive tree structure, often resembling human-like reasoning.\n",
    "3. **XGBoost (Extreme Gradient Boosting):**\n",
    "- Gradient Boosting Technique: XGBoost is a powerful implementation of the gradient boosting technique, allowing gradual improvement of model performance by combining multiple weak models.\n",
    "- High Precision and Speed: XGBoost offers high precision with fast processing, making it a popular choice in competitions and demanding projects.\n",
    "- Overfitting Regulation: Implementation of regularization techniques in XGBoost helps prevent overfitting and stabilizes model performance.\n",
    "4. **Overall Selection Justification:**\n",
    "- Ensemble Advantages: By integrating Random Forest and XGBoost, we harness the advantages of ensemble methods to achieve robust, precise, and generalizable classification.\n",
    "- Interpretability and Simplicity: The inclusion of a Decision Tree allows for straightforward interpretation and explanation of model decisions, particularly crucial when the model influences political or business decisions.\n",
    "- Consideration of Data Complexity: The model selection considers the potential complexity of the data, ranging from simpler Decision Trees to powerful ensemble techniques.\n",
    "\n",
    "Overall, this selection provides a balanced trade-off between precision, interpretability, and robustness. The models were evaluated and fine-tuned on a validation dataset to ensure good generalization and avoid overfitting before assessing their final performance on the test dataset.\n"
   ]
  },
  {
   "cell_type": "markdown",
   "metadata": {},
   "source": [
    "### **Basic Random Forest**\n",
    "#### **Implemenation**"
   ]
  },
  {
   "cell_type": "markdown",
   "metadata": {},
   "source": [
    "In the implementation of the Machine Learning model, we employed the 'scikit-learn' library, a versatile and widely-used toolkit for various data analysis and modeling tasks. The primary focus was on utilizing the Random Forest Classifier, a powerful Ensemble Learning method. The 'RandomForestClassifier' class within scikit-learn provided the foundation for constructing the ensemble model, which is essentially a collection of Decision Trees.\n",
    "\n",
    "The dataset was divided into training and testing sets with a testing size of 0.3, represented by X_train, y_train, X_test, and y_test. To better understand the features used in the analysis, we referenced data_ros.columns to obtain the column names. This step is crucial for maintaining clarity and coherence throughout the analysis.\n",
    "\n",
    "During the training phase, the 'RandomForestClassifier' was configured with specific parameters to enhance model performance and efficiency. Cross-validation, a robust technique for assessing model generalization, was employed with n_folds set to 5. This parameter determines the number of folds in the cross-validation process, contributing to a thorough evaluation of the model's predictive capabilities.\n",
    "\n",
    "Additionally, the ‘n_jobs’ parameter was set to -1, indicating parallelization across all available processor cores. This optimization significantly accelerated the training process, making it more efficient and scalable.\n",
    "The resulting Random Forest model was then evaluated using the testing set, providing valuable insights into its performance metrics, such as accuracy, precision, recall, and F1-score. Moreover, the feature importance analysis was conducted to identify the significance of each feature in contributing to the model's predictions.\n"
   ]
  },
  {
   "cell_type": "code",
   "execution_count": 57,
   "metadata": {},
   "outputs": [
    {
     "name": "stdout",
     "output_type": "stream",
     "text": [
      "(<class 'sklearn.ensemble._forest.RandomForestClassifier'> score = 0.97)\n",
      "Mean roc_auc_ovr: 0.9992732687580318\n",
      "Mean f1_macro: 0.9710974576683172\n",
      "Top 10 Feature Importances:\n",
      "ep_KW: 0.1909\n",
      "m_kg: 0.1760\n",
      "At1_mm: 0.1234\n",
      "ec_cm3: 0.1116\n",
      "W_mm: 0.0838\n",
      "z_Wh/km: 0.0417\n",
      "Erwltp_g/km: 0.0394\n",
      "Fm_P: 0.0356\n",
      "Ft_HYBRID: 0.0351\n",
      "Ft_PETROL: 0.0239\n"
     ]
    },
    {
     "data": {
      "image/png": "[encoded data removed]",
      "text/plain": [
       "<Figure size 1000x600 with 1 Axes>"
      ]
     },
     "metadata": {},
     "output_type": "display_data"
    },
    {
     "name": "stdout",
     "output_type": "stream",
     "text": [
      "Predictions       1       2       3       4       5       6       7\n",
      "True Values                                                        \n",
      "1            144256       8       0       0       0       0       0\n",
      "2               109  140701    3454       0       0       0       0\n",
      "3                 0    6198  132904    5163       0       0       0\n",
      "4                 2       0    3112  135900    5251       0       0\n",
      "5                 0       0       0    2955  140778     532       0\n",
      "6                 0       0       0       0      86  142894    1284\n",
      "7                 0       0       0       0       0    1027  143237\n",
      "              precision    recall  f1-score   support\n",
      "\n",
      "           1       1.00      1.00      1.00    144264\n",
      "           2       0.96      0.98      0.97    144264\n",
      "           3       0.95      0.92      0.94    144265\n",
      "           4       0.94      0.94      0.94    144265\n",
      "           5       0.96      0.98      0.97    144265\n",
      "           6       0.99      0.99      0.99    144264\n",
      "           7       0.99      0.99      0.99    144264\n",
      "\n",
      "    accuracy                           0.97   1009851\n",
      "   macro avg       0.97      0.97      0.97   1009851\n",
      "weighted avg       0.97      0.97      0.97   1009851\n",
      "\n"
     ]
    }
   ],
   "source": [
    "# Run random forest classifier on ros data\n",
    "rf_basic_ros = classifier_results(X_train, y_train, X_test, y_test, data_ros.columns,\n",
    "                                   RandomForestClassifier,\n",
    "                                   n_folds=5,\n",
    "                                   **{'n_jobs': -1})"
   ]
  },
  {
   "cell_type": "markdown",
   "metadata": {},
   "source": [
    "#### **Evaluation:  Basic Random Forest**\n",
    "\n",
    "- The Random Forest Classifier showcased exceptional performance across various metrics, affirming its suitability for the vehicle classification task. With an impressive overall accuracy of 97%, the model demonstrated a high level of correctness in predicting vehicle types within the test dataset.\n",
    "- A notable strength of the Random Forest model is evident in the ‘mean roc_auc_ovr value’ of 0.9993, emphasizing its outstanding ability to discriminate between different vehicle classes. This metric is particularly crucial in multi-class classification scenarios, and the model's near-perfect score reflects its robust discriminatory power.\n",
    "- The ‘mean f1_macro score’, standing at 0.9712, further underscores the model's proficiency. This metric provides a balanced assessment of precision and recall across all classes, indicating that the Random Forest Classifier maintains a harmonious trade-off between accurately identifying positive instances and avoiding false positives.\n",
    "- Precision, a key metric, measures the model's ability to correctly classify positive instances among the predicted positive labels. In the context of the Random Forest Classifier, high precision values across different vehicle classes highlight the model's accuracy in avoiding false positives and making precise predictions for each category.\n",
    "- The confusion matrix provides a detailed breakdown of the model's predictions, illustrating correct and erroneous classifications for each class. Notably, the diagonal elements, representing correct predictions, dominate the matrix, confirming the model's overall accuracy.\n",
    "- Analyzing class-specific metrics, including precision, recall, and F1-Score, offers insights into the model's performance for individual classes. High precision values indicate the model's proficiency in minimizing false positives and making precise predictions for each vehicle type.\n",
    "\n",
    "#### **Feature Importance**\n",
    "\n",
    "- Engine power (‘ep_KW’) and vehicle weight (‘m_kg’) emerge as the most influential features, contributing 19.09% and 17.60%, respectively, to the decision-making process of the Random Forest model. The dimensional attribute At1_mm and engine capacity (‘ec_cm3’) also play crucial roles, representing 12.34% and 11.16% importance, respectively.\n",
    "- Furthermore, features such as ‘W_mm’, ‘z_Wh/km’, ‘Erwltp_g/km’, and fuel-related attributes like ‘Fm_P’, ‘Ft_HYBRID’, and ‘Ft_PETROL’, contribute significantly to the model's accuracy. The feature importance values range from 8.38% to 2.39%, indicating the varying degrees of influence each attribute has on the model's predictions.\n",
    "\n",
    "\n",
    "\n"
   ]
  },
  {
   "cell_type": "markdown",
   "metadata": {},
   "source": [
    "### **Basic DecisionTree**"
   ]
  },
  {
   "cell_type": "markdown",
   "metadata": {},
   "source": [
    "#### **Implementation**\n",
    "\n",
    "In our analysis, we implemented the Decision Tree Classifier using the 'scikit-learn' library in Python. The Decision Tree model stands out as a powerful tool for classification tasks due to its interpretability and versatility. The following outlines how we configured, trained, and evaluated the Decision Tree model. We initiated the Decision Tree classifier using the DecisionTreeClassifier class from scikit-learn, a widely used Machine Learning library. The dataset was divided into training and testing sets using the 'train_test_split' function to ensure the model's generalization to unseen data. To robustly assess the model's performance, we employed K-Fold Cross-Validation with 5 folds. This approach provides a more reliable estimate of the model's capabilities by training and testing on different subsets of the data. For model evaluation, we chose essential scoring metrics, including 'roc_auc_ovr' (area under the ROC curve) and 'f1_macro' (F1-Score). These metrics offer insights into the model's ability to discriminate between classes and its overall performance. To better understand the features contributing to the model's decisions, we visualized the feature importance using a bar plot. This step aids in identifying the most influential variables in the classification process. Finally, we made predictions on the test set and presented the results through a confusion matrix and a classification report. These provide a detailed breakdown of predictions for each class, including precision, recall, and F1-Score.\n",
    "\n",
    "\n"
   ]
  },
  {
   "cell_type": "code",
   "execution_count": 269,
   "metadata": {},
   "outputs": [
    {
     "name": "stdout",
     "output_type": "stream",
     "text": [
      "(<class 'sklearn.tree._classes.DecisionTreeClassifier'> score = 0.97)\n",
      "Mean roc_auc_ovr: 0.9992657535084067\n",
      "Mean f1_macro: 0.9711316137321315\n",
      "Top 10 Feature Importances:\n",
      "ep_KW: 0.3022\n",
      "m_kg: 0.2573\n",
      "Ft_HYBRID: 0.1166\n",
      "At1_mm: 0.0726\n",
      "ec_cm3: 0.0497\n",
      "Fm_H: 0.0430\n",
      "W_mm: 0.0419\n",
      "Erwltp_g/km: 0.0282\n",
      "Ft_OTHER: 0.0180\n",
      "Ft_PETROL: 0.0141\n"
     ]
    },
    {
     "data": {
      "image/png": "[encoded data removed]",
      "text/plain": [
       "<Figure size 1000x600 with 1 Axes>"
      ]
     },
     "metadata": {},
     "output_type": "display_data"
    },
    {
     "name": "stdout",
     "output_type": "stream",
     "text": [
      "Predictions       1       2       3       4       5       6       7\n",
      "True Values                                                        \n",
      "1            206082      10       0       0       0       0       0\n",
      "2               145  200830    5117       0       0       0       0\n",
      "3                 0    8678  190290    7124       0       0       0\n",
      "4                 4       0    4515  197016    4556       1       0\n",
      "5                 0       0       0    7217  198112     763       0\n",
      "6                 0       0       0       0     145  203904    2043\n",
      "7                 0       0       0       0       0    1163  204929\n",
      "              precision    recall  f1-score   support\n",
      "\n",
      "           1       1.00      1.00      1.00    206092\n",
      "           2       0.96      0.97      0.97    206092\n",
      "           3       0.95      0.92      0.94    206092\n",
      "           4       0.93      0.96      0.94    206092\n",
      "           5       0.98      0.96      0.97    206092\n",
      "           6       0.99      0.99      0.99    206092\n",
      "           7       0.99      0.99      0.99    206092\n",
      "\n",
      "    accuracy                           0.97   1442644\n",
      "   macro avg       0.97      0.97      0.97   1442644\n",
      "weighted avg       0.97      0.97      0.97   1442644\n",
      "\n"
     ]
    }
   ],
   "source": [
    "# Create a Decision Tree Classifier instance with default parameters\n",
    "dt_basic = classifier_results(X_train, y_train, X_test, y_test, data_ros.columns,\n",
    "                                          DecisionTreeClassifier,\n",
    "                                          n_folds=5,\n",
    "                                          **{})"
   ]
  },
  {
   "cell_type": "markdown",
   "metadata": {},
   "source": [
    "#### **Evaluation: Basic DecisionTree**\n",
    "\n",
    "- The Decision Tree model has demonstrated exceptional efficacy in predicting vehicle categories within the test set, achieving an impressive accuracy of 97%. This accuracy reflects the model's ability to make correct predictions across the seven distinct classes, showcasing its proficiency in handling complex classification tasks.\n",
    "- Robust Discrimination Capability: The model's discriminative power is highlighted by its exceptional mean roc_auc_ovr score of 0.9993. This score signifies the model's robustness in distinguishing between the different vehicle categories, showcasing its capability to effectively capture the underlying patterns in the data.\n",
    "- Precision-Recall Balance: The mean f1_macro score, standing at 0.9711, indicates a harmonious balance between precision and recall across all classes. This equilibrium is crucial in classification tasks, ensuring that the model maintains accuracy while considering both false positives and false negatives. The model's ability to strike this balance is a testament to its adaptability in capturing the complexities of the dataset.\n",
    "- Confusion Matrix Insights: The confusion matrix provides a detailed breakdown of the model's predictions for each class, offering valuable insights into various performance metrics.\n",
    "- Precision (0.93 to 1): Precision scores ranging from 0.93 to 1 demonstrate the model's precision in correctly identifying instances for each class. A high precision score implies a low rate of false positives, indicating the model's accuracy in labeling instances.\n",
    "- Recall (0.92 to 1): Recall values between 0.92 and 1 reflect the model's effectiveness in capturing a significant portion of positive instances for each class. A high recall emphasizes the model's ability to detect relevant patterns within the data.\n",
    "- F1-Score (0.94 to 1): F1-Scores, harmonizing precision and recall, range from 0.94 to 1, underscoring the model's overall accuracy. The F1-Score considers both false positives and false negatives, providing a comprehensive assessment of the model's performance.\n",
    "\n",
    "In conclusion, the Decision Tree model exhibits a robust classification performance, excelling in accuracy, discrimination capability, and the delicate balance between precision and recall across diverse vehicle classes. These findings establish the Decision Tree model as a compelling choice for this classification task, laying the groundwork for further model comparisons and in-depth analysis.\n",
    "\n",
    "#### **Feature Importance**\n"
   ]
  },
  {
   "cell_type": "markdown",
   "metadata": {},
   "source": [
    "- The bar plot illustrates the top 10 feature importances derived from our Decision Tree classification model. The analysis underscores the pivotal role of certain features in predicting CO² emissions from vehicles. Notably, engine power (‘ep_KW’) and vehicle weight (‘m_kg’) emerge as the most influential factors, contributing 30.22% and 25.73%, respectively, to the model's decision-making process.The presence of hybrid fuel type (‘Ft_HYBRID’) also plays a significant role, representing 11.66% importance in the model's predictions.\n",
    "- In addition, the dimensional features, ‘At1’_mm and ‘W_mm’, as well as engine-related attributes like fuel metering system (‘Fm_H’) and engine capacity (‘ec_cm3’), are identified as essential contributors to the model's robust performance. The feature importance values, ranging from 4.41% to 0.37%, emphasize the varying degrees of influence each attribute exerts on the model's predictions.\n"
   ]
  },
  {
   "cell_type": "markdown",
   "metadata": {},
   "source": [
    "#### **Optimization DecisionTree**"
   ]
  },
  {
   "cell_type": "markdown",
   "metadata": {},
   "source": [
    "The hyperparameter tuning process for the Decision Tree model involved a meticulous exploration of key parameters to enhance the model's predictive performance. Here's a detailed breakdown of the hyperparameters and their respective settings:\n",
    "1.\t**‘criterion’:**\n",
    "- The criterion parameter defines the quality measurement function for the split.\n",
    "- Options considered: 'gini', 'entropy', and 'log_loss'.\n",
    "1.\t**‘max_depth’:**\n",
    "- Specifies the maximum depth of the Decision Tree.\n",
    "- Tested values: 5, 10, 25, 50, 100.\n",
    "\n",
    "The tuning process also followed a systematic Grid Search approach, where various combinations of these hyperparameters were evaluated using KFold cross-validation with 3 folds and random shuffling. This ensured a robust assessment of model performance across different data splits, helping identify the optimal configuration.\n",
    "The chosen values for criterion aimed to assess different split criteria, such as Gini impurity, information gain (‘entropy’), and ‘log loss’. For ‘max_depth’, the exploration focused on varying tree depths to strike a balance between capturing complex patterns and preventing overfitting.\n",
    "The Grid Search methodology allowed for an exhaustive search through the hyperparameter space, aiming to maximize the model's effectiveness. This methodical approach aligns with our commitment to precision and efficiency in model development, tailored to the specific requirements of our dataset.\n"
   ]
  },
  {
   "cell_type": "code",
   "execution_count": 270,
   "metadata": {},
   "outputs": [
    {
     "data": {
      "text/html": [
       "<style>#sk-container-id-6 {color: black;background-color: white;}#sk-container-id-6 pre{padding: 0;}#sk-container-id-6 div.sk-toggleable {background-color: white;}#sk-container-id-6 label.sk-toggleable__label {cursor: pointer;display: block;width: 100%;margin-bottom: 0;padding: 0.3em;box-sizing: border-box;text-align: center;}#sk-container-id-6 label.sk-toggleable__label-arrow:before {content: \"▸\";float: left;margin-right: 0.25em;color: #696969;}#sk-container-id-6 label.sk-toggleable__label-arrow:hover:before {color: black;}#sk-container-id-6 div.sk-estimator:hover label.sk-toggleable__label-arrow:before {color: black;}#sk-container-id-6 div.sk-toggleable__content {max-height: 0;max-width: 0;overflow: hidden;text-align: left;background-color: #f0f8ff;}#sk-container-id-6 div.sk-toggleable__content pre {margin: 0.2em;color: black;border-radius: 0.25em;background-color: #f0f8ff;}#sk-container-id-6 input.sk-toggleable__control:checked~div.sk-toggleable__content {max-height: 200px;max-width: 100%;overflow: auto;}#sk-container-id-6 input.sk-toggleable__control:checked~label.sk-toggleable__label-arrow:before {content: \"▾\";}#sk-container-id-6 div.sk-estimator input.sk-toggleable__control:checked~label.sk-toggleable__label {background-color: #d4ebff;}#sk-container-id-6 div.sk-label input.sk-toggleable__control:checked~label.sk-toggleable__label {background-color: #d4ebff;}#sk-container-id-6 input.sk-hidden--visually {border: 0;clip: rect(1px 1px 1px 1px);clip: rect(1px, 1px, 1px, 1px);height: 1px;margin: -1px;overflow: hidden;padding: 0;position: absolute;width: 1px;}#sk-container-id-6 div.sk-estimator {font-family: monospace;background-color: #f0f8ff;border: 1px dotted black;border-radius: 0.25em;box-sizing: border-box;margin-bottom: 0.5em;}#sk-container-id-6 div.sk-estimator:hover {background-color: #d4ebff;}#sk-container-id-6 div.sk-parallel-item::after {content: \"\";width: 100%;border-bottom: 1px solid gray;flex-grow: 1;}#sk-container-id-6 div.sk-label:hover label.sk-toggleable__label {background-color: #d4ebff;}#sk-container-id-6 div.sk-serial::before {content: \"\";position: absolute;border-left: 1px solid gray;box-sizing: border-box;top: 0;bottom: 0;left: 50%;z-index: 0;}#sk-container-id-6 div.sk-serial {display: flex;flex-direction: column;align-items: center;background-color: white;padding-right: 0.2em;padding-left: 0.2em;position: relative;}#sk-container-id-6 div.sk-item {position: relative;z-index: 1;}#sk-container-id-6 div.sk-parallel {display: flex;align-items: stretch;justify-content: center;background-color: white;position: relative;}#sk-container-id-6 div.sk-item::before, #sk-container-id-6 div.sk-parallel-item::before {content: \"\";position: absolute;border-left: 1px solid gray;box-sizing: border-box;top: 0;bottom: 0;left: 50%;z-index: -1;}#sk-container-id-6 div.sk-parallel-item {display: flex;flex-direction: column;z-index: 1;position: relative;background-color: white;}#sk-container-id-6 div.sk-parallel-item:first-child::after {align-self: flex-end;width: 50%;}#sk-container-id-6 div.sk-parallel-item:last-child::after {align-self: flex-start;width: 50%;}#sk-container-id-6 div.sk-parallel-item:only-child::after {width: 0;}#sk-container-id-6 div.sk-dashed-wrapped {border: 1px dashed gray;margin: 0 0.4em 0.5em 0.4em;box-sizing: border-box;padding-bottom: 0.4em;background-color: white;}#sk-container-id-6 div.sk-label label {font-family: monospace;font-weight: bold;display: inline-block;line-height: 1.2em;}#sk-container-id-6 div.sk-label-container {text-align: center;}#sk-container-id-6 div.sk-container {/* jupyter's `normalize.less` sets `[hidden] { display: none; }` but bootstrap.min.css set `[hidden] { display: none !important; }` so we also need the `!important` here to be able to override the default hidden behavior on the sphinx rendered scikit-learn.org. See: https://github.com/scikit-learn/scikit-learn/issues/21755 */display: inline-block !important;position: relative;}#sk-container-id-6 div.sk-text-repr-fallback {display: none;}</style><div id=\"sk-container-id-6\" class=\"sk-top-container\"><div class=\"sk-text-repr-fallback\"><pre>GridSearchCV(cv=KFold(n_splits=3, random_state=None, shuffle=True),\n",
       "             estimator=DecisionTreeClassifier(),\n",
       "             param_grid={&#x27;criterion&#x27;: [&#x27;gini&#x27;, &#x27;entropy&#x27;, &#x27;log_loss&#x27;],\n",
       "                         &#x27;max_depth&#x27;: [5, 10, 25, 50, 100]})</pre><b>In a Jupyter environment, please rerun this cell to show the HTML representation or trust the notebook. <br />On GitHub, the HTML representation is unable to render, please try loading this page with nbviewer.org.</b></div><div class=\"sk-container\" hidden><div class=\"sk-item sk-dashed-wrapped\"><div class=\"sk-label-container\"><div class=\"sk-label sk-toggleable\"><input class=\"sk-toggleable__control sk-hidden--visually\" id=\"sk-estimator-id-10\" type=\"checkbox\" ><label for=\"sk-estimator-id-10\" class=\"sk-toggleable__label sk-toggleable__label-arrow\">GridSearchCV</label><div class=\"sk-toggleable__content\"><pre>GridSearchCV(cv=KFold(n_splits=3, random_state=None, shuffle=True),\n",
       "             estimator=DecisionTreeClassifier(),\n",
       "             param_grid={&#x27;criterion&#x27;: [&#x27;gini&#x27;, &#x27;entropy&#x27;, &#x27;log_loss&#x27;],\n",
       "                         &#x27;max_depth&#x27;: [5, 10, 25, 50, 100]})</pre></div></div></div><div class=\"sk-parallel\"><div class=\"sk-parallel-item\"><div class=\"sk-item\"><div class=\"sk-label-container\"><div class=\"sk-label sk-toggleable\"><input class=\"sk-toggleable__control sk-hidden--visually\" id=\"sk-estimator-id-11\" type=\"checkbox\" ><label for=\"sk-estimator-id-11\" class=\"sk-toggleable__label sk-toggleable__label-arrow\">estimator: DecisionTreeClassifier</label><div class=\"sk-toggleable__content\"><pre>DecisionTreeClassifier()</pre></div></div></div><div class=\"sk-serial\"><div class=\"sk-item\"><div class=\"sk-estimator sk-toggleable\"><input class=\"sk-toggleable__control sk-hidden--visually\" id=\"sk-estimator-id-12\" type=\"checkbox\" ><label for=\"sk-estimator-id-12\" class=\"sk-toggleable__label sk-toggleable__label-arrow\">DecisionTreeClassifier</label><div class=\"sk-toggleable__content\"><pre>DecisionTreeClassifier()</pre></div></div></div></div></div></div></div></div></div></div>"
      ],
      "text/plain": [
       "GridSearchCV(cv=KFold(n_splits=3, random_state=None, shuffle=True),\n",
       "             estimator=DecisionTreeClassifier(),\n",
       "             param_grid={'criterion': ['gini', 'entropy', 'log_loss'],\n",
       "                         'max_depth': [5, 10, 25, 50, 100]})"
      ]
     },
     "execution_count": 270,
     "metadata": {},
     "output_type": "execute_result"
    }
   ],
   "source": [
    "# Create a Decision Tree Classifier instance\n",
    "dt_opt = DecisionTreeClassifier()\n",
    "\n",
    "# Define a dictionary of hyperparameters to be optimized\n",
    "params = {\n",
    "    'criterion': ['gini', 'entropy', 'log_loss'],\n",
    "    'max_depth': [5, 10, 25, 50, 100]\n",
    "}\n",
    "\n",
    "# Create a KFold cross-validator with 3 splits for the Grid Search\n",
    "cv_kf = KFold(n_splits=3, shuffle=True)\n",
    "\n",
    "# Initialize a GridSearchCV object with the Decision Tree Classifier, hyperparameters, and cross-validator\n",
    "grid = GridSearchCV(estimator=dt_opt, param_grid=params, cv=cv_kf)\n",
    "\n",
    "# Fit the GridSearchCV object to the training data to find the optimal hyperparameters\n",
    "grid.fit(X_train, y_train)"
   ]
  },
  {
   "cell_type": "code",
   "execution_count": 271,
   "metadata": {},
   "outputs": [
    {
     "name": "stdout",
     "output_type": "stream",
     "text": [
      "Best Params: {'criterion': 'log_loss', 'max_depth': 50}\n"
     ]
    }
   ],
   "source": [
    "# Show best params\n",
    "best_params = grid.best_params_\n",
    "print(\"Best Params:\", best_params)\n"
   ]
  },
  {
   "cell_type": "code",
   "execution_count": 274,
   "metadata": {},
   "outputs": [
    {
     "data": {
      "text/html": [
       "<style>#sk-container-id-7 {color: black;background-color: white;}#sk-container-id-7 pre{padding: 0;}#sk-container-id-7 div.sk-toggleable {background-color: white;}#sk-container-id-7 label.sk-toggleable__label {cursor: pointer;display: block;width: 100%;margin-bottom: 0;padding: 0.3em;box-sizing: border-box;text-align: center;}#sk-container-id-7 label.sk-toggleable__label-arrow:before {content: \"▸\";float: left;margin-right: 0.25em;color: #696969;}#sk-container-id-7 label.sk-toggleable__label-arrow:hover:before {color: black;}#sk-container-id-7 div.sk-estimator:hover label.sk-toggleable__label-arrow:before {color: black;}#sk-container-id-7 div.sk-toggleable__content {max-height: 0;max-width: 0;overflow: hidden;text-align: left;background-color: #f0f8ff;}#sk-container-id-7 div.sk-toggleable__content pre {margin: 0.2em;color: black;border-radius: 0.25em;background-color: #f0f8ff;}#sk-container-id-7 input.sk-toggleable__control:checked~div.sk-toggleable__content {max-height: 200px;max-width: 100%;overflow: auto;}#sk-container-id-7 input.sk-toggleable__control:checked~label.sk-toggleable__label-arrow:before {content: \"▾\";}#sk-container-id-7 div.sk-estimator input.sk-toggleable__control:checked~label.sk-toggleable__label {background-color: #d4ebff;}#sk-container-id-7 div.sk-label input.sk-toggleable__control:checked~label.sk-toggleable__label {background-color: #d4ebff;}#sk-container-id-7 input.sk-hidden--visually {border: 0;clip: rect(1px 1px 1px 1px);clip: rect(1px, 1px, 1px, 1px);height: 1px;margin: -1px;overflow: hidden;padding: 0;position: absolute;width: 1px;}#sk-container-id-7 div.sk-estimator {font-family: monospace;background-color: #f0f8ff;border: 1px dotted black;border-radius: 0.25em;box-sizing: border-box;margin-bottom: 0.5em;}#sk-container-id-7 div.sk-estimator:hover {background-color: #d4ebff;}#sk-container-id-7 div.sk-parallel-item::after {content: \"\";width: 100%;border-bottom: 1px solid gray;flex-grow: 1;}#sk-container-id-7 div.sk-label:hover label.sk-toggleable__label {background-color: #d4ebff;}#sk-container-id-7 div.sk-serial::before {content: \"\";position: absolute;border-left: 1px solid gray;box-sizing: border-box;top: 0;bottom: 0;left: 50%;z-index: 0;}#sk-container-id-7 div.sk-serial {display: flex;flex-direction: column;align-items: center;background-color: white;padding-right: 0.2em;padding-left: 0.2em;position: relative;}#sk-container-id-7 div.sk-item {position: relative;z-index: 1;}#sk-container-id-7 div.sk-parallel {display: flex;align-items: stretch;justify-content: center;background-color: white;position: relative;}#sk-container-id-7 div.sk-item::before, #sk-container-id-7 div.sk-parallel-item::before {content: \"\";position: absolute;border-left: 1px solid gray;box-sizing: border-box;top: 0;bottom: 0;left: 50%;z-index: -1;}#sk-container-id-7 div.sk-parallel-item {display: flex;flex-direction: column;z-index: 1;position: relative;background-color: white;}#sk-container-id-7 div.sk-parallel-item:first-child::after {align-self: flex-end;width: 50%;}#sk-container-id-7 div.sk-parallel-item:last-child::after {align-self: flex-start;width: 50%;}#sk-container-id-7 div.sk-parallel-item:only-child::after {width: 0;}#sk-container-id-7 div.sk-dashed-wrapped {border: 1px dashed gray;margin: 0 0.4em 0.5em 0.4em;box-sizing: border-box;padding-bottom: 0.4em;background-color: white;}#sk-container-id-7 div.sk-label label {font-family: monospace;font-weight: bold;display: inline-block;line-height: 1.2em;}#sk-container-id-7 div.sk-label-container {text-align: center;}#sk-container-id-7 div.sk-container {/* jupyter's `normalize.less` sets `[hidden] { display: none; }` but bootstrap.min.css set `[hidden] { display: none !important; }` so we also need the `!important` here to be able to override the default hidden behavior on the sphinx rendered scikit-learn.org. See: https://github.com/scikit-learn/scikit-learn/issues/21755 */display: inline-block !important;position: relative;}#sk-container-id-7 div.sk-text-repr-fallback {display: none;}</style><div id=\"sk-container-id-7\" class=\"sk-top-container\"><div class=\"sk-text-repr-fallback\"><pre>DecisionTreeClassifier(criterion=&#x27;log_loss&#x27;, max_depth=50)</pre><b>In a Jupyter environment, please rerun this cell to show the HTML representation or trust the notebook. <br />On GitHub, the HTML representation is unable to render, please try loading this page with nbviewer.org.</b></div><div class=\"sk-container\" hidden><div class=\"sk-item\"><div class=\"sk-estimator sk-toggleable\"><input class=\"sk-toggleable__control sk-hidden--visually\" id=\"sk-estimator-id-13\" type=\"checkbox\" checked><label for=\"sk-estimator-id-13\" class=\"sk-toggleable__label sk-toggleable__label-arrow\">DecisionTreeClassifier</label><div class=\"sk-toggleable__content\"><pre>DecisionTreeClassifier(criterion=&#x27;log_loss&#x27;, max_depth=50)</pre></div></div></div></div></div>"
      ],
      "text/plain": [
       "DecisionTreeClassifier(criterion='log_loss', max_depth=50)"
      ]
     },
     "execution_count": 274,
     "metadata": {},
     "output_type": "execute_result"
    }
   ],
   "source": [
    "dt_opt = DecisionTreeClassifier(criterion='log_loss', max_depth=50)\n",
    "dt_opt.fit(X_train, y_train)\n"
   ]
  },
  {
   "cell_type": "code",
   "execution_count": 275,
   "metadata": {},
   "outputs": [
    {
     "name": "stdout",
     "output_type": "stream",
     "text": [
      "(<class 'sklearn.tree._classes.DecisionTreeClassifier'> score = 0.97)\n",
      "Mean roc_auc_ovr: 0.9992624342293392\n",
      "Mean f1_macro: 0.9711464268576735\n",
      "Top 10 Feature Importances:\n",
      "ep_KW: 0.4451\n",
      "m_kg: 0.2020\n",
      "z_Wh/km: 0.0828\n",
      "W_mm: 0.0459\n",
      "At1_mm: 0.0412\n",
      "Fm_H: 0.0403\n",
      "Ft_HYBRID: 0.0351\n",
      "ec_cm3: 0.0270\n",
      "Erwltp_g/km: 0.0231\n",
      "Ft_PETROL: 0.0176\n"
     ]
    },
    {
     "data": {
      "image/png": "[encoded data removed]",
      "text/plain": [
       "<Figure size 1000x600 with 1 Axes>"
      ]
     },
     "metadata": {},
     "output_type": "display_data"
    },
    {
     "name": "stdout",
     "output_type": "stream",
     "text": [
      "Predictions       1       2       3       4       5       6       7\n",
      "True Values                                                        \n",
      "1            206082      10       0       0       0       0       0\n",
      "2               145  200828    5119       0       0       0       0\n",
      "3                 0    8678  190285    7129       0       0       0\n",
      "4                 4       0    4514  197017    4557       0       0\n",
      "5                 0       0       0    7217  198112     763       0\n",
      "6                 0       0       0       0     145  203904    2043\n",
      "7                 0       0       0       0       0    1163  204929\n",
      "              precision    recall  f1-score   support\n",
      "\n",
      "           1       1.00      1.00      1.00    206092\n",
      "           2       0.96      0.97      0.97    206092\n",
      "           3       0.95      0.92      0.94    206092\n",
      "           4       0.93      0.96      0.94    206092\n",
      "           5       0.98      0.96      0.97    206092\n",
      "           6       0.99      0.99      0.99    206092\n",
      "           7       0.99      0.99      0.99    206092\n",
      "\n",
      "    accuracy                           0.97   1442644\n",
      "   macro avg       0.97      0.97      0.97   1442644\n",
      "weighted avg       0.97      0.97      0.97   1442644\n",
      "\n"
     ]
    }
   ],
   "source": [
    "# Evaluate Decision Tree Classifier Performance with Optimized Parameters\n",
    "\n",
    "# Call the classifier_results function to evaluate the performance of a Decision Tree Classifier\n",
    "# using the provided training and testing sets, feature names, classifier class, and hyperparameters.\n",
    "# The evaluated hyperparameters include criterion='log_loss' and max_depth=50.\n",
    "dt_opt = classifier_results(X_train, y_train, X_test, y_test, data_ros.columns,\n",
    "                             DecisionTreeClassifier,\n",
    "                             n_folds=5,\n",
    "                             criterion='log_loss',\n",
    "                             max_depth=50)\n"
   ]
  },
  {
   "cell_type": "markdown",
   "metadata": {},
   "source": [
    "#### **Evaluation: Optimized DecisionTree**"
   ]
  },
  {
   "cell_type": "markdown",
   "metadata": {},
   "source": [
    "- The optimized Decision Tree model showcases exceptional performance across various evaluation metrics, affirming its proficiency in making accurate predictions across multiple classes. The ‘mean roc_auc_ovr score’, measuring the model's ability to discriminate between classes, impressively stands at approximately 0.9992. This indicates a high level of precision in distinguishing different classes, which is crucial for reliable predictions.\n",
    "- Furthermore, the macro F1-Score, with a value of approximately 0.9711, underlines the model's robust precision and recall across all classes. This metric provides a comprehensive assessment of the model's performance, especially in scenarios with imbalanced class distribution.\n",
    "- Examining the confusion matrix, we observe that the model excels in predicting Classes 1, 6, and 7, achieving near-perfect precision, recall, and F1-Score for these categories. Similarly, Classes 2, 4, and 5 exhibit high precision, recall, and F1-Score, indicating the model's effectiveness in making accurate predictions for these classes. Although Class 3 displays slightly lower precision, recall, and F1-Score compared to others, the model still demonstrates strong predictive ability across the majority of classes.\n",
    "- The classification report provides a detailed breakdown of precision, recall, and F1-Score for each class, offering insights into the model's performance on an individual basis. The weighted average F1-Score, precision, and recall, all hovering around 0.97, underscore the overall high accuracy of the model.\n",
    "- With an overall accuracy of 0.97, the optimized Decision Tree model is well-tailored to handle the complexities of the dataset. These results affirm the success of hyperparameter tuning, resulting in a finely calibrated model capable of making accurate and reliable predictions across diverse classes.\n",
    "\n",
    "\n"
   ]
  },
  {
   "cell_type": "markdown",
   "metadata": {},
   "source": [
    "#### **Feature Importace**\n",
    "\n",
    "- The feature importance analysis for the optimized decision tree model provides crucial insights into the features that significantly contribute to predicting the target variable. At the forefront is the engine power (‘ep_KW’), playing a substantial role with a contribution of 44.51%, followed by vehicle mass (‘m_kg’) as the second most important feature with a share of 20.20%. Energy consumption per kilometer (‘z_Wh/km’) also holds considerable importance, contributing 8.28%.\n",
    "- Wheelbase (‘W_mm’) and front track width (‘At1_mm’) are pivotal factors influencing the model's decisions, with contributions of 4.59% and 4.12%, respectively. The presence of hybrid as a fuel mode (‘Fm_H’) and hybrid vehicles (‘Ft_HYBRID’) each contribute significantly, with 4.03% and 3.51%, respectively.\n",
    "- Less decisive but still relevant features include engine capacity (‘ec_cm3’) with a contribution of 2.70%, emissions reduction through innovative technologies (‘Erwltp_g/km’) with 2.31%, and vehicles using petrol as a fuel type (‘Ft_PETROL’) with 1.76%.\n"
   ]
  },
  {
   "cell_type": "markdown",
   "metadata": {},
   "source": [
    "### **XGBoost**"
   ]
  },
  {
   "cell_type": "markdown",
   "metadata": {},
   "source": [
    "#### **Implemenation**"
   ]
  },
  {
   "cell_type": "markdown",
   "metadata": {},
   "source": [
    "In our classification task, we utilized the powerful XGBoost algorithm, implemented through the 'scikit-learn' library. The dataset was meticulously prepared by splitting it into training, validation, and test sets, maintaining a stratified distribution of classes to ensure representative sampling. To enhance model performance, feature scaling was applied using the 'StandardScaler' from scikit-learn. This step standardized the dataset, ensuring that all features contribute equally to the model. The XGBoost model was initialized with specific parameters tailored for multi-class classification. Notably, we set the objective parameter to 'multi:softmax' and defined the number of classes using 'num_class=7'. Additionally, the model was configured to run on a GPU for faster training, employing the 'cuda' device. The K-fold cross-validation technique was employed for robust evaluation, leveraging the KFold class from scikit-learn. Key scoring metrics, such as 'roc_auc_ovr' and 'f1_macro', were utilized to assess the model's performance under various conditions. Feature importance was visualized using a custom function, offering insights into which features played a crucial role in the model's decision-making process. Our trained XGBoost model was then applied to the test set for predictions. The results were evaluated using a confusion matrix,providing a detailed breakdown of true positive, true negative, false positive, and false negative predictions. Additionally, a classification report was generated, presenting metrics such as precision, recall, and F1-score for each class. Throughout this process, scikit-learn provided essential utilities for data preparation, model evaluation, and metric computation. The 'xgboost' library, integrated seamlessly with scikit-learn, facilitated the implementation of a high-performing classification model with efficient GPU utilization.\n"
   ]
  },
  {
   "cell_type": "code",
   "execution_count": 276,
   "metadata": {},
   "outputs": [
    {
     "data": {
      "text/html": [
       "<style>#sk-container-id-8 {color: black;background-color: white;}#sk-container-id-8 pre{padding: 0;}#sk-container-id-8 div.sk-toggleable {background-color: white;}#sk-container-id-8 label.sk-toggleable__label {cursor: pointer;display: block;width: 100%;margin-bottom: 0;padding: 0.3em;box-sizing: border-box;text-align: center;}#sk-container-id-8 label.sk-toggleable__label-arrow:before {content: \"▸\";float: left;margin-right: 0.25em;color: #696969;}#sk-container-id-8 label.sk-toggleable__label-arrow:hover:before {color: black;}#sk-container-id-8 div.sk-estimator:hover label.sk-toggleable__label-arrow:before {color: black;}#sk-container-id-8 div.sk-toggleable__content {max-height: 0;max-width: 0;overflow: hidden;text-align: left;background-color: #f0f8ff;}#sk-container-id-8 div.sk-toggleable__content pre {margin: 0.2em;color: black;border-radius: 0.25em;background-color: #f0f8ff;}#sk-container-id-8 input.sk-toggleable__control:checked~div.sk-toggleable__content {max-height: 200px;max-width: 100%;overflow: auto;}#sk-container-id-8 input.sk-toggleable__control:checked~label.sk-toggleable__label-arrow:before {content: \"▾\";}#sk-container-id-8 div.sk-estimator input.sk-toggleable__control:checked~label.sk-toggleable__label {background-color: #d4ebff;}#sk-container-id-8 div.sk-label input.sk-toggleable__control:checked~label.sk-toggleable__label {background-color: #d4ebff;}#sk-container-id-8 input.sk-hidden--visually {border: 0;clip: rect(1px 1px 1px 1px);clip: rect(1px, 1px, 1px, 1px);height: 1px;margin: -1px;overflow: hidden;padding: 0;position: absolute;width: 1px;}#sk-container-id-8 div.sk-estimator {font-family: monospace;background-color: #f0f8ff;border: 1px dotted black;border-radius: 0.25em;box-sizing: border-box;margin-bottom: 0.5em;}#sk-container-id-8 div.sk-estimator:hover {background-color: #d4ebff;}#sk-container-id-8 div.sk-parallel-item::after {content: \"\";width: 100%;border-bottom: 1px solid gray;flex-grow: 1;}#sk-container-id-8 div.sk-label:hover label.sk-toggleable__label {background-color: #d4ebff;}#sk-container-id-8 div.sk-serial::before {content: \"\";position: absolute;border-left: 1px solid gray;box-sizing: border-box;top: 0;bottom: 0;left: 50%;z-index: 0;}#sk-container-id-8 div.sk-serial {display: flex;flex-direction: column;align-items: center;background-color: white;padding-right: 0.2em;padding-left: 0.2em;position: relative;}#sk-container-id-8 div.sk-item {position: relative;z-index: 1;}#sk-container-id-8 div.sk-parallel {display: flex;align-items: stretch;justify-content: center;background-color: white;position: relative;}#sk-container-id-8 div.sk-item::before, #sk-container-id-8 div.sk-parallel-item::before {content: \"\";position: absolute;border-left: 1px solid gray;box-sizing: border-box;top: 0;bottom: 0;left: 50%;z-index: -1;}#sk-container-id-8 div.sk-parallel-item {display: flex;flex-direction: column;z-index: 1;position: relative;background-color: white;}#sk-container-id-8 div.sk-parallel-item:first-child::after {align-self: flex-end;width: 50%;}#sk-container-id-8 div.sk-parallel-item:last-child::after {align-self: flex-start;width: 50%;}#sk-container-id-8 div.sk-parallel-item:only-child::after {width: 0;}#sk-container-id-8 div.sk-dashed-wrapped {border: 1px dashed gray;margin: 0 0.4em 0.5em 0.4em;box-sizing: border-box;padding-bottom: 0.4em;background-color: white;}#sk-container-id-8 div.sk-label label {font-family: monospace;font-weight: bold;display: inline-block;line-height: 1.2em;}#sk-container-id-8 div.sk-label-container {text-align: center;}#sk-container-id-8 div.sk-container {/* jupyter's `normalize.less` sets `[hidden] { display: none; }` but bootstrap.min.css set `[hidden] { display: none !important; }` so we also need the `!important` here to be able to override the default hidden behavior on the sphinx rendered scikit-learn.org. See: https://github.com/scikit-learn/scikit-learn/issues/21755 */display: inline-block !important;position: relative;}#sk-container-id-8 div.sk-text-repr-fallback {display: none;}</style><div id=\"sk-container-id-8\" class=\"sk-top-container\"><div class=\"sk-text-repr-fallback\"><pre>XGBClassifier(base_score=None, booster=None, callbacks=None,\n",
       "              colsample_bylevel=None, colsample_bynode=None,\n",
       "              colsample_bytree=None, device=&#x27;cuda&#x27;, early_stopping_rounds=None,\n",
       "              enable_categorical=False, eval_metric=None, feature_types=None,\n",
       "              gamma=None, grow_policy=None, importance_type=None,\n",
       "              interaction_constraints=None, learning_rate=None, max_bin=None,\n",
       "              max_cat_threshold=None, max_cat_to_onehot=None,\n",
       "              max_delta_step=None, max_depth=None, max_leaves=None,\n",
       "              min_child_weight=None, missing=nan, monotone_constraints=None,\n",
       "              multi_strategy=None, n_estimators=None, n_jobs=None, num_class=7,\n",
       "              num_parallel_tree=None, ...)</pre><b>In a Jupyter environment, please rerun this cell to show the HTML representation or trust the notebook. <br />On GitHub, the HTML representation is unable to render, please try loading this page with nbviewer.org.</b></div><div class=\"sk-container\" hidden><div class=\"sk-item\"><div class=\"sk-estimator sk-toggleable\"><input class=\"sk-toggleable__control sk-hidden--visually\" id=\"sk-estimator-id-14\" type=\"checkbox\" checked><label for=\"sk-estimator-id-14\" class=\"sk-toggleable__label sk-toggleable__label-arrow\">XGBClassifier</label><div class=\"sk-toggleable__content\"><pre>XGBClassifier(base_score=None, booster=None, callbacks=None,\n",
       "              colsample_bylevel=None, colsample_bynode=None,\n",
       "              colsample_bytree=None, device=&#x27;cuda&#x27;, early_stopping_rounds=None,\n",
       "              enable_categorical=False, eval_metric=None, feature_types=None,\n",
       "              gamma=None, grow_policy=None, importance_type=None,\n",
       "              interaction_constraints=None, learning_rate=None, max_bin=None,\n",
       "              max_cat_threshold=None, max_cat_to_onehot=None,\n",
       "              max_delta_step=None, max_depth=None, max_leaves=None,\n",
       "              min_child_weight=None, missing=nan, monotone_constraints=None,\n",
       "              multi_strategy=None, n_estimators=None, n_jobs=None, num_class=7,\n",
       "              num_parallel_tree=None, ...)</pre></div></div></div></div></div>"
      ],
      "text/plain": [
       "XGBClassifier(base_score=None, booster=None, callbacks=None,\n",
       "              colsample_bylevel=None, colsample_bynode=None,\n",
       "              colsample_bytree=None, device='cuda', early_stopping_rounds=None,\n",
       "              enable_categorical=False, eval_metric=None, feature_types=None,\n",
       "              gamma=None, grow_policy=None, importance_type=None,\n",
       "              interaction_constraints=None, learning_rate=None, max_bin=None,\n",
       "              max_cat_threshold=None, max_cat_to_onehot=None,\n",
       "              max_delta_step=None, max_depth=None, max_leaves=None,\n",
       "              min_child_weight=None, missing=nan, monotone_constraints=None,\n",
       "              multi_strategy=None, n_estimators=None, n_jobs=None, num_class=7,\n",
       "              num_parallel_tree=None, ...)"
      ]
     },
     "execution_count": 276,
     "metadata": {},
     "output_type": "execute_result"
    }
   ],
   "source": [
    "# Split the data into training and validation sets, and further split the training set into training and testing sets\n",
    "X, X_valid, y, y_valid = train_test_split(data_ros, target_ros, test_size=0.3, stratify=target_ros)\n",
    "X_train, X_test, y_train, y_test = train_test_split(X, y, test_size=0.3, stratify=y)\n",
    "\n",
    "# Initialize a StandardScaler and fit it on the training data\n",
    "scaler = StandardScaler()\n",
    "scaler.fit(X_train, y_train)\n",
    "\n",
    "# Transform the features for training, validation, and testing sets using the scaler\n",
    "X_train = scaler.transform(X_train)\n",
    "X_valid = scaler.transform(X_valid)\n",
    "X_test = scaler.transform(X_test)\n",
    "\n",
    "# Shift the target variables for XGBoost, as it expects labels in the range [0, num_class)\n",
    "y_valid_shifted = y_valid.astype(int) - 1\n",
    "y_train_shifted = y_train.astype(int) - 1\n",
    "y_test_shifted = y_test.astype(int) - 1\n",
    "\n",
    "# Initialize and train the XGBoost Classifier\n",
    "xgb_model = XGBClassifier(objective='multi:softmax', num_class=7, random_state=42, device='cuda')\n",
    "xgb_model.fit(X_train, y_train_shifted)"
   ]
  },
  {
   "cell_type": "code",
   "execution_count": 277,
   "metadata": {},
   "outputs": [
    {
     "name": "stdout",
     "output_type": "stream",
     "text": [
      "Mean roc_auc_ovr: 0.9991225165373345\n",
      "Mean f1_macro: 0.9691205283044028\n",
      "Top 10 Feature Importances:\n",
      "z_Wh/km: 0.2740\n",
      "Ft_OTHER: 0.2104\n",
      "ep_KW: 0.1022\n",
      "Ft_DIESEL: 0.0868\n",
      "ec_cm3: 0.0407\n",
      "Ft_PETROL: 0.0329\n",
      "Fm_M: 0.0324\n",
      "Mp_MAZDA-SUBARU-SUZUKI-TOYOTA: 0.0269\n",
      "m_kg: 0.0250\n",
      "Fm_H: 0.0222\n"
     ]
    },
    {
     "data": {
      "image/png": "[encoded data removed]",
      "text/plain": [
       "<Figure size 1000x600 with 1 Axes>"
      ]
     },
     "metadata": {},
     "output_type": "display_data"
    },
    {
     "name": "stdout",
     "output_type": "stream",
     "text": [
      "Predictions       1       2       3       4       5       6       7\n",
      "True Values                                                        \n",
      "1            144260       4       0       0       0       0       0\n",
      "2               102  140335    3827       0       0       0       0\n",
      "3                 0    6185  133017    5058       4       0       0\n",
      "4                 2       8    3623  137193    3438       0       0\n",
      "5                 0       0       5    5439  138088     733       0\n",
      "6                 0       0       0       0     148  142740    1377\n",
      "7                 0       0       0       0       0     948  143317\n",
      "              precision    recall  f1-score   support\n",
      "\n",
      "           1       1.00      1.00      1.00    144264\n",
      "           2       0.96      0.97      0.97    144264\n",
      "           3       0.95      0.92      0.93    144264\n",
      "           4       0.93      0.95      0.94    144264\n",
      "           5       0.97      0.96      0.97    144265\n",
      "           6       0.99      0.99      0.99    144265\n",
      "           7       0.99      0.99      0.99    144265\n",
      "\n",
      "    accuracy                           0.97   1009851\n",
      "   macro avg       0.97      0.97      0.97   1009851\n",
      "weighted avg       0.97      0.97      0.97   1009851\n",
      "\n"
     ]
    }
   ],
   "source": [
    "# Create a KFold cross-validator with 5 splits and shuffling\n",
    "cv_kf = KFold(n_splits=5, shuffle=True)\n",
    "\n",
    "# Specify scoring metrics for evaluation\n",
    "scoring_metrics = ['roc_auc_ovr', 'f1_macro']\n",
    "\n",
    "# Perform cross-validation using the XGBoost model and calculate mean scores for specified metrics\n",
    "clf_scores = cross_validate(xgb_model, X_train, y_train_shifted, cv=cv_kf, scoring=scoring_metrics, return_train_score=False)\n",
    "for metric in scoring_metrics:\n",
    "    mean_score = clf_scores[f'test_{metric}'].mean()\n",
    "    print(f\"Mean {metric}:\", mean_score)\n",
    "\n",
    "# Display feature importance Bar plot\n",
    "feature_importance = display_feature_importance(X_train, data_ros.columns, xgb_model)\n",
    "\n",
    "# Predict target for the test set and adjust class labels back to original range\n",
    "y_pred = xgb_model.predict(X_test)\n",
    "y_pred += 1\n",
    "\n",
    "# Display confusion matrix\n",
    "conf_mat = pd.DataFrame(pd.crosstab(y_test, y_pred, rownames=['True Values'], colnames=['Predictions']))\n",
    "print(conf_mat)\n",
    "\n",
    "# Display classification Report\n",
    "classif_report = classification_report(y_test.astype(int), y_pred)\n",
    "print(classif_report)"
   ]
  },
  {
   "cell_type": "markdown",
   "metadata": {},
   "source": [
    "#### **Evaluation: Basic XGBoost**\n",
    "- Our XGBoost classification model yielded impressive results across various metrics, showcasing its robust performance. The mean roc_auc_ovr (Receiver Operating Characteristic Area Under the Curve - One vs. Rest) score of approximately 0.9991 indicates high discriminative power across multiple classes.\n",
    "- The mean f1_macro score, measuring the model's ability to balance precision and recall, was observed to be around 0.9691. This score signifies strong overall predictive performance across all classes.\n",
    "- The confusion matrix reveals a robust performance of the model across various classes. The model excels in accurately predicting instances from Classes 1, 2, 5, 6, and 7, showcasing high precision, recall, and F1-scores. Notably, Classes 1, 6, and 7 exhibit flawless recognition, with perfect scores across all metrics.\n",
    "- Class 2 also demonstrates strong performance with precision and recall around 0.95, indicating accurate predictions. Classes 3 and 4, while displaying slightly lower scores, still exhibit good recognition by the model.\n",
    "- These findings underscore the model's effectiveness in handling diverse classes, with distinct strengths observed in recognizing different emission categories. \n",
    "- The weighted average metrics, such as weighted precision, recall, and F1-score, provide an overall assessment of the model's performance, considering the class imbalance in the dataset. With an accuracy of 0.97, the model demonstrates its ability to make correct predictions on the majority of instances.\n",
    "\n",
    "In summary, our XGBoost Classification model, equipped with carefully tuned parameters and trained on well-prepared data, achieved exceptional performance, making it a reliable choice for multi-class classification tasks. The model's proficiency is evident in its high accuracy and balanced performance across all classes.\n"
   ]
  },
  {
   "cell_type": "markdown",
   "metadata": {},
   "source": [
    "#### **Feature Importance**\n",
    "\n",
    "- Analyzing the feature importance of our XGBoost model provides valuable insights into the key factors influencing CO² emission predictions. The top 10 crucial features and their respective weights shed light on the relative contributions to the model's performance.\n",
    "- The pivotal feature is 'z_Wh/km' (charging energy per kilometer) with a substantial importance of 27.4%. This suggests that the energy consumption during charging significantly impacts CO² emissions. 'Ft_OTHER' (fuel type: OTHER) is also significant (21.04%), indicating that vehicles with fuel types other than diesel or petrol substantially influence predictions.\n",
    "- Engine power ('ep_KW') with 10.22% and the fuel type 'Ft_DIESEL' with 8.68% are additional crucial factors. 'ec_cm3' (engine displacement), 'Ft_PETROL' (fuel type: petrol), and the model type 'Fm_M' also contribute significantly to the model's performance.\n",
    "- Manufacturer-specific features like 'Mp_MAZDA-SUBARU-SUZUKI-TOYOTA' also have an influence of 2.69%. Vehicle weight ('m_kg') and model type 'Fm_H' complete the top 10.\n"
   ]
  },
  {
   "cell_type": "markdown",
   "metadata": {},
   "source": [
    "#### **Optimization**\n",
    "\n",
    "The process of hyperparameter tuning was initiated by defining a comprehensive hyperparameter space for the XGBoost model. This space included critical parameters such as 'n_estimators', 'gamma', 'alpha', 'lambda', 'learning_rate', and 'max_depth'. Each of these parameters plays a unique role in formulating the model structure and significantly influences the quality of predictions.\n",
    "1.\t**'n_estimators'**:\n",
    "- The number of trees in the model is crucial for ensemble performance.\n",
    "- Here, the value was set to 50, ensuring a sufficient number of trees to leverage diversity and improve model performance.\n",
    "2.\t**'booster':**\n",
    "- The choice of booster is fundamental to the functionality of the XGBoost model.\n",
    "- By setting it to 'gbtree,' a tree-based boosting method was chosen, indicating that each tree in the ensemble serves as a decision unit contributing to the overall prediction.\n",
    "3.\t**'gamma':**\n",
    "- Gamma is a parameter controlling the complexity of trees by specifying the minimum reduction in the loss function for a leaf split.\n",
    "- The tested values (0.01, 0.1) indicate that the search for the optimal gamma setting aims to calibrate model complexity and prevent overfitting.\n",
    "4.\t**'alpha' and 'lambda':**\n",
    "- Alpha and Lambda are regularization terms that affect leaf weighting, contributing to controlling overfitting.\n",
    "- The tested values (0, 0.5) for 'alpha' and (0.1, 0.5) for 'lambda' show a careful balance between L1 and L2 regularization to find the optimal trade-off between model complexity and robustness.\n",
    "5.\t**'learning_rate':**\n",
    "- The learning rate influences the size of steps taken during the gradient descent algorithm.\n",
    "- Here, the learning rate was set to 0.7, indicating a preference for moderate adjustments in weights to ensure both convergence and stability in the training process.\n",
    "6.\t**'max_depth':**\n",
    "- The maximum depth of trees influences model complexity and the risk of overfitting.\n",
    "- Setting it to 9 chose sufficient depth to capture complex patterns without increasing the risk of overfitting.\n",
    "\n",
    "The decision to use a Grid Search approach allowed for a systematic and comprehensive exploration of the hyperparameter space. Iterating over the defined values of each parameter aims to identify the optimal configuration that maximizes model performance. This detailed consideration and adjustment of hyperparameters underscore our commitment to precision and efficiency in model development, especially concerning the specific requirements of our complex dataset.\n",
    "For the training processes, KFold cross-validation techniques with 3 folds and random shuffling were employed. These ensured a reliable evaluation of model performance across different data splits and helped identify potential overfitting. Additionally, the 'early stopping' concept was integrated, where the model was evaluated on a validation dataset, and training was halted if no improvement in model performance was observed in 15 consecutive rounds. This approach is crucial to ensuring precise model configuration while preventing overfitting.\n",
    "The final adjustment of the XGBoost model was made using the best-identified hyperparameters. This specific focus on the XGBoost model allowed us to address the unique challenges of our dataset and develop a precise, powerful prediction tool. This iterative process of hyperparameter tuning highlights our commitment to continuous model optimization and adaptation to the specific demands of our complex dataset.\n"
   ]
  },
  {
   "cell_type": "code",
   "execution_count": 17,
   "metadata": {},
   "outputs": [],
   "source": [
    "# Split the oversampled data into training, validation, and test sets\n",
    "Xh, yh = data_ros, target_ros\n",
    "X, X_valid, y, y_valid = train_test_split(Xh, yh, test_size=0.1, stratify=yh)\n",
    "X_train, X_test, y_train, y_test = train_test_split(X, y, test_size=0.3, stratify=y)\n",
    "\n",
    "# Initialize a StandardScaler and fit it on the training data\n",
    "scaler = StandardScaler()\n",
    "scaler.fit(X_train, y_train)\n",
    "\n",
    "# Transform the features for training, validation, and test sets using the scaler\n",
    "X_train = scaler.transform(X_train.astype('float32'))\n",
    "X_valid = scaler.transform(X_valid.astype('float32'))\n",
    "X_test = scaler.transform(X_test.astype('float32'))\n",
    "\n",
    "# Shift the target variables for XGBoost, as it expects labels in the range [0, num_class)\n",
    "y_valid_shifted = y_valid.astype(int) - 1  \n",
    "y_train_shifted = y_train.astype(int) - 1  \n",
    "y_test_shifted = y_test.astype(int) - 1  \n",
    "\n",
    "# Define a parameter grid for hyperparameter tuning\n",
    "param_grid = {\n",
    "    'n_estimators': [50],\n",
    "    'booster': ['gbtree'],\n",
    "    'gamma': [0.01, 0.1],\n",
    "    'alpha': [0, 0.5],\n",
    "    'lambda': [.1, .5],\n",
    "    'learning_rate': [0.7],\n",
    "    'max_depth': [9],\n",
    "}\n",
    "\n",
    "# Initialize an XGBoost Classifier with multiclass softmax objective\n",
    "xgb_model = XGBClassifier(objective='multi:softmax', num_class=7, random_state=42, device='cuda')\n",
    "\n",
    "# Create a KFold cross-validator with 3 splits and shuffling\n",
    "cv_kf = KFold(n_splits=3, shuffle=True)\n",
    "\n",
    "# Set up early stopping and evaluation set for the XGBoost model\n",
    "eval_set = [(X_valid, y_valid_shifted)]\n",
    "grid_search = GridSearchCV(\n",
    "    estimator=xgb_model, param_grid=param_grid, scoring='accuracy', cv=cv_kf, verbose=2, n_jobs=-1, pre_dispatch='2*n_jobs'\n",
    ")\n",
    "\n",
    "# Define fit_params\n",
    "fit_params = {\n",
    "    'eval_metric': 'merror',  # Use 'merror' for multiclass classification\n",
    "    'early_stopping_rounds': 15,\n",
    "    'eval_set': eval_set,\n",
    "    'verbose': True,\n",
    "}\n",
    "\n"
   ]
  },
  {
   "cell_type": "code",
   "execution_count": 18,
   "metadata": {},
   "outputs": [
    {
     "name": "stdout",
     "output_type": "stream",
     "text": [
      "Fitting 3 folds for each of 8 candidates, totalling 24 fits\n"
     ]
    },
    {
     "name": "stderr",
     "output_type": "stream",
     "text": [
      "C:\\Users\\Jens Tauscher\\AppData\\Roaming\\Python\\Python311\\site-packages\\xgboost\\sklearn.py:885: UserWarning: `eval_metric` in `fit` method is deprecated for better compatibility with scikit-learn, use `eval_metric` in constructor or`set_params` instead.\n",
      "  warnings.warn(\n",
      "C:\\Users\\Jens Tauscher\\AppData\\Roaming\\Python\\Python311\\site-packages\\xgboost\\sklearn.py:885: UserWarning: `early_stopping_rounds` in `fit` method is deprecated for better compatibility with scikit-learn, use `early_stopping_rounds` in constructor or`set_params` instead.\n",
      "  warnings.warn(\n",
      "C:\\Users\\Jens Tauscher\\AppData\\Roaming\\Python\\Python311\\site-packages\\xgboost\\core.py:160: UserWarning: [23:45:44] WARNING: C:\\buildkite-agent\\builds\\buildkite-windows-cpu-autoscaling-group-i-0750514818a16474a-1\\xgboost\\xgboost-ci-windows\\src\\context.cc:44: No visible GPU is found, setting device to CPU.\n",
      "  warnings.warn(smsg, UserWarning)\n"
     ]
    },
    {
     "name": "stdout",
     "output_type": "stream",
     "text": [
      "[0]\tvalidation_0-merror:0.04813\n",
      "[1]\tvalidation_0-merror:0.04060\n",
      "[2]\tvalidation_0-merror:0.03818\n",
      "[3]\tvalidation_0-merror:0.03694\n",
      "[4]\tvalidation_0-merror:0.03546\n",
      "[5]\tvalidation_0-merror:0.03409\n",
      "[6]\tvalidation_0-merror:0.03356\n",
      "[7]\tvalidation_0-merror:0.03292\n",
      "[8]\tvalidation_0-merror:0.03244\n",
      "[9]\tvalidation_0-merror:0.03182\n",
      "[10]\tvalidation_0-merror:0.03147\n",
      "[11]\tvalidation_0-merror:0.03071\n",
      "[12]\tvalidation_0-merror:0.03030\n",
      "[13]\tvalidation_0-merror:0.03004\n",
      "[14]\tvalidation_0-merror:0.02991\n",
      "[15]\tvalidation_0-merror:0.02977\n",
      "[16]\tvalidation_0-merror:0.02975\n",
      "[17]\tvalidation_0-merror:0.02967\n",
      "[18]\tvalidation_0-merror:0.03027\n",
      "[19]\tvalidation_0-merror:0.02971\n",
      "[20]\tvalidation_0-merror:0.02975\n",
      "[21]\tvalidation_0-merror:0.02966\n",
      "[22]\tvalidation_0-merror:0.02963\n",
      "[23]\tvalidation_0-merror:0.03093\n",
      "[24]\tvalidation_0-merror:0.03012\n",
      "[25]\tvalidation_0-merror:0.08503\n",
      "[26]\tvalidation_0-merror:0.10079\n",
      "[27]\tvalidation_0-merror:0.15215\n",
      "[28]\tvalidation_0-merror:0.13848\n",
      "[29]\tvalidation_0-merror:0.33481\n",
      "[30]\tvalidation_0-merror:0.29351\n",
      "[31]\tvalidation_0-merror:0.31130\n",
      "[32]\tvalidation_0-merror:0.39592\n",
      "[33]\tvalidation_0-merror:0.42113\n",
      "[34]\tvalidation_0-merror:0.34301\n",
      "[35]\tvalidation_0-merror:0.35413\n",
      "[36]\tvalidation_0-merror:0.35946\n",
      "[37]\tvalidation_0-merror:0.35473\n"
     ]
    },
    {
     "data": {
      "text/html": [
       "<style>#sk-container-id-1 {color: black;background-color: white;}#sk-container-id-1 pre{padding: 0;}#sk-container-id-1 div.sk-toggleable {background-color: white;}#sk-container-id-1 label.sk-toggleable__label {cursor: pointer;display: block;width: 100%;margin-bottom: 0;padding: 0.3em;box-sizing: border-box;text-align: center;}#sk-container-id-1 label.sk-toggleable__label-arrow:before {content: \"▸\";float: left;margin-right: 0.25em;color: #696969;}#sk-container-id-1 label.sk-toggleable__label-arrow:hover:before {color: black;}#sk-container-id-1 div.sk-estimator:hover label.sk-toggleable__label-arrow:before {color: black;}#sk-container-id-1 div.sk-toggleable__content {max-height: 0;max-width: 0;overflow: hidden;text-align: left;background-color: #f0f8ff;}#sk-container-id-1 div.sk-toggleable__content pre {margin: 0.2em;color: black;border-radius: 0.25em;background-color: #f0f8ff;}#sk-container-id-1 input.sk-toggleable__control:checked~div.sk-toggleable__content {max-height: 200px;max-width: 100%;overflow: auto;}#sk-container-id-1 input.sk-toggleable__control:checked~label.sk-toggleable__label-arrow:before {content: \"▾\";}#sk-container-id-1 div.sk-estimator input.sk-toggleable__control:checked~label.sk-toggleable__label {background-color: #d4ebff;}#sk-container-id-1 div.sk-label input.sk-toggleable__control:checked~label.sk-toggleable__label {background-color: #d4ebff;}#sk-container-id-1 input.sk-hidden--visually {border: 0;clip: rect(1px 1px 1px 1px);clip: rect(1px, 1px, 1px, 1px);height: 1px;margin: -1px;overflow: hidden;padding: 0;position: absolute;width: 1px;}#sk-container-id-1 div.sk-estimator {font-family: monospace;background-color: #f0f8ff;border: 1px dotted black;border-radius: 0.25em;box-sizing: border-box;margin-bottom: 0.5em;}#sk-container-id-1 div.sk-estimator:hover {background-color: #d4ebff;}#sk-container-id-1 div.sk-parallel-item::after {content: \"\";width: 100%;border-bottom: 1px solid gray;flex-grow: 1;}#sk-container-id-1 div.sk-label:hover label.sk-toggleable__label {background-color: #d4ebff;}#sk-container-id-1 div.sk-serial::before {content: \"\";position: absolute;border-left: 1px solid gray;box-sizing: border-box;top: 0;bottom: 0;left: 50%;z-index: 0;}#sk-container-id-1 div.sk-serial {display: flex;flex-direction: column;align-items: center;background-color: white;padding-right: 0.2em;padding-left: 0.2em;position: relative;}#sk-container-id-1 div.sk-item {position: relative;z-index: 1;}#sk-container-id-1 div.sk-parallel {display: flex;align-items: stretch;justify-content: center;background-color: white;position: relative;}#sk-container-id-1 div.sk-item::before, #sk-container-id-1 div.sk-parallel-item::before {content: \"\";position: absolute;border-left: 1px solid gray;box-sizing: border-box;top: 0;bottom: 0;left: 50%;z-index: -1;}#sk-container-id-1 div.sk-parallel-item {display: flex;flex-direction: column;z-index: 1;position: relative;background-color: white;}#sk-container-id-1 div.sk-parallel-item:first-child::after {align-self: flex-end;width: 50%;}#sk-container-id-1 div.sk-parallel-item:last-child::after {align-self: flex-start;width: 50%;}#sk-container-id-1 div.sk-parallel-item:only-child::after {width: 0;}#sk-container-id-1 div.sk-dashed-wrapped {border: 1px dashed gray;margin: 0 0.4em 0.5em 0.4em;box-sizing: border-box;padding-bottom: 0.4em;background-color: white;}#sk-container-id-1 div.sk-label label {font-family: monospace;font-weight: bold;display: inline-block;line-height: 1.2em;}#sk-container-id-1 div.sk-label-container {text-align: center;}#sk-container-id-1 div.sk-container {/* jupyter's `normalize.less` sets `[hidden] { display: none; }` but bootstrap.min.css set `[hidden] { display: none !important; }` so we also need the `!important` here to be able to override the default hidden behavior on the sphinx rendered scikit-learn.org. See: https://github.com/scikit-learn/scikit-learn/issues/21755 */display: inline-block !important;position: relative;}#sk-container-id-1 div.sk-text-repr-fallback {display: none;}</style><div id=\"sk-container-id-1\" class=\"sk-top-container\"><div class=\"sk-text-repr-fallback\"><pre>GridSearchCV(cv=KFold(n_splits=3, random_state=None, shuffle=True),\n",
       "             estimator=XGBClassifier(base_score=None, booster=None,\n",
       "                                     callbacks=None, colsample_bylevel=None,\n",
       "                                     colsample_bynode=None,\n",
       "                                     colsample_bytree=None, device=&#x27;cuda&#x27;,\n",
       "                                     early_stopping_rounds=None,\n",
       "                                     enable_categorical=False, eval_metric=None,\n",
       "                                     feature_types=None, gamma=None,\n",
       "                                     grow_policy=None, importance_type=None...\n",
       "                                     max_leaves=None, min_child_weight=None,\n",
       "                                     missing=nan, monotone_constraints=None,\n",
       "                                     multi_strategy=None, n_estimators=None,\n",
       "                                     n_jobs=None, num_class=7,\n",
       "                                     num_parallel_tree=None, ...),\n",
       "             n_jobs=-1,\n",
       "             param_grid={&#x27;alpha&#x27;: [0, 0.5], &#x27;booster&#x27;: [&#x27;gbtree&#x27;],\n",
       "                         &#x27;gamma&#x27;: [0.01, 0.1], &#x27;lambda&#x27;: [0.1, 0.5],\n",
       "                         &#x27;learning_rate&#x27;: [0.7], &#x27;max_depth&#x27;: [9],\n",
       "                         &#x27;n_estimators&#x27;: [50]},\n",
       "             scoring=&#x27;accuracy&#x27;, verbose=2)</pre><b>In a Jupyter environment, please rerun this cell to show the HTML representation or trust the notebook. <br />On GitHub, the HTML representation is unable to render, please try loading this page with nbviewer.org.</b></div><div class=\"sk-container\" hidden><div class=\"sk-item sk-dashed-wrapped\"><div class=\"sk-label-container\"><div class=\"sk-label sk-toggleable\"><input class=\"sk-toggleable__control sk-hidden--visually\" id=\"sk-estimator-id-1\" type=\"checkbox\" ><label for=\"sk-estimator-id-1\" class=\"sk-toggleable__label sk-toggleable__label-arrow\">GridSearchCV</label><div class=\"sk-toggleable__content\"><pre>GridSearchCV(cv=KFold(n_splits=3, random_state=None, shuffle=True),\n",
       "             estimator=XGBClassifier(base_score=None, booster=None,\n",
       "                                     callbacks=None, colsample_bylevel=None,\n",
       "                                     colsample_bynode=None,\n",
       "                                     colsample_bytree=None, device=&#x27;cuda&#x27;,\n",
       "                                     early_stopping_rounds=None,\n",
       "                                     enable_categorical=False, eval_metric=None,\n",
       "                                     feature_types=None, gamma=None,\n",
       "                                     grow_policy=None, importance_type=None...\n",
       "                                     max_leaves=None, min_child_weight=None,\n",
       "                                     missing=nan, monotone_constraints=None,\n",
       "                                     multi_strategy=None, n_estimators=None,\n",
       "                                     n_jobs=None, num_class=7,\n",
       "                                     num_parallel_tree=None, ...),\n",
       "             n_jobs=-1,\n",
       "             param_grid={&#x27;alpha&#x27;: [0, 0.5], &#x27;booster&#x27;: [&#x27;gbtree&#x27;],\n",
       "                         &#x27;gamma&#x27;: [0.01, 0.1], &#x27;lambda&#x27;: [0.1, 0.5],\n",
       "                         &#x27;learning_rate&#x27;: [0.7], &#x27;max_depth&#x27;: [9],\n",
       "                         &#x27;n_estimators&#x27;: [50]},\n",
       "             scoring=&#x27;accuracy&#x27;, verbose=2)</pre></div></div></div><div class=\"sk-parallel\"><div class=\"sk-parallel-item\"><div class=\"sk-item\"><div class=\"sk-label-container\"><div class=\"sk-label sk-toggleable\"><input class=\"sk-toggleable__control sk-hidden--visually\" id=\"sk-estimator-id-2\" type=\"checkbox\" ><label for=\"sk-estimator-id-2\" class=\"sk-toggleable__label sk-toggleable__label-arrow\">estimator: XGBClassifier</label><div class=\"sk-toggleable__content\"><pre>XGBClassifier(base_score=None, booster=None, callbacks=None,\n",
       "              colsample_bylevel=None, colsample_bynode=None,\n",
       "              colsample_bytree=None, device=&#x27;cuda&#x27;, early_stopping_rounds=None,\n",
       "              enable_categorical=False, eval_metric=None, feature_types=None,\n",
       "              gamma=None, grow_policy=None, importance_type=None,\n",
       "              interaction_constraints=None, learning_rate=None, max_bin=None,\n",
       "              max_cat_threshold=None, max_cat_to_onehot=None,\n",
       "              max_delta_step=None, max_depth=None, max_leaves=None,\n",
       "              min_child_weight=None, missing=nan, monotone_constraints=None,\n",
       "              multi_strategy=None, n_estimators=None, n_jobs=None, num_class=7,\n",
       "              num_parallel_tree=None, ...)</pre></div></div></div><div class=\"sk-serial\"><div class=\"sk-item\"><div class=\"sk-estimator sk-toggleable\"><input class=\"sk-toggleable__control sk-hidden--visually\" id=\"sk-estimator-id-3\" type=\"checkbox\" ><label for=\"sk-estimator-id-3\" class=\"sk-toggleable__label sk-toggleable__label-arrow\">XGBClassifier</label><div class=\"sk-toggleable__content\"><pre>XGBClassifier(base_score=None, booster=None, callbacks=None,\n",
       "              colsample_bylevel=None, colsample_bynode=None,\n",
       "              colsample_bytree=None, device=&#x27;cuda&#x27;, early_stopping_rounds=None,\n",
       "              enable_categorical=False, eval_metric=None, feature_types=None,\n",
       "              gamma=None, grow_policy=None, importance_type=None,\n",
       "              interaction_constraints=None, learning_rate=None, max_bin=None,\n",
       "              max_cat_threshold=None, max_cat_to_onehot=None,\n",
       "              max_delta_step=None, max_depth=None, max_leaves=None,\n",
       "              min_child_weight=None, missing=nan, monotone_constraints=None,\n",
       "              multi_strategy=None, n_estimators=None, n_jobs=None, num_class=7,\n",
       "              num_parallel_tree=None, ...)</pre></div></div></div></div></div></div></div></div></div></div>"
      ],
      "text/plain": [
       "GridSearchCV(cv=KFold(n_splits=3, random_state=None, shuffle=True),\n",
       "             estimator=XGBClassifier(base_score=None, booster=None,\n",
       "                                     callbacks=None, colsample_bylevel=None,\n",
       "                                     colsample_bynode=None,\n",
       "                                     colsample_bytree=None, device='cuda',\n",
       "                                     early_stopping_rounds=None,\n",
       "                                     enable_categorical=False, eval_metric=None,\n",
       "                                     feature_types=None, gamma=None,\n",
       "                                     grow_policy=None, importance_type=None...\n",
       "                                     max_leaves=None, min_child_weight=None,\n",
       "                                     missing=nan, monotone_constraints=None,\n",
       "                                     multi_strategy=None, n_estimators=None,\n",
       "                                     n_jobs=None, num_class=7,\n",
       "                                     num_parallel_tree=None, ...),\n",
       "             n_jobs=-1,\n",
       "             param_grid={'alpha': [0, 0.5], 'booster': ['gbtree'],\n",
       "                         'gamma': [0.01, 0.1], 'lambda': [0.1, 0.5],\n",
       "                         'learning_rate': [0.7], 'max_depth': [9],\n",
       "                         'n_estimators': [50]},\n",
       "             scoring='accuracy', verbose=2)"
      ]
     },
     "execution_count": 18,
     "metadata": {},
     "output_type": "execute_result"
    }
   ],
   "source": [
    "# Shift the target variables for XGBoost, as it expects labels in the range [0, num_class)\n",
    "y_train_shift = y_train.astype(int) - 1\n",
    "\n",
    "# Perform grid search using XGBoost model on the training data with shifted target variables\n",
    "grid_search.fit(X_train, y_train_shift, **fit_params)"
   ]
  },
  {
   "cell_type": "code",
   "execution_count": 19,
   "metadata": {},
   "outputs": [
    {
     "name": "stdout",
     "output_type": "stream",
     "text": [
      "0.970453367661864\n"
     ]
    }
   ],
   "source": [
    "# Print the Best Cross-Validated Score from the Grid Search\n",
    "print(grid_search.best_score_)\n"
   ]
  },
  {
   "cell_type": "code",
   "execution_count": 20,
   "metadata": {},
   "outputs": [
    {
     "data": {
      "text/html": [
       "<div>\n",
       "<style scoped>\n",
       "    .dataframe tbody tr th:only-of-type {\n",
       "        vertical-align: middle;\n",
       "    }\n",
       "\n",
       "    .dataframe tbody tr th {\n",
       "        vertical-align: top;\n",
       "    }\n",
       "\n",
       "    .dataframe thead th {\n",
       "        text-align: right;\n",
       "    }\n",
       "</style>\n",
       "<table border=\"1\" class=\"dataframe\">\n",
       "  <thead>\n",
       "    <tr style=\"text-align: right;\">\n",
       "      <th></th>\n",
       "      <th>params</th>\n",
       "      <th>mean_test_score</th>\n",
       "    </tr>\n",
       "  </thead>\n",
       "  <tbody>\n",
       "    <tr>\n",
       "      <th>0</th>\n",
       "      <td>{'alpha': 0, 'booster': 'gbtree', 'gamma': 0.0...</td>\n",
       "      <td>0.970342</td>\n",
       "    </tr>\n",
       "    <tr>\n",
       "      <th>1</th>\n",
       "      <td>{'alpha': 0, 'booster': 'gbtree', 'gamma': 0.0...</td>\n",
       "      <td>0.970441</td>\n",
       "    </tr>\n",
       "    <tr>\n",
       "      <th>2</th>\n",
       "      <td>{'alpha': 0, 'booster': 'gbtree', 'gamma': 0.1...</td>\n",
       "      <td>0.969660</td>\n",
       "    </tr>\n",
       "    <tr>\n",
       "      <th>3</th>\n",
       "      <td>{'alpha': 0, 'booster': 'gbtree', 'gamma': 0.1...</td>\n",
       "      <td>0.970380</td>\n",
       "    </tr>\n",
       "    <tr>\n",
       "      <th>4</th>\n",
       "      <td>{'alpha': 0.5, 'booster': 'gbtree', 'gamma': 0...</td>\n",
       "      <td>0.970453</td>\n",
       "    </tr>\n",
       "    <tr>\n",
       "      <th>5</th>\n",
       "      <td>{'alpha': 0.5, 'booster': 'gbtree', 'gamma': 0...</td>\n",
       "      <td>0.970444</td>\n",
       "    </tr>\n",
       "    <tr>\n",
       "      <th>6</th>\n",
       "      <td>{'alpha': 0.5, 'booster': 'gbtree', 'gamma': 0...</td>\n",
       "      <td>0.970207</td>\n",
       "    </tr>\n",
       "    <tr>\n",
       "      <th>7</th>\n",
       "      <td>{'alpha': 0.5, 'booster': 'gbtree', 'gamma': 0...</td>\n",
       "      <td>0.970384</td>\n",
       "    </tr>\n",
       "  </tbody>\n",
       "</table>\n",
       "</div>"
      ],
      "text/plain": [
       "                                              params  mean_test_score\n",
       "0  {'alpha': 0, 'booster': 'gbtree', 'gamma': 0.0...         0.970342\n",
       "1  {'alpha': 0, 'booster': 'gbtree', 'gamma': 0.0...         0.970441\n",
       "2  {'alpha': 0, 'booster': 'gbtree', 'gamma': 0.1...         0.969660\n",
       "3  {'alpha': 0, 'booster': 'gbtree', 'gamma': 0.1...         0.970380\n",
       "4  {'alpha': 0.5, 'booster': 'gbtree', 'gamma': 0...         0.970453\n",
       "5  {'alpha': 0.5, 'booster': 'gbtree', 'gamma': 0...         0.970444\n",
       "6  {'alpha': 0.5, 'booster': 'gbtree', 'gamma': 0...         0.970207\n",
       "7  {'alpha': 0.5, 'booster': 'gbtree', 'gamma': 0...         0.970384"
      ]
     },
     "execution_count": 20,
     "metadata": {},
     "output_type": "execute_result"
    }
   ],
   "source": [
    "# Create a DataFrame 'infos' containing hyperparameter values and corresponding mean test scores\n",
    "results = pd.DataFrame.from_dict(grid_search.cv_results_).loc[:, ['params', 'mean_test_score']]\n",
    "\n",
    "# Display or use 'results' for further analysis\n",
    "results"
   ]
  },
  {
   "cell_type": "code",
   "execution_count": 23,
   "metadata": {},
   "outputs": [
    {
     "name": "stdout",
     "output_type": "stream",
     "text": [
      "XGBClassifier(alpha=0.5, base_score=None, booster='gbtree', callbacks=None,\n",
      "              colsample_bylevel=None, colsample_bynode=None,\n",
      "              colsample_bytree=None, device='cuda', early_stopping_rounds=None,\n",
      "              enable_categorical=False, eval_metric=None, feature_types=None,\n",
      "              gamma=0.01, grow_policy=None, importance_type=None,\n",
      "              interaction_constraints=None, lambda=0.1, learning_rate=0.7,\n",
      "              max_bin=None, max_cat_threshold=None, max_cat_to_onehot=None,\n",
      "              max_delta_step=None, max_depth=9, max_leaves=None,\n",
      "              min_child_weight=None, missing=nan, monotone_constraints=None,\n",
      "              multi_strategy=None, n_estimators=50, n_jobs=None, ...)\n"
     ]
    }
   ],
   "source": [
    "# Retrieve the best estimator (XGBoost model) from the grid search results\n",
    "xgb = grid_search.best_estimator_\n",
    "\n",
    "# Print the best XGBoost model\n",
    "print(xgb)"
   ]
  },
  {
   "cell_type": "code",
   "execution_count": 24,
   "metadata": {},
   "outputs": [
    {
     "name": "stderr",
     "output_type": "stream",
     "text": [
      "C:\\Users\\Jens Tauscher\\AppData\\Roaming\\Python\\Python311\\site-packages\\xgboost\\core.py:160: UserWarning: [23:50:57] WARNING: C:\\buildkite-agent\\builds\\buildkite-windows-cpu-autoscaling-group-i-0750514818a16474a-1\\xgboost\\xgboost-ci-windows\\src\\context.cc:44: No visible GPU is found, setting device to CPU.\n",
      "  warnings.warn(smsg, UserWarning)\n"
     ]
    },
    {
     "data": {
      "text/html": [
       "<style>#sk-container-id-2 {color: black;background-color: white;}#sk-container-id-2 pre{padding: 0;}#sk-container-id-2 div.sk-toggleable {background-color: white;}#sk-container-id-2 label.sk-toggleable__label {cursor: pointer;display: block;width: 100%;margin-bottom: 0;padding: 0.3em;box-sizing: border-box;text-align: center;}#sk-container-id-2 label.sk-toggleable__label-arrow:before {content: \"▸\";float: left;margin-right: 0.25em;color: #696969;}#sk-container-id-2 label.sk-toggleable__label-arrow:hover:before {color: black;}#sk-container-id-2 div.sk-estimator:hover label.sk-toggleable__label-arrow:before {color: black;}#sk-container-id-2 div.sk-toggleable__content {max-height: 0;max-width: 0;overflow: hidden;text-align: left;background-color: #f0f8ff;}#sk-container-id-2 div.sk-toggleable__content pre {margin: 0.2em;color: black;border-radius: 0.25em;background-color: #f0f8ff;}#sk-container-id-2 input.sk-toggleable__control:checked~div.sk-toggleable__content {max-height: 200px;max-width: 100%;overflow: auto;}#sk-container-id-2 input.sk-toggleable__control:checked~label.sk-toggleable__label-arrow:before {content: \"▾\";}#sk-container-id-2 div.sk-estimator input.sk-toggleable__control:checked~label.sk-toggleable__label {background-color: #d4ebff;}#sk-container-id-2 div.sk-label input.sk-toggleable__control:checked~label.sk-toggleable__label {background-color: #d4ebff;}#sk-container-id-2 input.sk-hidden--visually {border: 0;clip: rect(1px 1px 1px 1px);clip: rect(1px, 1px, 1px, 1px);height: 1px;margin: -1px;overflow: hidden;padding: 0;position: absolute;width: 1px;}#sk-container-id-2 div.sk-estimator {font-family: monospace;background-color: #f0f8ff;border: 1px dotted black;border-radius: 0.25em;box-sizing: border-box;margin-bottom: 0.5em;}#sk-container-id-2 div.sk-estimator:hover {background-color: #d4ebff;}#sk-container-id-2 div.sk-parallel-item::after {content: \"\";width: 100%;border-bottom: 1px solid gray;flex-grow: 1;}#sk-container-id-2 div.sk-label:hover label.sk-toggleable__label {background-color: #d4ebff;}#sk-container-id-2 div.sk-serial::before {content: \"\";position: absolute;border-left: 1px solid gray;box-sizing: border-box;top: 0;bottom: 0;left: 50%;z-index: 0;}#sk-container-id-2 div.sk-serial {display: flex;flex-direction: column;align-items: center;background-color: white;padding-right: 0.2em;padding-left: 0.2em;position: relative;}#sk-container-id-2 div.sk-item {position: relative;z-index: 1;}#sk-container-id-2 div.sk-parallel {display: flex;align-items: stretch;justify-content: center;background-color: white;position: relative;}#sk-container-id-2 div.sk-item::before, #sk-container-id-2 div.sk-parallel-item::before {content: \"\";position: absolute;border-left: 1px solid gray;box-sizing: border-box;top: 0;bottom: 0;left: 50%;z-index: -1;}#sk-container-id-2 div.sk-parallel-item {display: flex;flex-direction: column;z-index: 1;position: relative;background-color: white;}#sk-container-id-2 div.sk-parallel-item:first-child::after {align-self: flex-end;width: 50%;}#sk-container-id-2 div.sk-parallel-item:last-child::after {align-self: flex-start;width: 50%;}#sk-container-id-2 div.sk-parallel-item:only-child::after {width: 0;}#sk-container-id-2 div.sk-dashed-wrapped {border: 1px dashed gray;margin: 0 0.4em 0.5em 0.4em;box-sizing: border-box;padding-bottom: 0.4em;background-color: white;}#sk-container-id-2 div.sk-label label {font-family: monospace;font-weight: bold;display: inline-block;line-height: 1.2em;}#sk-container-id-2 div.sk-label-container {text-align: center;}#sk-container-id-2 div.sk-container {/* jupyter's `normalize.less` sets `[hidden] { display: none; }` but bootstrap.min.css set `[hidden] { display: none !important; }` so we also need the `!important` here to be able to override the default hidden behavior on the sphinx rendered scikit-learn.org. See: https://github.com/scikit-learn/scikit-learn/issues/21755 */display: inline-block !important;position: relative;}#sk-container-id-2 div.sk-text-repr-fallback {display: none;}</style><div id=\"sk-container-id-2\" class=\"sk-top-container\"><div class=\"sk-text-repr-fallback\"><pre>XGBClassifier(alpha=0.5, base_score=None, booster=&#x27;gbtree&#x27;, callbacks=None,\n",
       "              colsample_bylevel=None, colsample_bynode=None,\n",
       "              colsample_bytree=None, device=&#x27;cuda&#x27;, early_stopping_rounds=None,\n",
       "              enable_categorical=False, eval_metric=None, feature_types=None,\n",
       "              gamma=0.01, grow_policy=None, importance_type=None,\n",
       "              interaction_constraints=None, lambda=0.1, learning_rate=0.7,\n",
       "              max_bin=None, max_cat_threshold=None, max_cat_to_onehot=None,\n",
       "              max_delta_step=None, max_depth=9, max_leaves=None,\n",
       "              min_child_weight=None, missing=nan, monotone_constraints=None,\n",
       "              multi_strategy=None, n_estimators=50, n_jobs=None, ...)</pre><b>In a Jupyter environment, please rerun this cell to show the HTML representation or trust the notebook. <br />On GitHub, the HTML representation is unable to render, please try loading this page with nbviewer.org.</b></div><div class=\"sk-container\" hidden><div class=\"sk-item\"><div class=\"sk-estimator sk-toggleable\"><input class=\"sk-toggleable__control sk-hidden--visually\" id=\"sk-estimator-id-4\" type=\"checkbox\" checked><label for=\"sk-estimator-id-4\" class=\"sk-toggleable__label sk-toggleable__label-arrow\">XGBClassifier</label><div class=\"sk-toggleable__content\"><pre>XGBClassifier(alpha=0.5, base_score=None, booster=&#x27;gbtree&#x27;, callbacks=None,\n",
       "              colsample_bylevel=None, colsample_bynode=None,\n",
       "              colsample_bytree=None, device=&#x27;cuda&#x27;, early_stopping_rounds=None,\n",
       "              enable_categorical=False, eval_metric=None, feature_types=None,\n",
       "              gamma=0.01, grow_policy=None, importance_type=None,\n",
       "              interaction_constraints=None, lambda=0.1, learning_rate=0.7,\n",
       "              max_bin=None, max_cat_threshold=None, max_cat_to_onehot=None,\n",
       "              max_delta_step=None, max_depth=9, max_leaves=None,\n",
       "              min_child_weight=None, missing=nan, monotone_constraints=None,\n",
       "              multi_strategy=None, n_estimators=50, n_jobs=None, ...)</pre></div></div></div></div></div>"
      ],
      "text/plain": [
       "XGBClassifier(alpha=0.5, base_score=None, booster='gbtree', callbacks=None,\n",
       "              colsample_bylevel=None, colsample_bynode=None,\n",
       "              colsample_bytree=None, device='cuda', early_stopping_rounds=None,\n",
       "              enable_categorical=False, eval_metric=None, feature_types=None,\n",
       "              gamma=0.01, grow_policy=None, importance_type=None,\n",
       "              interaction_constraints=None, lambda=0.1, learning_rate=0.7,\n",
       "              max_bin=None, max_cat_threshold=None, max_cat_to_onehot=None,\n",
       "              max_delta_step=None, max_depth=9, max_leaves=None,\n",
       "              min_child_weight=None, missing=nan, monotone_constraints=None,\n",
       "              multi_strategy=None, n_estimators=50, n_jobs=None, ...)"
      ]
     },
     "execution_count": 24,
     "metadata": {},
     "output_type": "execute_result"
    }
   ],
   "source": [
    "# Shift the target variables for XGBoost, as it expects labels in the range [0, num_class)\n",
    "y_train_shift = y_train.astype(int) - 1\n",
    "\n",
    "# Fit the best XGBoost model on the training data with shifted target variables\n",
    "xgb.fit(X_train, y_train_shift)"
   ]
  },
  {
   "cell_type": "code",
   "execution_count": 55,
   "metadata": {},
   "outputs": [
    {
     "name": "stdout",
     "output_type": "stream",
     "text": [
      "Mean roc_auc_ovr: 0.9463752928573193\n",
      "Mean f1_macro: 0.8851816928246894\n",
      "Top 10 Feature Importances:\n",
      "z_Wh/km: 0.3871\n",
      "Ft_OTHER: 0.2455\n",
      "ep_KW: 0.0669\n",
      "Ft_DIESEL: 0.0639\n",
      "ec_cm3: 0.0289\n",
      "Fm_H: 0.0276\n",
      "Mp_MAZDA-SUBARU-SUZUKI-TOYOTA: 0.0236\n",
      "Ft_PETROL: 0.0231\n",
      "Mp_VW-SAIC: 0.0164\n",
      "Mp_BMW: 0.0157\n"
     ]
    },
    {
     "data": {
      "image/png": "[encoded data removed]",
      "text/plain": [
       "<Figure size 1000x600 with 1 Axes>"
      ]
     },
     "metadata": {},
     "output_type": "display_data"
    },
    {
     "name": "stdout",
     "output_type": "stream",
     "text": [
      "Predictions       1       2       3       4       5       6       7\n",
      "True Values                                                        \n",
      "1            144256       8       0       0       0       0       0\n",
      "2               109  140459    3696       0       0       0       0\n",
      "3                 0    6123  133045    5097       0       0       0\n",
      "4                 2       0    3236  135785    5242       0       0\n",
      "5                 0       0       0    3218  140400     647       0\n",
      "6                 0       0       0       0     132  142848    1284\n",
      "7                 0       0       0       0       0    1027  143237\n",
      "              precision    recall  f1-score   support\n",
      "\n",
      "           1       1.00      1.00      1.00    144264\n",
      "           2       0.96      0.97      0.97    144264\n",
      "           3       0.95      0.92      0.94    144265\n",
      "           4       0.94      0.94      0.94    144265\n",
      "           5       0.96      0.97      0.97    144265\n",
      "           6       0.99      0.99      0.99    144264\n",
      "           7       0.99      0.99      0.99    144264\n",
      "\n",
      "    accuracy                           0.97   1009851\n",
      "   macro avg       0.97      0.97      0.97   1009851\n",
      "weighted avg       0.97      0.97      0.97   1009851\n",
      "\n"
     ]
    }
   ],
   "source": [
    "\n",
    "\n",
    "# Splitting the data\n",
    "X, X_valid, y, y_valid = train_test_split(data_ros, target_ros, test_size=0.3, stratify=target_ros)\n",
    "X_train, X_test, y_train, y_test = train_test_split(X, y, test_size=0.3, stratify=y)\n",
    "\n",
    "# Scaling the features\n",
    "scaler = StandardScaler()\n",
    "scaler.fit(X_train, y_train)\n",
    "X_train = scaler.transform(X_train)\n",
    "X_valid = scaler.transform(X_valid)\n",
    "X_test = scaler.transform(X_test)\n",
    "\n",
    "# Adjusting class labels for XGBoost\n",
    "y_valid_shifted = y_valid.astype(int) - 1\n",
    "y_train_shifted = y_train.astype(int) - 1\n",
    "y_test_shifted = y_test.astype(int) - 1\n",
    "\n",
    "# Creating the XGBoost model with the best hyperparameters\n",
    "xgb_model = XGBClassifier(\n",
    "    objective='multi:softmax',\n",
    "    num_class=7,\n",
    "    random_state=42,\n",
    "    device='cuda',\n",
    "    alpha=0.5,  # Adjusted alpha based on your param_grid\n",
    "    booster='gbtree',\n",
    "    gamma=0.01,\n",
    "    reg_alpha=0.5,  # Changed from alpha to reg_alpha\n",
    "    reg_lambda=0.1,\n",
    "    learning_rate=0.7,\n",
    "    max_depth=9,\n",
    "    n_estimators=50\n",
    ")\n",
    "\n",
    "# Fitting the model to the training data\n",
    "xgb_model.fit(X_train, y_train_shifted)\n",
    "\n",
    "# Cross-validation scores\n",
    "cv_kf = KFold(n_splits=5, shuffle=True)\n",
    "scoring_metrics = ['roc_auc_ovr', 'f1_macro']\n",
    "clf_scores = cross_validate(xgb_model, X_train, y_train_shifted, cv=cv_kf, scoring=scoring_metrics, return_train_score=False)\n",
    "for metric in scoring_metrics:\n",
    "    mean_score = clf_scores[f'test_{metric}'].mean()\n",
    "    print(f\"Mean {metric}:\", mean_score)\n",
    "\n",
    "# Displaying feature importance bar plot\n",
    "feature_importance = display_feature_importance(X_train, data_ros.columns, xgb_model)\n",
    "\n",
    "# Predicting target for the test set\n",
    "y_pred = xgb_model.predict(X_test)\n",
    "y_pred += 1\n",
    "\n",
    "# Displaying the confusion matrix\n",
    "conf_mat = pd.DataFrame(pd.crosstab(y_test, y_pred, rownames=['True Values'], colnames=['Predictions']))\n",
    "print(conf_mat)\n",
    "\n",
    "# Displaying the classification report\n",
    "classif_report = classification_report(y_test.astype(int), y_pred)\n",
    "print(classif_report)\n"
   ]
  },
  {
   "cell_type": "markdown",
   "metadata": {},
   "source": [
    "#### **Evaluation: Optimized XGBoost**\n",
    "\n",
    "- The evaluation of our optimized XGBoost classification model indicates a commendable performance, with a mean AUC-ROC of 0.9463 and a mean F1-macro of 0.8852. These metrics suggest the model's robust ability to distinguish between positive and negative examples while achieving a balanced trade-off between precision and recall.\n",
    "- Examining the confusion matrix, we observe excellent performance in accurately predicting instances across various classes. Notably, Classes 1, 2, 5, 6, and 7 exhibit near-perfect precision, recall, and F1-scores, indicating the model's proficiency in handling diverse emission categories.\n",
    "- While global metrics such as precision, recall, and F1-score are moderate, the overall accuracy stands at 0.97, indicating the model's correct predictions in the majority of cases. Further insights from class-specific metrics reveal strong performance in certain classes and highlight opportunities for enhancement in others.\n",
    "\n",
    "In summary, the optimized XGBoost model showcases strong predictive capabilities, with room for targeted improvements in specific classes. These results guide future refinements to maximize the overall accuracy and effectiveness of the model in predicting vehicle CO² emissions."
   ]
  },
  {
   "cell_type": "markdown",
   "metadata": {},
   "source": [
    "#### **Feature Importance Optimized XGBoost**"
   ]
  },
  {
   "cell_type": "markdown",
   "metadata": {},
   "source": [
    "- The optimized XGBoost classification model reveals crucial insights into the factors driving its predictions. At the forefront is the energy consumption per kilometer (‘z_Wh/km’) with a substantial importance of 41.60%. This indicates that vehicles exhibiting lower energy consumption per kilometer significantly shape the model's forecasts. The diversity of fuel types also plays a pivotal role, particularly with \"Other\" fuel types (‘Ft_OTHER’), contributing significantly at 26.68%.\n",
    "- Engine power (‘ep_KW’) remains a vital determinant, though slightly less influential than energy consumption, boasting an importance score of 5.82%. The specific fuel type of Diesel (‘Ft_DIESEL’) holds importance as well, accounting for 5.54% of the model's decision-making process. Engine capacity (‘ec_cm3’) is relevant but to a lesser extent, contributing 2.43%.\n",
    "- Additional considerations include the transmission type, where vehicles with manual transmission (‘Fm_M’) contribute modestly at 2.12%. Fuel type, specifically petrol (‘Ft_PETROL’), plays a role with a modest importance of 1.95%. Certain manufacturers, including Mazda, Subaru, Suzuki, and Toyota (‘Mp_MAZDA-SUBARU-SUZUKI-TOYOTA’), contribute 1.63% to the model's predictions.\n"
   ]
  },
  {
   "cell_type": "markdown",
   "metadata": {},
   "source": [
    "## **Summary**\n",
    "\n",
    "- In this comprehensive evaluation of various classification models for predicting CO² emission classes, each model demonstrated a remarkable accuracy of 0.97. Notably, the RandomForest model emerged as a standout performer, boasting near-perfect mean ROC AUC (OvR) of 0.9992 and an impressive mean F1-Score (Macro) of 0.9712. Its ability to precisely classify CO² emission classes is evident, although its computational complexity might be a consideration for larger datasets.\n",
    "- The optimized XGBoost model, while maintaining high accuracy of 0.97, showed a slightly lower mean ROC AUC (OvR) of 0.9464 and a good mean F1-Score (Macro) of 0.8852. This suggests a nuanced trade-off between precision and recall, making it a strong contender with computational efficiency in mind.\n",
    "\n",
    "- The DecisionTree model, similar to RandomForest, achieved an excellent mean ROC AUC (OvR) of 0.9993 and a robust mean F1-Score (Macro) of 0.9712. However, DecisionTree models may face challenges related to overfitting and interpretability.\n",
    "- The non-optimized XGBoost model displayed exceptional performance, emphasizing its inherent capabilities for classification tasks, albeit not reaching the same accuracy levels as RandomForest. The optimized DecisionTree model mirrored the performance of RandomForest and non-optimized DecisionTree, showcasing high mean ROC AUC (OvR) and mean F1-Score (Macro).\n",
    "- Ultimately, the choice between these models hinges on specific requirements such as interpretability, computational complexity, and the nature of the application. RandomForest and optimized DecisionTree models shine in overall performance, while the optimized XGBoost model strikes a balance between accuracy and efficiency. \n",
    "\n",
    "- Analyzing the feature importance across various CO² emission classification models reveals both commonalities and differences. 'z_Wh/km' (energy consumption per kilometer) and 'ep_KW' (engine power) emerge as pivotal features consistently across all models, including Random Forest, Decision Tree, XGBoost, and the optimized XGBoost model.\n",
    "\n",
    "- Notably, the optimized Decision Tree model places additional emphasis on features such as 'W_mm' (width) and 'At1_mm' (aspect ratio), indicating the significance of vehicle dimensions in emission classification. This model also highlights 'Ft_HYBRID' (HYBRID fuel type) more strongly.\n",
    "- The XGBoost algorithm, both in its base form and the optimized state, underscores 'z_Wh/km' and 'Ft_OTHER' (other fuel types) as crucial features. It also exhibits higher weighting for 'Ft_DIESEL' (DIESEL fuel type) and 'ec_cm3' (engine capacity in cubic centimeters).\n",
    "Random Forest accentuates 'ep_KW' and 'm_kg' (vehicle mass), suggesting that both power and weight play pivotal roles.\n",
    "\n",
    "Overall, these results emphasize that different models identify distinct features as critical for CO² emission classification. It is essential to consider these differences and interpret feature importance in the context of each model's architecture.\n"
   ]
  }
 ],
 "metadata": {
  "kernelspec": {
   "display_name": "Python 3",
   "language": "python",
   "name": "python3"
  },
  "language_info": {
   "codemirror_mode": {
    "name": "ipython",
    "version": 3
   },
   "file_extension": ".py",
   "mimetype": "text/x-python",
   "name": "python",
   "nbconvert_exporter": "python",
   "pygments_lexer": "ipython3",
   "version": "3.11.3"
  }
 },
 "nbformat": 4,
 "nbformat_minor": 2
}
