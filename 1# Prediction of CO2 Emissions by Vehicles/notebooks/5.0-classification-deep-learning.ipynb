{
  "cells": [
    {
      "cell_type": "code",
      "execution_count": null,
      "metadata": {
        "colab": {
          "base_uri": "https://localhost:8080/"
        },
        "id": "Yv28xMO3icLY",
        "outputId": "b5006734-94f4-4424-b812-1a89cab4ac78"
      },
      "outputs": [
        {
          "output_type": "stream",
          "name": "stdout",
          "text": [
            "Mounted at /content/drive\n"
          ]
        }
      ],
      "source": [
        "from google.colab import drive\n",
        "drive.mount('/content/drive')"
      ]
    },
    {
      "cell_type": "markdown",
      "source": [
        "#Import Libraries"
      ],
      "metadata": {
        "id": "jHsYrawE1kdq"
      }
    },
    {
      "cell_type": "code",
      "execution_count": null,
      "metadata": {
        "id": "zEuDskV_iBjC"
      },
      "outputs": [],
      "source": [
        "import numpy as np\n",
        "import pandas as pd\n",
        "import matplotlib.pyplot as plt\n",
        "%matplotlib inline\n",
        "import seaborn as sns"
      ]
    },
    {
      "cell_type": "markdown",
      "source": [
        "# Read preprocessed Dataset"
      ],
      "metadata": {
        "id": "2P6PZ2181ymC"
      }
    },
    {
      "cell_type": "code",
      "execution_count": null,
      "metadata": {
        "id": "oSx33PrtCy4L"
      },
      "outputs": [],
      "source": [
        "df = pd.read_csv('/content/drive/MyDrive/data_2021_CO2_Project_Fr_preprocessed.csv')"
      ]
    },
    {
      "cell_type": "markdown",
      "metadata": {
        "id": "yFGka4seXG48"
      },
      "source": [
        "#Split Features and Target"
      ]
    },
    {
      "cell_type": "markdown",
      "source": [
        "df['Ewltp_g/km'] is splitted into 7 CO2 Emission classes\n"
      ],
      "metadata": {
        "id": "QLaP7uTH2FGb"
      }
    },
    {
      "cell_type": "code",
      "execution_count": null,
      "metadata": {
        "id": "IkRb1QdXXGOt"
      },
      "outputs": [],
      "source": [
        "target = pd.cut(x=df['Ewltp_g/km'], bins=[0, 100, 120, 140, 160, 200, 250, np.inf], labels=['0', '1', '2', '3', '4', '5', '6'], right=True)"
      ]
    },
    {
      "cell_type": "code",
      "execution_count": null,
      "metadata": {
        "id": "a0D4yG7Te8en"
      },
      "outputs": [],
      "source": [
        "data = df.drop('Ewltp_g/km', axis=1)"
      ]
    },
    {
      "cell_type": "markdown",
      "metadata": {
        "id": "7BEq2WqifDfc"
      },
      "source": [
        "##Dropping highly correlated Features"
      ]
    },
    {
      "cell_type": "code",
      "execution_count": null,
      "metadata": {
        "id": "jZxg86PVgGQo"
      },
      "outputs": [],
      "source": [
        "data = data.drop('Fc', axis=1)\n",
        "data = data.drop('Er_km', axis=1)\n"
      ]
    },
    {
      "cell_type": "markdown",
      "metadata": {
        "id": "AsVe7oSVjFrY"
      },
      "source": [
        "#Oversampling"
      ]
    },
    {
      "cell_type": "code",
      "execution_count": null,
      "metadata": {
        "colab": {
          "base_uri": "https://localhost:8080/"
        },
        "id": "7hAWGi_ojIVx",
        "outputId": "d9b9d5ad-8d83-45e4-a3ff-d35ca83bbf36"
      },
      "outputs": [
        {
          "output_type": "stream",
          "name": "stdout",
          "text": [
            "Data shape before over-sampling (1589748, 28)\n",
            "Data shape after over-sampling (4808811, 28)\n"
          ]
        }
      ],
      "source": [
        "from imblearn.over_sampling import RandomOverSampler, ADASYN\n",
        "\n",
        "print(f'Data shape before over-sampling {data.shape}')\n",
        "ros = RandomOverSampler()\n",
        "data_ros, target_ros = ros.fit_resample(data, target)\n",
        "print(f'Data shape after over-sampling {data_ros.shape}')\n"
      ]
    },
    {
      "cell_type": "markdown",
      "metadata": {
        "id": "5kkbjdKjCtrv"
      },
      "source": [
        "#Scaling\n"
      ]
    },
    {
      "cell_type": "code",
      "execution_count": null,
      "metadata": {
        "id": "_tM8lGwSMdcP"
      },
      "outputs": [],
      "source": [
        "from sklearn.preprocessing import StandardScaler, MinMaxScaler\n",
        "from sklearn.model_selection import train_test_split\n",
        "\n",
        "def split_scale(X, y, test_size=0.3, scaler_to_apply=StandardScaler, random_state=123):\n",
        "  #Split data to test/train\n",
        "  X_train, X_test, y_train, y_test = train_test_split(X, y, test_size=test_size, stratify=y, random_state=random_state)\n",
        "\n",
        "  #Apply scaling\n",
        "  scaler = scaler_to_apply()\n",
        "  scaler.fit(X_train, y_train)\n",
        "  X_train_scaled = scaler.transform(X_train)\n",
        "  X_test_scaled = scaler.transform(X_test)\n",
        "\n",
        "  return X_train_scaled, X_test_scaled, y_train, y_test\n",
        "\n",
        "#Split original Dataset\n",
        "X_train, X_test, y_train, y_test = split_scale(data, target, scaler_to_apply=StandardScaler)\n",
        "\n",
        "#Split Oversampled Dataset\n",
        "X_train_ros, X_test_ros, y_train_ros, y_test_ros = split_scale(data_ros, target_ros, scaler_to_apply=StandardScaler)\n",
        "\n"
      ]
    },
    {
      "cell_type": "markdown",
      "metadata": {
        "id": "34VtBYH8hAJT"
      },
      "source": [
        "#Deep Learning"
      ]
    },
    {
      "cell_type": "markdown",
      "source": [
        "##Import Libraries"
      ],
      "metadata": {
        "id": "96qQfkyGXuw_"
      }
    },
    {
      "cell_type": "code",
      "execution_count": null,
      "metadata": {
        "id": "1tJlqwzbg_cn"
      },
      "outputs": [],
      "source": [
        "from tensorflow.keras.utils import to_categorical\n",
        "from tensorflow.keras.models import Model, Sequential\n",
        "from tensorflow.keras.layers import Input, Dense, BatchNormalization, Dropout\n",
        "from tensorflow.keras.callbacks import ReduceLROnPlateau, EarlyStopping\n",
        "from tensorflow.keras.optimizers import Adam\n",
        "from sklearn.metrics import confusion_matrix, classification_report\n",
        "from tensorflow.keras.models import load_model\n",
        "\n",
        "import itertools\n",
        "from sklearn import metrics\n",
        "import pickle"
      ]
    },
    {
      "cell_type": "markdown",
      "source": [
        "##Plot Loss & Accuracy"
      ],
      "metadata": {
        "id": "gPT-uf5WXZti"
      }
    },
    {
      "cell_type": "code",
      "execution_count": null,
      "metadata": {
        "id": "ueYRuI18BssY"
      },
      "outputs": [],
      "source": [
        "def plot_acc_loss(history):\n",
        "  '''\n",
        "  Allows to plot evolution of Training and Validation over Epochs for both accuracy and loss\n",
        "  Input:\n",
        "    -history ('.history' attribute from .fit() method output)\n",
        "  Output:\n",
        "    -Displays 2 plots (accuracy/loss) on the same line\n",
        "  '''\n",
        "  #Extract Validation accuracy and loss\n",
        "  loss_valid = history['val_loss']\n",
        "  acc_valid = history['val_accuracy']\n",
        "\n",
        "  #Extract Training accuracy and loss\n",
        "  loss_train = history['loss']\n",
        "  acc_train = history['accuracy']\n",
        "\n",
        "  plt.figure(figsize=(8, 4))\n",
        "\n",
        "  #Subplot for loss\n",
        "  plt.subplot(121)\n",
        "  plt.plot(np.arange(len(loss_valid)), loss_valid, label='Validation')\n",
        "  plt.plot(np.arange(len(loss_train)), loss_train, label='Training')\n",
        "  plt.legend()\n",
        "  plt.title('loss')\n",
        "\n",
        "  #Subplot for accuracy\n",
        "  plt.subplot(122)\n",
        "  plt.plot(np.arange(len(acc_valid)), acc_valid, label='Validation')\n",
        "  plt.plot(np.arange(len(acc_train)), acc_train, label='Training')\n",
        "  plt.title('accuracy')\n",
        "  plt.legend()\n",
        "\n",
        "  #Save Screenshot\n",
        "  plt.savefig('model_history.png', bbox_inches='tight')\n",
        "\n",
        "  plt.show();\n",
        "  return"
      ]
    },
    {
      "cell_type": "markdown",
      "source": [
        "## Prepare Data for DNN"
      ],
      "metadata": {
        "id": "KuqW5eSTXkeC"
      }
    },
    {
      "cell_type": "code",
      "execution_count": null,
      "metadata": {
        "id": "BSo5iqhv7eZS"
      },
      "outputs": [],
      "source": [
        "def prepare_data_for_dnn(X_train_initial, y_train_initial, X_test, y_test, validation_train_ratio=0.05):\n",
        "  '''\n",
        "  Preprocess data for Keras deep learning models\n",
        "    -Split train data to Train/Validation\n",
        "\n",
        "  Input:\n",
        "    -Presplitted Test/Train Data:\n",
        "      Train Data: X, y\n",
        "      Test Data: X_test, y_test\n",
        "    -validation_train_ratio : factor(0,1) representing size of validation data relatively\n",
        "                              to Train data (X_train_initial, y_train_initial)\n",
        "  Returns:\n",
        "    - A list of tuples (X_train_dnn, y_train_dnn), (X_test_dnn, y_test_dnn), (X_valid_dnn, y_valid_dnn)\n",
        "  '''\n",
        "\n",
        "  #Split Train data to Train/Validation\n",
        "  X_train, X_valid, y_train, y_valid = train_test_split(X_train_initial, y_train_initial, test_size=validation_train_ratio)\n",
        "\n",
        "  #Make sure data's type is float\n",
        "  X_train_dnn = X_train.astype(float)\n",
        "  X_test_dnn = X_test.astype(float)\n",
        "  X_valid_dnn = X_valid.astype(float)\n",
        "\n",
        "  y_train_dnn = y_train.astype(float)\n",
        "  y_test_dnn = y_test.astype(float)\n",
        "  y_valid_dnn = y_valid.astype(float)\n",
        "\n",
        "\n",
        "  #y_train_dnn -= 1\n",
        "  #y_test_dnn -= 1\n",
        "  #y_valid_dnn -= 1\n",
        "\n",
        "  # Create output list of tuples for each category from Train/Test/Validation\n",
        "  output = (X_train_dnn, y_train_dnn), (X_test_dnn, y_test_dnn), (X_valid_dnn, y_valid_dnn)\n",
        "  for x, y in output:\n",
        "    print(x.shape)\n",
        "    print(y.shape)\n",
        "  return output"
      ]
    },
    {
      "cell_type": "markdown",
      "source": [
        "## Pickle dump function"
      ],
      "metadata": {
        "id": "DCHT_DYmLlnq"
      }
    },
    {
      "cell_type": "code",
      "source": [
        "def pickle_model_evaluation_data(save_as, cm, cr, tr_history):\n",
        "\n",
        "  # Create a dictionary to store multiple objects\n",
        "  data_to_pickle = {\n",
        "      'conf_matrix': cm,\n",
        "      'classification_report': cr,\n",
        "      'training_history' : tr_history.history\n",
        "  }\n",
        "  with open(save_as, 'wb') as f:\n",
        "    pickle.dump(data_to_pickle, f)\n",
        "  return\n"
      ],
      "metadata": {
        "id": "hrUTLNq2WydI"
      },
      "execution_count": null,
      "outputs": []
    },
    {
      "cell_type": "markdown",
      "source": [
        "## Plot Confusion Matrix"
      ],
      "metadata": {
        "id": "wu33KjViLuq4"
      }
    },
    {
      "cell_type": "code",
      "source": [
        "def plot_confusion_matrix(cm):\n",
        "\n",
        "  classes = range(0, 6)\n",
        "  plt.figure(figsize=(6, 5))\n",
        "\n",
        "  plt.imshow(cm, interpolation='nearest', cmap='Blues')\n",
        "  plt.colorbar()\n",
        "\n",
        "  for i, j in itertools.product(range(cm.shape[0]), range(cm.shape[1])):\n",
        "      plt.text(j, i, cm[i, j],\n",
        "      horizontalalignment=\"center\",\n",
        "      color=\"white\" if cm[i, j] > ( cm.max() / 2) else \"black\")\n",
        "\n",
        "  plt.ylabel('True labels')\n",
        "  plt.xlabel('Predictions')\n",
        "\n",
        "  plt.savefig('cm_dnn_os.png')\n",
        "  plt.show();\n"
      ],
      "metadata": {
        "id": "BXt5GzoTu1to"
      },
      "execution_count": null,
      "outputs": []
    },
    {
      "cell_type": "markdown",
      "source": [
        "## Get confusion Matrix and Classification report"
      ],
      "metadata": {
        "id": "V4KJfv5SR68R"
      }
    },
    {
      "cell_type": "code",
      "source": [
        "def get_cm_cr_from_dnn(model, X_test, y_test):\n",
        "  '''\n",
        "  This function allows to print and return both confusion Matrix and Classification report\n",
        "  Input:\n",
        "    model: DNN fitted model\n",
        "    X_test: unseen test data\n",
        "    y_test: labels for test data\n",
        "  Returns:\n",
        "    conf_matrix: confusion Matrix\n",
        "    class_report: Classification report\n",
        "  '''\n",
        "  # Predictions on test data\n",
        "  y_pred = np.argmax(dnn.predict(X_test), axis=1)\n",
        "\n",
        "  # Confusion Matrix\n",
        "  conf_matrix = confusion_matrix(y_test, y_pred)\n",
        "  #print(\"Confusion Matrix:\")\n",
        "  #print(conf_matrix)\n",
        "\n",
        "  # Classification Report\n",
        "  class_report = classification_report(y_test, y_pred)\n",
        "  #print(\"\\nClassification Report:\")\n",
        "  #print(class_report)\n",
        "\n",
        "  return conf_matrix, class_report"
      ],
      "metadata": {
        "id": "4Vr31xz6RDVd"
      },
      "execution_count": null,
      "outputs": []
    },
    {
      "cell_type": "markdown",
      "source": [
        "## Display Classification Report"
      ],
      "metadata": {
        "id": "44GwmZOJMOwi"
      }
    },
    {
      "cell_type": "code",
      "source": [
        "def display_classification_report(classification_report_str):\n",
        "  import plotly.graph_objects as go\n",
        "  from plotly.subplots import make_subplots\n",
        "\n",
        "  # Parse the classification report string\n",
        "  report_lines = classification_report_str.split('\\n')\n",
        "  data = [line.split()[:4] for line in report_lines[2:-5]]  # Exclude the support values\n",
        "  accuracy_line = [line.split() for line in report_lines[-2:-1]][0]  # Get the accuracy line\n",
        "  accuracy_line[1] = 'Accuracy average'\n",
        "  # Add accuracy information to the data list\n",
        "  data.append(accuracy_line[1:])  # Exclude the \"accuracy\" label\n",
        "\n",
        "  # Create a table using plotly\n",
        "  fig = make_subplots(\n",
        "      rows=1, cols=1,\n",
        "      specs=[[{'type': 'table'}]]\n",
        "  )\n",
        "\n",
        "  # Add metrics table to the plot\n",
        "  fig.add_trace(go.Table(\n",
        "      header=dict(values=['Class', 'Precision', 'Recall', 'F1-Score']),\n",
        "      cells=dict(values=list(zip(*data))),\n",
        "      columnwidth=[.25, .2, .2, .2],\n",
        "  ), row=1, col=1)\n",
        "\n",
        "  # Update layout for better display\n",
        "  fig.update_layout(\n",
        "      height=450,\n",
        "      width=700,\n",
        "      showlegend=False,\n",
        "      title_text=\"Classification Report\",\n",
        "  )\n",
        "\n",
        "  # Show the plot\n",
        "  fig.show()"
      ],
      "metadata": {
        "id": "RrI0zUOjfuSV"
      },
      "execution_count": null,
      "outputs": []
    },
    {
      "cell_type": "markdown",
      "source": [
        "## Load Pickle data"
      ],
      "metadata": {
        "id": "ydMpUJy8OjJs"
      }
    },
    {
      "cell_type": "code",
      "source": [
        "def load_pickle_evaluation_data(file_path):\n",
        "  with open(file_path, 'rb') as f:\n",
        "    dnn_data = pickle.load(f)\n",
        "  cm = dnn_data['conf_matrix']\n",
        "  cr = dnn_data['classification_report']\n",
        "  tr_history = dnn_data['training_history']\n",
        "\n",
        "  return cm, cr, tr_history\n",
        "\n"
      ],
      "metadata": {
        "id": "UNImlXzzdvQ0"
      },
      "execution_count": null,
      "outputs": []
    },
    {
      "cell_type": "markdown",
      "source": [
        "###A First model (Reference)"
      ],
      "metadata": {
        "id": "348RL9MNAK9B"
      }
    },
    {
      "cell_type": "markdown",
      "source": [
        "While searching for the best model, we would use test data for validation.\n"
      ],
      "metadata": {
        "id": "YVNobziE_pHJ"
      }
    },
    {
      "cell_type": "code",
      "execution_count": null,
      "metadata": {
        "id": "QURBtBtPAcZ6",
        "colab": {
          "base_uri": "https://localhost:8080/"
        },
        "outputId": "b1d6ebf5-5e6a-4fc5-cd3e-c0279e4c9893"
      },
      "outputs": [
        {
          "output_type": "stream",
          "name": "stdout",
          "text": [
            "(1057181, 28)\n",
            "(1057181,)\n",
            "(476925, 28)\n",
            "(476925,)\n",
            "(55642, 28)\n",
            "(55642,)\n"
          ]
        }
      ],
      "source": [
        "data_dnn =  prepare_data_for_dnn(X_train, y_train, X_test, y_test)\n",
        "(X_train_dnn, y_train_dnn), (X_test_dnn, y_test_dnn), (X_valid_dnn, y_valid_dnn) = data_dnn"
      ]
    },
    {
      "cell_type": "code",
      "source": [
        "#Build the DNN model using Sequential()\n",
        "dnn = Sequential()\n",
        "dnn.add(Dense(units=32, activation='relu', name='dense1' ))\n",
        "dnn.add(Dense(units=128, activation='relu', name='dense2'))\n",
        "dnn.add(Dense(units=7, activation='softmax', name='dense3'))\n",
        "\n",
        "#initialize Adam Optimizer\n",
        "optimizer = Adam(learning_rate=0.001)\n",
        "\n",
        "#Compile the model\n",
        "dnn.compile(loss = 'sparse_categorical_crossentropy',\n",
        "              optimizer = optimizer,\n",
        "              metrics = ['accuracy'])\n",
        "\n",
        "#Train the model\n",
        "training_history = dnn.fit(X_train_dnn, y_train_dnn,\n",
        "                             epochs = 20,\n",
        "                             batch_size = 1024,\n",
        "                             validation_data=(X_test_dnn, y_test_dnn))\n",
        "\n",
        "#Get Model Summary\n",
        "dnn.summary()\n",
        "\n",
        "#Get history plots\n",
        "plot_acc_loss(training_history.history)"
      ],
      "metadata": {
        "id": "gO8iR1AKAojC",
        "colab": {
          "base_uri": "https://localhost:8080/",
          "height": 1000
        },
        "outputId": "832cf244-7133-4142-800e-21a8e58ac3cd"
      },
      "execution_count": null,
      "outputs": [
        {
          "output_type": "stream",
          "name": "stdout",
          "text": [
            "Epoch 1/20\n",
            "1033/1033 [==============================] - 7s 6ms/step - loss: 0.4245 - accuracy: 0.8396 - val_loss: 0.2584 - val_accuracy: 0.9017\n",
            "Epoch 2/20\n",
            "1033/1033 [==============================] - 5s 5ms/step - loss: 0.2277 - accuracy: 0.9131 - val_loss: 0.2073 - val_accuracy: 0.9219\n",
            "Epoch 3/20\n",
            "1033/1033 [==============================] - 5s 5ms/step - loss: 0.1939 - accuracy: 0.9244 - val_loss: 0.1847 - val_accuracy: 0.9242\n",
            "Epoch 4/20\n",
            "1033/1033 [==============================] - 5s 5ms/step - loss: 0.1769 - accuracy: 0.9295 - val_loss: 0.1726 - val_accuracy: 0.9333\n",
            "Epoch 5/20\n",
            "1033/1033 [==============================] - 5s 5ms/step - loss: 0.1668 - accuracy: 0.9323 - val_loss: 0.1673 - val_accuracy: 0.9307\n",
            "Epoch 6/20\n",
            "1033/1033 [==============================] - 5s 5ms/step - loss: 0.1602 - accuracy: 0.9344 - val_loss: 0.1556 - val_accuracy: 0.9345\n",
            "Epoch 7/20\n",
            "1033/1033 [==============================] - 5s 5ms/step - loss: 0.1551 - accuracy: 0.9361 - val_loss: 0.1604 - val_accuracy: 0.9352\n",
            "Epoch 8/20\n",
            "1033/1033 [==============================] - 5s 5ms/step - loss: 0.1515 - accuracy: 0.9375 - val_loss: 0.1504 - val_accuracy: 0.9384\n",
            "Epoch 9/20\n",
            "1033/1033 [==============================] - 5s 5ms/step - loss: 0.1489 - accuracy: 0.9382 - val_loss: 0.1541 - val_accuracy: 0.9369\n",
            "Epoch 10/20\n",
            "1033/1033 [==============================] - 5s 5ms/step - loss: 0.1462 - accuracy: 0.9394 - val_loss: 0.1441 - val_accuracy: 0.9403\n",
            "Epoch 11/20\n",
            "1033/1033 [==============================] - 5s 5ms/step - loss: 0.1442 - accuracy: 0.9398 - val_loss: 0.1447 - val_accuracy: 0.9374\n",
            "Epoch 12/20\n",
            "1033/1033 [==============================] - 5s 5ms/step - loss: 0.1429 - accuracy: 0.9399 - val_loss: 0.1444 - val_accuracy: 0.9417\n",
            "Epoch 13/20\n",
            "1033/1033 [==============================] - 5s 5ms/step - loss: 0.1411 - accuracy: 0.9407 - val_loss: 0.1404 - val_accuracy: 0.9395\n",
            "Epoch 14/20\n",
            "1033/1033 [==============================] - 5s 5ms/step - loss: 0.1401 - accuracy: 0.9409 - val_loss: 0.1421 - val_accuracy: 0.9408\n",
            "Epoch 15/20\n",
            "1033/1033 [==============================] - 5s 5ms/step - loss: 0.1391 - accuracy: 0.9410 - val_loss: 0.1374 - val_accuracy: 0.9425\n",
            "Epoch 16/20\n",
            "1033/1033 [==============================] - 5s 4ms/step - loss: 0.1378 - accuracy: 0.9415 - val_loss: 0.1394 - val_accuracy: 0.9415\n",
            "Epoch 17/20\n",
            "1033/1033 [==============================] - 5s 5ms/step - loss: 0.1369 - accuracy: 0.9417 - val_loss: 0.1356 - val_accuracy: 0.9403\n",
            "Epoch 18/20\n",
            "1033/1033 [==============================] - 5s 5ms/step - loss: 0.1361 - accuracy: 0.9419 - val_loss: 0.1362 - val_accuracy: 0.9427\n",
            "Epoch 19/20\n",
            "1033/1033 [==============================] - 5s 5ms/step - loss: 0.1355 - accuracy: 0.9422 - val_loss: 0.1376 - val_accuracy: 0.9410\n",
            "Epoch 20/20\n",
            "1033/1033 [==============================] - 5s 5ms/step - loss: 0.1345 - accuracy: 0.9425 - val_loss: 0.1355 - val_accuracy: 0.9416\n",
            "Model: \"sequential_11\"\n",
            "_________________________________________________________________\n",
            " Layer (type)                Output Shape              Param #   \n",
            "=================================================================\n",
            " dense1 (Dense)              (None, 32)                928       \n",
            "                                                                 \n",
            " dense2 (Dense)              (None, 128)               4224      \n",
            "                                                                 \n",
            " dense3 (Dense)              (None, 7)                 903       \n",
            "                                                                 \n",
            "=================================================================\n",
            "Total params: 6055 (23.65 KB)\n",
            "Trainable params: 6055 (23.65 KB)\n",
            "Non-trainable params: 0 (0.00 Byte)\n",
            "_________________________________________________________________\n"
          ]
        },
        {
          "output_type": "display_data",
          "data": {
            "text/plain": [
              "<Figure size 800x400 with 2 Axes>"
            ],
            "image/png": "[encoded data removed]"
          },
          "metadata": {}
        }
      ]
    },
    {
      "cell_type": "markdown",
      "source": [
        "### Random Search\n",
        "\n",
        "In this section we try to find best hyperparameters thanks to Random Search"
      ],
      "metadata": {
        "id": "QLf2u_mKTgwu"
      }
    },
    {
      "cell_type": "markdown",
      "source": [
        "#### Model with 3 Layers"
      ],
      "metadata": {
        "id": "7zaCSMIhExl-"
      }
    },
    {
      "cell_type": "code",
      "source": [
        "!pip install scikeras"
      ],
      "metadata": {
        "colab": {
          "base_uri": "https://localhost:8080/"
        },
        "id": "ld9KwZiqVouN",
        "outputId": "12afcc26-3cad-4360-ecc9-adbad0571aef"
      },
      "execution_count": null,
      "outputs": [
        {
          "output_type": "stream",
          "name": "stdout",
          "text": [
            "Collecting scikeras\n",
            "  Downloading scikeras-0.12.0-py3-none-any.whl (27 kB)\n",
            "Requirement already satisfied: packaging>=0.21 in /usr/local/lib/python3.10/dist-packages (from scikeras) (23.2)\n",
            "Requirement already satisfied: scikit-learn>=1.0.0 in /usr/local/lib/python3.10/dist-packages (from scikeras) (1.2.2)\n",
            "Requirement already satisfied: numpy>=1.17.3 in /usr/local/lib/python3.10/dist-packages (from scikit-learn>=1.0.0->scikeras) (1.23.5)\n",
            "Requirement already satisfied: scipy>=1.3.2 in /usr/local/lib/python3.10/dist-packages (from scikit-learn>=1.0.0->scikeras) (1.11.4)\n",
            "Requirement already satisfied: joblib>=1.1.1 in /usr/local/lib/python3.10/dist-packages (from scikit-learn>=1.0.0->scikeras) (1.3.2)\n",
            "Requirement already satisfied: threadpoolctl>=2.0.0 in /usr/local/lib/python3.10/dist-packages (from scikit-learn>=1.0.0->scikeras) (3.2.0)\n",
            "Installing collected packages: scikeras\n",
            "Successfully installed scikeras-0.12.0\n"
          ]
        }
      ]
    },
    {
      "cell_type": "markdown",
      "source": [],
      "metadata": {
        "id": "-FzqXtoaVopx"
      }
    },
    {
      "cell_type": "code",
      "source": [
        "from scikeras.wrappers import KerasClassifier #\n",
        "from sklearn.model_selection import RandomizedSearchCV\n",
        "from tensorflow.keras.models import Sequential\n",
        "from tensorflow.keras.layers import Dense\n",
        "from tensorflow.keras.optimizers import Adam\n",
        "from scipy.stats import uniform, randint\n",
        "\n",
        "# Function to create a Keras model\n",
        "def create_model(input_dim, learning_rate=0.01, units_layer1=32, units_layer2=128):\n",
        "    model = Sequential()\n",
        "    model.add(Dense(units=units_layer1, activation='relu', input_dim=input_dim))\n",
        "    model.add(Dense(units=units_layer2, activation='relu'))\n",
        "    model.add(Dense(units=7, activation='softmax'))\n",
        "\n",
        "    optimizer = Adam(learning_rate=learning_rate)\n",
        "    model.compile(loss='sparse_categorical_crossentropy', optimizer=optimizer, metrics=['accuracy'])\n",
        "\n",
        "    return model\n",
        "\n",
        "# Wrap the Keras model for use with scikit-learn\n",
        "keras_model = KerasClassifier(build_fn=create_model, input_dim=X_train_dnn.shape[1], epochs=20, batch_size=1024, verbose=0, learning_rate=0.01, units_layer1=32, units_layer2=128)\n",
        "\n",
        "# Specify the hyperparameter search space\n",
        "param_dist = {\n",
        "    'units_layer1': randint(16, 64),\n",
        "    'units_layer2': randint(64, 256),\n",
        "    'learning_rate': uniform(0.0001, 0.1)\n",
        "}\n",
        "\n",
        "# Set up RandomizedSearchCV\n",
        "random_search = RandomizedSearchCV(\n",
        "    estimator=keras_model,\n",
        "    param_distributions=param_dist,\n",
        "    n_iter=10,\n",
        "    cv=3,\n",
        "    scoring='accuracy',\n",
        "    n_jobs=-1\n",
        ")\n",
        "\n",
        "# Perform random search\n",
        "random_search.fit(X_train_dnn, y_train_dnn)\n",
        "\n",
        "# Print the best hyperparameters and corresponding accuracy\n",
        "print(\"Best Hyperparameters:\", random_search.best_params_)\n",
        "print(\"Best Accuracy:\", random_search.best_score_)\n",
        "\n",
        "\n",
        "\n"
      ],
      "metadata": {
        "id": "Wm5zFIediinw"
      },
      "execution_count": null,
      "outputs": []
    },
    {
      "cell_type": "code",
      "source": [
        "#Best Hyperparameters: {'learning_rate': 0.02541216321016562, 'units_layer1': 37, 'units_layer2': 224}\n",
        "#Best Accuracy: 0.9422873179292663"
      ],
      "metadata": {
        "id": "h84vrWU16Cy7"
      },
      "execution_count": null,
      "outputs": []
    },
    {
      "cell_type": "markdown",
      "source": [
        "#### Model with 4 Layers"
      ],
      "metadata": {
        "id": "CX0AwZ6oE7Fz"
      }
    },
    {
      "cell_type": "code",
      "source": [
        "from scikeras.wrappers import KerasClassifier\n",
        "from sklearn.model_selection import RandomizedSearchCV\n",
        "from tensorflow.keras.models import Sequential\n",
        "from tensorflow.keras.layers import Dense\n",
        "from tensorflow.keras.optimizers import Adam\n",
        "from scipy.stats import uniform, randint\n",
        "\n",
        "# Function to create a Keras model\n",
        "def create_model(input_dim, learning_rate=0.01, units_layer1=32, units_layer2=128, units_layer3=128):\n",
        "    model = Sequential()\n",
        "    model.add(Dense(units=units_layer1, activation='relu', input_dim=input_dim))\n",
        "    model.add(Dense(units=units_layer2, activation='relu'))\n",
        "    model.add(Dense(units=units_layer3, activation='relu'))\n",
        "    model.add(Dense(units=7, activation='softmax'))\n",
        "\n",
        "    optimizer = Adam(learning_rate=learning_rate)\n",
        "    model.compile(loss='sparse_categorical_crossentropy', optimizer=optimizer, metrics=['accuracy'])\n",
        "\n",
        "    return model\n",
        "\n",
        "# Wrap the Keras model for use with scikit-learn\n",
        "keras_model = KerasClassifier(build_fn=create_model, input_dim=X_train_dnn.shape[1], epochs=20, batch_size=1024, verbose=0, learning_rate=0.01, units_layer1=32, units_layer2=128, units_layer3=128)\n",
        "\n",
        "# Specify the hyperparameter search space\n",
        "param_dist = {\n",
        "    'units_layer1': randint(16, 64),\n",
        "    'units_layer2': randint(64, 256),\n",
        "    'units_layer3': randint(64, 256),\n",
        "    'learning_rate': uniform(0.0001, 0.2),\n",
        "    'batch_size': [512, 1024, 10240, 51200],\n",
        "    'epochs': randint(35, 50, 100)\n",
        "}\n",
        "\n",
        "# Set up RandomizedSearchCV\n",
        "random_search = RandomizedSearchCV(\n",
        "    estimator=keras_model,\n",
        "    param_distributions=param_dist,\n",
        "    n_iter=10,\n",
        "    cv=3,\n",
        "    scoring='accuracy',\n",
        "    n_jobs=-1\n",
        ")\n",
        "\n",
        "# Perform random search\n",
        "random_search.fit(X_train_dnn, y_train_dnn)\n",
        "\n",
        "# Print the best hyperparameters and corresponding accuracy\n",
        "print(\"Best Hyperparameters:\", random_search.best_params_)\n",
        "print(\"Best Accuracy:\", random_search.best_score_)\n",
        "\n",
        "\n",
        "\n"
      ],
      "metadata": {
        "colab": {
          "base_uri": "https://localhost:8080/"
        },
        "outputId": "57271d8f-2a8f-4458-836d-d7d47bf7344e",
        "id": "s1uqkK5stUFG"
      },
      "execution_count": null,
      "outputs": [
        {
          "output_type": "stream",
          "name": "stderr",
          "text": [
            "/usr/local/lib/python3.10/dist-packages/joblib/externals/loky/process_executor.py:752: UserWarning: A worker stopped while some jobs were given to the executor. This can be caused by a too short worker timeout or by a memory leak.\n",
            "  warnings.warn(\n",
            "/usr/local/lib/python3.10/dist-packages/scikeras/wrappers.py:915: UserWarning: ``build_fn`` will be renamed to ``model`` in a future release, at which point use of ``build_fn`` will raise an Error instead.\n",
            "  X, y = self._initialize(X, y)\n"
          ]
        },
        {
          "output_type": "stream",
          "name": "stdout",
          "text": [
            "Best Hyperparameters: {'batch_size': 10240, 'epochs': 148, 'learning_rate': 0.007463521243364324, 'units_layer1': 59, 'units_layer2': 111, 'units_layer3': 112}\n",
            "Best Accuracy: 0.9522376873950305\n"
          ]
        }
      ]
    },
    {
      "cell_type": "code",
      "source": [
        "#Best Hyperparameters: {'batch_size': 10240, 'epochs': 148, 'learning_rate': 0.007463521243364324, 'units_layer1': 59, 'units_layer2': 111, 'units_layer3': 112}\n",
        "#Best Accuracy: 0.9522376873950305"
      ],
      "metadata": {
        "id": "9B06MIpgTktx"
      },
      "execution_count": null,
      "outputs": []
    },
    {
      "cell_type": "markdown",
      "source": [
        "### Reference model with Oversampling"
      ],
      "metadata": {
        "id": "rKsTocaaShOK"
      }
    },
    {
      "cell_type": "code",
      "execution_count": null,
      "metadata": {
        "id": "CT5qXeDfl1uN",
        "colab": {
          "base_uri": "https://localhost:8080/"
        },
        "outputId": "59f74ef0-515e-42ad-dd63-632d352c6565"
      },
      "outputs": [
        {
          "output_type": "stream",
          "name": "stdout",
          "text": [
            "(3197858, 28)\n",
            "(3197858,)\n",
            "(1442644, 28)\n",
            "(1442644,)\n",
            "(168309, 28)\n",
            "(168309,)\n"
          ]
        }
      ],
      "source": [
        "data_dnn =  prepare_data_for_dnn(X_train_ros, y_train_ros, X_test_ros, y_test_ros)\n",
        "(X_train_dnn_ros, y_train_dnn_ros), (X_test_dnn_ros, y_test_dnn_ros), (X_valid_dnn_ros, y_valid_dnn_ros) = data_dnn"
      ]
    },
    {
      "cell_type": "code",
      "source": [
        "#Build the DNN model using Sequential()\n",
        "dnn = Sequential()\n",
        "dnn.add(Dense(units=32, activation='relu', name='dense1' ))\n",
        "dnn.add(Dense(units=128, activation='relu', name='dense2'))\n",
        "dnn.add(Dense(units=7, activation='softmax', name='dense3'))\n",
        "\n",
        "#initialize Adam Optimizer\n",
        "optimizer = Adam(learning_rate=0.001)\n",
        "\n",
        "#Compile the model\n",
        "dnn.compile(loss = 'sparse_categorical_crossentropy',\n",
        "              optimizer = optimizer,\n",
        "              metrics = ['accuracy'])\n",
        "\n",
        "#Train the model\n",
        "training_history = dnn.fit(X_train_dnn_ros, y_train_dnn_ros,\n",
        "                             epochs = 20,\n",
        "                             batch_size = 1024,\n",
        "                             validation_data=(X_test_dnn_ros, y_test_dnn_ros))\n",
        "\n",
        "#Get Model Summary\n",
        "dnn.summary()\n",
        "\n",
        "#Get history plots\n",
        "plot_acc_loss(training_history.history)\n",
        "\n"
      ],
      "metadata": {
        "id": "fHq80e6_5RO8",
        "colab": {
          "base_uri": "https://localhost:8080/",
          "height": 1000
        },
        "outputId": "84cb59dc-ed91-407e-e709-64875b8841aa"
      },
      "execution_count": null,
      "outputs": [
        {
          "output_type": "stream",
          "name": "stdout",
          "text": [
            "Epoch 1/20\n",
            "3123/3123 [==============================] - 12s 4ms/step - loss: 0.2649 - accuracy: 0.8932 - val_loss: 0.1770 - val_accuracy: 0.9308\n",
            "Epoch 2/20\n",
            "3123/3123 [==============================] - 11s 4ms/step - loss: 0.1624 - accuracy: 0.9362 - val_loss: 0.1554 - val_accuracy: 0.9378\n",
            "Epoch 3/20\n",
            "3123/3123 [==============================] - 11s 4ms/step - loss: 0.1437 - accuracy: 0.9422 - val_loss: 0.1362 - val_accuracy: 0.9446\n",
            "Epoch 4/20\n",
            "3123/3123 [==============================] - 11s 4ms/step - loss: 0.1330 - accuracy: 0.9456 - val_loss: 0.1272 - val_accuracy: 0.9479\n",
            "Epoch 5/20\n",
            "3123/3123 [==============================] - 14s 5ms/step - loss: 0.1259 - accuracy: 0.9483 - val_loss: 0.1225 - val_accuracy: 0.9505\n",
            "Epoch 6/20\n",
            "3123/3123 [==============================] - 12s 4ms/step - loss: 0.1206 - accuracy: 0.9504 - val_loss: 0.1193 - val_accuracy: 0.9496\n",
            "Epoch 7/20\n",
            "3123/3123 [==============================] - 11s 4ms/step - loss: 0.1168 - accuracy: 0.9517 - val_loss: 0.1146 - val_accuracy: 0.9504\n",
            "Epoch 8/20\n",
            "3123/3123 [==============================] - 11s 4ms/step - loss: 0.1138 - accuracy: 0.9528 - val_loss: 0.1093 - val_accuracy: 0.9543\n",
            "Epoch 9/20\n",
            "3123/3123 [==============================] - 11s 4ms/step - loss: 0.1115 - accuracy: 0.9538 - val_loss: 0.1132 - val_accuracy: 0.9528\n",
            "Epoch 10/20\n",
            "3123/3123 [==============================] - 11s 4ms/step - loss: 0.1094 - accuracy: 0.9545 - val_loss: 0.1069 - val_accuracy: 0.9543\n",
            "Epoch 11/20\n",
            "3123/3123 [==============================] - 11s 4ms/step - loss: 0.1077 - accuracy: 0.9552 - val_loss: 0.1066 - val_accuracy: 0.9564\n",
            "Epoch 12/20\n",
            "3123/3123 [==============================] - 11s 4ms/step - loss: 0.1063 - accuracy: 0.9558 - val_loss: 0.1045 - val_accuracy: 0.9559\n",
            "Epoch 13/20\n",
            "3123/3123 [==============================] - 11s 4ms/step - loss: 0.1046 - accuracy: 0.9564 - val_loss: 0.1018 - val_accuracy: 0.9588\n",
            "Epoch 14/20\n",
            "3123/3123 [==============================] - 11s 4ms/step - loss: 0.1035 - accuracy: 0.9568 - val_loss: 0.1022 - val_accuracy: 0.9573\n",
            "Epoch 15/20\n",
            "3123/3123 [==============================] - 12s 4ms/step - loss: 0.1024 - accuracy: 0.9572 - val_loss: 0.1025 - val_accuracy: 0.9576\n",
            "Epoch 16/20\n",
            "3123/3123 [==============================] - 11s 4ms/step - loss: 0.1013 - accuracy: 0.9578 - val_loss: 0.1037 - val_accuracy: 0.9539\n",
            "Epoch 17/20\n",
            "3123/3123 [==============================] - 12s 4ms/step - loss: 0.1004 - accuracy: 0.9580 - val_loss: 0.0995 - val_accuracy: 0.9596\n",
            "Epoch 18/20\n",
            "3123/3123 [==============================] - 11s 4ms/step - loss: 0.0996 - accuracy: 0.9583 - val_loss: 0.0978 - val_accuracy: 0.9579\n",
            "Epoch 19/20\n",
            "3123/3123 [==============================] - 11s 4ms/step - loss: 0.0987 - accuracy: 0.9586 - val_loss: 0.1000 - val_accuracy: 0.9578\n",
            "Epoch 20/20\n",
            "3123/3123 [==============================] - 11s 4ms/step - loss: 0.0981 - accuracy: 0.9590 - val_loss: 0.0955 - val_accuracy: 0.9608\n",
            "Model: \"sequential_7\"\n",
            "_________________________________________________________________\n",
            " Layer (type)                Output Shape              Param #   \n",
            "=================================================================\n",
            " dense1 (Dense)              (None, 32)                928       \n",
            "                                                                 \n",
            " dense2 (Dense)              (None, 128)               4224      \n",
            "                                                                 \n",
            " dense3 (Dense)              (None, 7)                 903       \n",
            "                                                                 \n",
            "=================================================================\n",
            "Total params: 6055 (23.65 KB)\n",
            "Trainable params: 6055 (23.65 KB)\n",
            "Non-trainable params: 0 (0.00 Byte)\n",
            "_________________________________________________________________\n"
          ]
        },
        {
          "output_type": "display_data",
          "data": {
            "text/plain": [
              "<Figure size 800x400 with 2 Axes>"
            ],
            "image/png": "[encoded data removed]"
          },
          "metadata": {}
        }
      ]
    },
    {
      "cell_type": "markdown",
      "source": [
        "### Final Model"
      ],
      "metadata": {
        "id": "97Vo7X1aS-lG"
      }
    },
    {
      "cell_type": "markdown",
      "source": [
        "In this section we are using the model obtained from Random Search.\n",
        "\n",
        "The Model is combined with callbacks\\\n",
        "\n",
        "*   Early stop: to prevent overfitting and unecessary training to spare time\n",
        "\n",
        "*   ReduceLROnPlateau: To schedule Learning Rates changes\n",
        "\n",
        "\n",
        "\n"
      ],
      "metadata": {
        "id": "uyUgNWWEHpX2"
      }
    },
    {
      "cell_type": "markdown",
      "source": [
        "#### With Oversampling"
      ],
      "metadata": {
        "id": "lIT-W3PfwJ61"
      }
    },
    {
      "cell_type": "code",
      "source": [
        "from sklearn.metrics import roc_auc_score, f1_score\n",
        "import tensorflow as tf\n",
        "from tensorflow.keras.models import Sequential\n",
        "from tensorflow.keras.layers import Dense\n",
        "from tensorflow.keras.optimizers import Adam\n",
        "from tensorflow.keras.callbacks import EarlyStopping\n",
        "\n",
        "#Using Model obtained by Random Search\n",
        "dnn = Sequential()\n",
        "dnn.add(Dense(units=59, activation='relu', name='dense1'))\n",
        "dnn.add(Dense(units=111, activation='relu', name='dense2'))\n",
        "dnn.add(Dense(units=112, activation='relu', name='dense3'))\n",
        "dnn.add(Dense(units=7, activation='softmax', name='dense4'))\n",
        "\n",
        "# Function to compute Mean ROC AUC (OvR)\n",
        "def mean_roc_auc(y_true, y_pred):\n",
        "    return tf.py_function(lambda y_true, y_pred: roc_auc_score(y_true, y_pred, multi_class='ovr'),\n",
        "                          (y_true, y_pred), tf.float32)\n",
        "\n",
        "# Function to compute Mean F1-Score (Macro)\n",
        "def mean_f1_score(y_true, y_pred):\n",
        "    return tf.py_function(lambda y_true, y_pred: f1_score(y_true, tf.argmax(y_pred, axis=-1), average='macro'),\n",
        "                          (y_true, y_pred), tf.float32)\n",
        "\n",
        "optimizer = Adam(learning_rate=0.01)\n",
        "\n",
        "dnn.compile(loss='sparse_categorical_crossentropy',\n",
        "            optimizer=optimizer,\n",
        "            metrics=['accuracy', mean_roc_auc, mean_f1_score])\n",
        "\n",
        "# Example code for training with early stopping\n",
        "early_stop = EarlyStopping(monitor='val_loss', patience=20)\n",
        "# Set up ReduceLROnPlateau callback\n",
        "lr_scheduler = ReduceLROnPlateau(monitor='val_loss', factor=0.7, patience=15, min_lr=1e-5, min_delta=0.05)\n",
        "\n",
        "# Train the model\n",
        "training_history = dnn.fit(X_train_dnn_ros, y_train_dnn_ros,\n",
        "                           epochs=148,\n",
        "                           batch_size=10240,\n",
        "                           validation_data=(X_valid_dnn_ros, y_valid_dnn_ros),\n",
        "                           callbacks=[lr_scheduler, early_stop])\n",
        "\n",
        "#Save trained DNN model\n",
        "dnn.save(\"DNN_classification_os.h5\")"
      ],
      "metadata": {
        "colab": {
          "base_uri": "https://localhost:8080/"
        },
        "id": "Di2o4yw8G008",
        "outputId": "5bbc9b01-6205-4854-f8bf-2ce06e2041fc"
      },
      "execution_count": null,
      "outputs": [
        {
          "output_type": "stream",
          "name": "stdout",
          "text": [
            "Epoch 1/148\n",
            "313/313 [==============================] - 17s 51ms/step - loss: 0.2389 - accuracy: 0.9009 - mean_roc_auc: 0.9900 - mean_f1_score: 0.8997 - val_loss: 0.1700 - val_accuracy: 0.9294 - val_mean_roc_auc: 0.9960 - val_mean_f1_score: 0.9288 - lr: 0.0100\n",
            "Epoch 2/148\n",
            "313/313 [==============================] - 15s 48ms/step - loss: 0.1414 - accuracy: 0.9412 - mean_roc_auc: 0.9970 - mean_f1_score: 0.9411 - val_loss: 0.1286 - val_accuracy: 0.9417 - val_mean_roc_auc: 0.9973 - val_mean_f1_score: 0.9414 - lr: 0.0100\n",
            "Epoch 3/148\n",
            "313/313 [==============================] - 15s 47ms/step - loss: 0.1233 - accuracy: 0.9477 - mean_roc_auc: 0.9977 - mean_f1_score: 0.9476 - val_loss: 0.1150 - val_accuracy: 0.9501 - val_mean_roc_auc: 0.9979 - val_mean_f1_score: 0.9496 - lr: 0.0100\n",
            "Epoch 4/148\n",
            "313/313 [==============================] - 15s 47ms/step - loss: 0.1130 - accuracy: 0.9521 - mean_roc_auc: 0.9980 - mean_f1_score: 0.9520 - val_loss: 0.1118 - val_accuracy: 0.9512 - val_mean_roc_auc: 0.9981 - val_mean_f1_score: 0.9508 - lr: 0.0100\n",
            "Epoch 5/148\n",
            "313/313 [==============================] - 15s 47ms/step - loss: 0.1075 - accuracy: 0.9546 - mean_roc_auc: 0.9982 - mean_f1_score: 0.9545 - val_loss: 0.1050 - val_accuracy: 0.9558 - val_mean_roc_auc: 0.9983 - val_mean_f1_score: 0.9554 - lr: 0.0100\n",
            "Epoch 6/148\n",
            "313/313 [==============================] - 15s 47ms/step - loss: 0.1031 - accuracy: 0.9559 - mean_roc_auc: 0.9983 - mean_f1_score: 0.9558 - val_loss: 0.1016 - val_accuracy: 0.9557 - val_mean_roc_auc: 0.9984 - val_mean_f1_score: 0.9556 - lr: 0.0100\n",
            "Epoch 7/148\n",
            "313/313 [==============================] - 15s 48ms/step - loss: 0.1001 - accuracy: 0.9570 - mean_roc_auc: 0.9984 - mean_f1_score: 0.9569 - val_loss: 0.1016 - val_accuracy: 0.9555 - val_mean_roc_auc: 0.9983 - val_mean_f1_score: 0.9552 - lr: 0.0100\n",
            "Epoch 8/148\n",
            "313/313 [==============================] - 15s 47ms/step - loss: 0.0970 - accuracy: 0.9585 - mean_roc_auc: 0.9985 - mean_f1_score: 0.9584 - val_loss: 0.0947 - val_accuracy: 0.9587 - val_mean_roc_auc: 0.9985 - val_mean_f1_score: 0.9586 - lr: 0.0100\n",
            "Epoch 9/148\n",
            "313/313 [==============================] - 15s 46ms/step - loss: 0.0945 - accuracy: 0.9593 - mean_roc_auc: 0.9986 - mean_f1_score: 0.9592 - val_loss: 0.0953 - val_accuracy: 0.9604 - val_mean_roc_auc: 0.9985 - val_mean_f1_score: 0.9600 - lr: 0.0100\n",
            "Epoch 10/148\n",
            "313/313 [==============================] - 14s 46ms/step - loss: 0.0928 - accuracy: 0.9600 - mean_roc_auc: 0.9986 - mean_f1_score: 0.9599 - val_loss: 0.0910 - val_accuracy: 0.9613 - val_mean_roc_auc: 0.9987 - val_mean_f1_score: 0.9610 - lr: 0.0100\n",
            "Epoch 11/148\n",
            "313/313 [==============================] - 15s 49ms/step - loss: 0.0922 - accuracy: 0.9602 - mean_roc_auc: 0.9986 - mean_f1_score: 0.9602 - val_loss: 0.0936 - val_accuracy: 0.9565 - val_mean_roc_auc: 0.9986 - val_mean_f1_score: 0.9563 - lr: 0.0100\n",
            "Epoch 12/148\n",
            "313/313 [==============================] - 15s 47ms/step - loss: 0.0919 - accuracy: 0.9603 - mean_roc_auc: 0.9987 - mean_f1_score: 0.9602 - val_loss: 0.0899 - val_accuracy: 0.9611 - val_mean_roc_auc: 0.9987 - val_mean_f1_score: 0.9610 - lr: 0.0100\n",
            "Epoch 13/148\n",
            "313/313 [==============================] - 15s 48ms/step - loss: 0.0878 - accuracy: 0.9619 - mean_roc_auc: 0.9988 - mean_f1_score: 0.9619 - val_loss: 0.0867 - val_accuracy: 0.9632 - val_mean_roc_auc: 0.9988 - val_mean_f1_score: 0.9630 - lr: 0.0100\n",
            "Epoch 14/148\n",
            "313/313 [==============================] - 15s 47ms/step - loss: 0.0873 - accuracy: 0.9620 - mean_roc_auc: 0.9988 - mean_f1_score: 0.9620 - val_loss: 0.0949 - val_accuracy: 0.9589 - val_mean_roc_auc: 0.9986 - val_mean_f1_score: 0.9588 - lr: 0.0100\n",
            "Epoch 15/148\n",
            "313/313 [==============================] - 15s 46ms/step - loss: 0.0871 - accuracy: 0.9621 - mean_roc_auc: 0.9988 - mean_f1_score: 0.9620 - val_loss: 0.0858 - val_accuracy: 0.9620 - val_mean_roc_auc: 0.9988 - val_mean_f1_score: 0.9618 - lr: 0.0100\n",
            "Epoch 16/148\n",
            "313/313 [==============================] - 15s 49ms/step - loss: 0.0867 - accuracy: 0.9621 - mean_roc_auc: 0.9988 - mean_f1_score: 0.9620 - val_loss: 0.0849 - val_accuracy: 0.9636 - val_mean_roc_auc: 0.9988 - val_mean_f1_score: 0.9635 - lr: 0.0100\n",
            "Epoch 17/148\n",
            "313/313 [==============================] - 15s 49ms/step - loss: 0.0847 - accuracy: 0.9630 - mean_roc_auc: 0.9988 - mean_f1_score: 0.9630 - val_loss: 0.0882 - val_accuracy: 0.9604 - val_mean_roc_auc: 0.9988 - val_mean_f1_score: 0.9602 - lr: 0.0100\n",
            "Epoch 18/148\n",
            "313/313 [==============================] - 15s 47ms/step - loss: 0.0879 - accuracy: 0.9619 - mean_roc_auc: 0.9988 - mean_f1_score: 0.9618 - val_loss: 0.0854 - val_accuracy: 0.9629 - val_mean_roc_auc: 0.9988 - val_mean_f1_score: 0.9626 - lr: 0.0100\n",
            "Epoch 19/148\n",
            "313/313 [==============================] - 15s 47ms/step - loss: 0.0803 - accuracy: 0.9648 - mean_roc_auc: 0.9989 - mean_f1_score: 0.9647 - val_loss: 0.0802 - val_accuracy: 0.9631 - val_mean_roc_auc: 0.9989 - val_mean_f1_score: 0.9630 - lr: 0.0070\n",
            "Epoch 20/148\n",
            "313/313 [==============================] - 15s 49ms/step - loss: 0.0797 - accuracy: 0.9649 - mean_roc_auc: 0.9990 - mean_f1_score: 0.9648 - val_loss: 0.0793 - val_accuracy: 0.9650 - val_mean_roc_auc: 0.9990 - val_mean_f1_score: 0.9649 - lr: 0.0070\n",
            "Epoch 21/148\n",
            "313/313 [==============================] - 14s 46ms/step - loss: 0.0794 - accuracy: 0.9650 - mean_roc_auc: 0.9990 - mean_f1_score: 0.9649 - val_loss: 0.0785 - val_accuracy: 0.9658 - val_mean_roc_auc: 0.9990 - val_mean_f1_score: 0.9657 - lr: 0.0070\n",
            "Epoch 22/148\n",
            "313/313 [==============================] - 15s 46ms/step - loss: 0.0794 - accuracy: 0.9652 - mean_roc_auc: 0.9990 - mean_f1_score: 0.9651 - val_loss: 0.0801 - val_accuracy: 0.9646 - val_mean_roc_auc: 0.9989 - val_mean_f1_score: 0.9645 - lr: 0.0070\n",
            "Epoch 23/148\n",
            "313/313 [==============================] - 14s 46ms/step - loss: 0.0798 - accuracy: 0.9649 - mean_roc_auc: 0.9990 - mean_f1_score: 0.9648 - val_loss: 0.0786 - val_accuracy: 0.9658 - val_mean_roc_auc: 0.9990 - val_mean_f1_score: 0.9656 - lr: 0.0070\n",
            "Epoch 24/148\n",
            "313/313 [==============================] - 14s 46ms/step - loss: 0.0799 - accuracy: 0.9650 - mean_roc_auc: 0.9990 - mean_f1_score: 0.9650 - val_loss: 0.0794 - val_accuracy: 0.9643 - val_mean_roc_auc: 0.9990 - val_mean_f1_score: 0.9641 - lr: 0.0070\n",
            "Epoch 25/148\n",
            "313/313 [==============================] - 15s 46ms/step - loss: 0.0788 - accuracy: 0.9655 - mean_roc_auc: 0.9990 - mean_f1_score: 0.9654 - val_loss: 0.0818 - val_accuracy: 0.9647 - val_mean_roc_auc: 0.9989 - val_mean_f1_score: 0.9646 - lr: 0.0070\n",
            "Epoch 26/148\n",
            "313/313 [==============================] - 15s 47ms/step - loss: 0.0783 - accuracy: 0.9657 - mean_roc_auc: 0.9990 - mean_f1_score: 0.9656 - val_loss: 0.0793 - val_accuracy: 0.9665 - val_mean_roc_auc: 0.9990 - val_mean_f1_score: 0.9664 - lr: 0.0070\n",
            "Epoch 27/148\n",
            "313/313 [==============================] - 15s 48ms/step - loss: 0.0784 - accuracy: 0.9657 - mean_roc_auc: 0.9990 - mean_f1_score: 0.9656 - val_loss: 0.0793 - val_accuracy: 0.9654 - val_mean_roc_auc: 0.9990 - val_mean_f1_score: 0.9652 - lr: 0.0070\n",
            "Epoch 28/148\n",
            "313/313 [==============================] - 15s 48ms/step - loss: 0.0784 - accuracy: 0.9656 - mean_roc_auc: 0.9990 - mean_f1_score: 0.9655 - val_loss: 0.0837 - val_accuracy: 0.9623 - val_mean_roc_auc: 0.9989 - val_mean_f1_score: 0.9620 - lr: 0.0070\n",
            "Epoch 29/148\n",
            "313/313 [==============================] - 15s 47ms/step - loss: 0.0787 - accuracy: 0.9655 - mean_roc_auc: 0.9990 - mean_f1_score: 0.9654 - val_loss: 0.0795 - val_accuracy: 0.9653 - val_mean_roc_auc: 0.9990 - val_mean_f1_score: 0.9651 - lr: 0.0070\n",
            "Epoch 30/148\n",
            "313/313 [==============================] - 15s 47ms/step - loss: 0.0782 - accuracy: 0.9656 - mean_roc_auc: 0.9990 - mean_f1_score: 0.9655 - val_loss: 0.0795 - val_accuracy: 0.9650 - val_mean_roc_auc: 0.9990 - val_mean_f1_score: 0.9650 - lr: 0.0070\n",
            "Epoch 31/148\n",
            "313/313 [==============================] - 14s 46ms/step - loss: 0.0785 - accuracy: 0.9655 - mean_roc_auc: 0.9990 - mean_f1_score: 0.9654 - val_loss: 0.0772 - val_accuracy: 0.9668 - val_mean_roc_auc: 0.9990 - val_mean_f1_score: 0.9667 - lr: 0.0070\n",
            "Epoch 32/148\n",
            "313/313 [==============================] - 15s 48ms/step - loss: 0.0807 - accuracy: 0.9648 - mean_roc_auc: 0.9990 - mean_f1_score: 0.9647 - val_loss: 0.0930 - val_accuracy: 0.9576 - val_mean_roc_auc: 0.9987 - val_mean_f1_score: 0.9575 - lr: 0.0070\n",
            "Epoch 33/148\n",
            "313/313 [==============================] - 14s 46ms/step - loss: 0.0787 - accuracy: 0.9655 - mean_roc_auc: 0.9990 - mean_f1_score: 0.9655 - val_loss: 0.0781 - val_accuracy: 0.9653 - val_mean_roc_auc: 0.9990 - val_mean_f1_score: 0.9652 - lr: 0.0070\n",
            "Epoch 34/148\n",
            "313/313 [==============================] - 15s 48ms/step - loss: 0.0744 - accuracy: 0.9671 - mean_roc_auc: 0.9991 - mean_f1_score: 0.9671 - val_loss: 0.0737 - val_accuracy: 0.9666 - val_mean_roc_auc: 0.9991 - val_mean_f1_score: 0.9664 - lr: 0.0049\n",
            "Epoch 35/148\n",
            "313/313 [==============================] - 15s 47ms/step - loss: 0.0744 - accuracy: 0.9671 - mean_roc_auc: 0.9991 - mean_f1_score: 0.9670 - val_loss: 0.0731 - val_accuracy: 0.9679 - val_mean_roc_auc: 0.9991 - val_mean_f1_score: 0.9678 - lr: 0.0049\n",
            "Epoch 36/148\n",
            "313/313 [==============================] - 15s 48ms/step - loss: 0.0744 - accuracy: 0.9670 - mean_roc_auc: 0.9991 - mean_f1_score: 0.9670 - val_loss: 0.0750 - val_accuracy: 0.9662 - val_mean_roc_auc: 0.9991 - val_mean_f1_score: 0.9661 - lr: 0.0049\n",
            "Epoch 37/148\n",
            "313/313 [==============================] - 15s 47ms/step - loss: 0.0741 - accuracy: 0.9672 - mean_roc_auc: 0.9991 - mean_f1_score: 0.9671 - val_loss: 0.0744 - val_accuracy: 0.9663 - val_mean_roc_auc: 0.9991 - val_mean_f1_score: 0.9661 - lr: 0.0049\n",
            "Epoch 38/148\n",
            "313/313 [==============================] - 15s 47ms/step - loss: 0.0740 - accuracy: 0.9673 - mean_roc_auc: 0.9991 - mean_f1_score: 0.9672 - val_loss: 0.0748 - val_accuracy: 0.9661 - val_mean_roc_auc: 0.9991 - val_mean_f1_score: 0.9660 - lr: 0.0049\n",
            "Epoch 39/148\n",
            "313/313 [==============================] - 15s 47ms/step - loss: 0.0747 - accuracy: 0.9670 - mean_roc_auc: 0.9991 - mean_f1_score: 0.9669 - val_loss: 0.0743 - val_accuracy: 0.9665 - val_mean_roc_auc: 0.9991 - val_mean_f1_score: 0.9663 - lr: 0.0049\n",
            "Epoch 40/148\n",
            "313/313 [==============================] - 15s 48ms/step - loss: 0.0739 - accuracy: 0.9674 - mean_roc_auc: 0.9991 - mean_f1_score: 0.9673 - val_loss: 0.0749 - val_accuracy: 0.9675 - val_mean_roc_auc: 0.9991 - val_mean_f1_score: 0.9674 - lr: 0.0049\n",
            "Epoch 41/148\n",
            "313/313 [==============================] - 15s 47ms/step - loss: 0.0739 - accuracy: 0.9674 - mean_roc_auc: 0.9991 - mean_f1_score: 0.9673 - val_loss: 0.0745 - val_accuracy: 0.9666 - val_mean_roc_auc: 0.9991 - val_mean_f1_score: 0.9666 - lr: 0.0049\n",
            "Epoch 42/148\n",
            "313/313 [==============================] - 15s 48ms/step - loss: 0.0735 - accuracy: 0.9675 - mean_roc_auc: 0.9991 - mean_f1_score: 0.9674 - val_loss: 0.0741 - val_accuracy: 0.9683 - val_mean_roc_auc: 0.9991 - val_mean_f1_score: 0.9682 - lr: 0.0049\n",
            "Epoch 43/148\n",
            "313/313 [==============================] - 15s 47ms/step - loss: 0.0736 - accuracy: 0.9675 - mean_roc_auc: 0.9991 - mean_f1_score: 0.9674 - val_loss: 0.0741 - val_accuracy: 0.9676 - val_mean_roc_auc: 0.9991 - val_mean_f1_score: 0.9675 - lr: 0.0049\n",
            "Epoch 44/148\n",
            "313/313 [==============================] - 15s 47ms/step - loss: 0.0741 - accuracy: 0.9672 - mean_roc_auc: 0.9991 - mean_f1_score: 0.9671 - val_loss: 0.0748 - val_accuracy: 0.9658 - val_mean_roc_auc: 0.9991 - val_mean_f1_score: 0.9657 - lr: 0.0049\n",
            "Epoch 45/148\n",
            "313/313 [==============================] - 15s 47ms/step - loss: 0.0735 - accuracy: 0.9675 - mean_roc_auc: 0.9991 - mean_f1_score: 0.9675 - val_loss: 0.0737 - val_accuracy: 0.9672 - val_mean_roc_auc: 0.9991 - val_mean_f1_score: 0.9670 - lr: 0.0049\n",
            "Epoch 46/148\n",
            "313/313 [==============================] - 15s 49ms/step - loss: 0.0738 - accuracy: 0.9674 - mean_roc_auc: 0.9991 - mean_f1_score: 0.9673 - val_loss: 0.0755 - val_accuracy: 0.9664 - val_mean_roc_auc: 0.9991 - val_mean_f1_score: 0.9662 - lr: 0.0049\n",
            "Epoch 47/148\n",
            "313/313 [==============================] - 16s 50ms/step - loss: 0.0734 - accuracy: 0.9675 - mean_roc_auc: 0.9991 - mean_f1_score: 0.9675 - val_loss: 0.0731 - val_accuracy: 0.9672 - val_mean_roc_auc: 0.9991 - val_mean_f1_score: 0.9671 - lr: 0.0049\n",
            "Epoch 48/148\n",
            "313/313 [==============================] - 15s 46ms/step - loss: 0.0751 - accuracy: 0.9670 - mean_roc_auc: 0.9991 - mean_f1_score: 0.9670 - val_loss: 0.0730 - val_accuracy: 0.9674 - val_mean_roc_auc: 0.9991 - val_mean_f1_score: 0.9673 - lr: 0.0049\n",
            "Epoch 49/148\n",
            "313/313 [==============================] - 15s 46ms/step - loss: 0.0713 - accuracy: 0.9683 - mean_roc_auc: 0.9992 - mean_f1_score: 0.9682 - val_loss: 0.0713 - val_accuracy: 0.9686 - val_mean_roc_auc: 0.9992 - val_mean_f1_score: 0.9686 - lr: 0.0034\n",
            "Epoch 50/148\n",
            "313/313 [==============================] - 14s 46ms/step - loss: 0.0713 - accuracy: 0.9683 - mean_roc_auc: 0.9992 - mean_f1_score: 0.9683 - val_loss: 0.0718 - val_accuracy: 0.9680 - val_mean_roc_auc: 0.9991 - val_mean_f1_score: 0.9679 - lr: 0.0034\n",
            "Epoch 51/148\n",
            "313/313 [==============================] - 15s 48ms/step - loss: 0.0713 - accuracy: 0.9683 - mean_roc_auc: 0.9992 - mean_f1_score: 0.9683 - val_loss: 0.0712 - val_accuracy: 0.9680 - val_mean_roc_auc: 0.9992 - val_mean_f1_score: 0.9678 - lr: 0.0034\n",
            "Epoch 52/148\n",
            "313/313 [==============================] - 15s 46ms/step - loss: 0.0712 - accuracy: 0.9683 - mean_roc_auc: 0.9992 - mean_f1_score: 0.9682 - val_loss: 0.0711 - val_accuracy: 0.9685 - val_mean_roc_auc: 0.9992 - val_mean_f1_score: 0.9685 - lr: 0.0034\n",
            "Epoch 53/148\n",
            "313/313 [==============================] - 14s 46ms/step - loss: 0.0715 - accuracy: 0.9682 - mean_roc_auc: 0.9991 - mean_f1_score: 0.9682 - val_loss: 0.0711 - val_accuracy: 0.9683 - val_mean_roc_auc: 0.9992 - val_mean_f1_score: 0.9683 - lr: 0.0034\n",
            "Epoch 54/148\n",
            "313/313 [==============================] - 15s 48ms/step - loss: 0.0714 - accuracy: 0.9682 - mean_roc_auc: 0.9992 - mean_f1_score: 0.9681 - val_loss: 0.0712 - val_accuracy: 0.9682 - val_mean_roc_auc: 0.9992 - val_mean_f1_score: 0.9681 - lr: 0.0034\n",
            "Epoch 55/148\n",
            "313/313 [==============================] - 15s 48ms/step - loss: 0.0713 - accuracy: 0.9682 - mean_roc_auc: 0.9992 - mean_f1_score: 0.9681 - val_loss: 0.0714 - val_accuracy: 0.9673 - val_mean_roc_auc: 0.9991 - val_mean_f1_score: 0.9670 - lr: 0.0034\n",
            "Epoch 56/148\n",
            "313/313 [==============================] - 15s 47ms/step - loss: 0.0710 - accuracy: 0.9684 - mean_roc_auc: 0.9992 - mean_f1_score: 0.9683 - val_loss: 0.0708 - val_accuracy: 0.9679 - val_mean_roc_auc: 0.9992 - val_mean_f1_score: 0.9678 - lr: 0.0034\n",
            "Epoch 57/148\n",
            "313/313 [==============================] - 15s 47ms/step - loss: 0.0710 - accuracy: 0.9684 - mean_roc_auc: 0.9992 - mean_f1_score: 0.9683 - val_loss: 0.0710 - val_accuracy: 0.9686 - val_mean_roc_auc: 0.9992 - val_mean_f1_score: 0.9686 - lr: 0.0034\n",
            "Epoch 58/148\n",
            "313/313 [==============================] - 15s 48ms/step - loss: 0.0710 - accuracy: 0.9683 - mean_roc_auc: 0.9992 - mean_f1_score: 0.9683 - val_loss: 0.0711 - val_accuracy: 0.9674 - val_mean_roc_auc: 0.9992 - val_mean_f1_score: 0.9672 - lr: 0.0034\n",
            "Epoch 59/148\n",
            "313/313 [==============================] - 15s 48ms/step - loss: 0.0710 - accuracy: 0.9684 - mean_roc_auc: 0.9992 - mean_f1_score: 0.9683 - val_loss: 0.0700 - val_accuracy: 0.9691 - val_mean_roc_auc: 0.9992 - val_mean_f1_score: 0.9689 - lr: 0.0034\n",
            "Epoch 60/148\n",
            "313/313 [==============================] - 15s 46ms/step - loss: 0.0710 - accuracy: 0.9684 - mean_roc_auc: 0.9992 - mean_f1_score: 0.9683 - val_loss: 0.0706 - val_accuracy: 0.9678 - val_mean_roc_auc: 0.9992 - val_mean_f1_score: 0.9676 - lr: 0.0034\n",
            "Epoch 61/148\n",
            "313/313 [==============================] - 15s 46ms/step - loss: 0.0709 - accuracy: 0.9684 - mean_roc_auc: 0.9992 - mean_f1_score: 0.9684 - val_loss: 0.0721 - val_accuracy: 0.9683 - val_mean_roc_auc: 0.9992 - val_mean_f1_score: 0.9683 - lr: 0.0034\n",
            "Epoch 62/148\n",
            "313/313 [==============================] - 15s 48ms/step - loss: 0.0709 - accuracy: 0.9684 - mean_roc_auc: 0.9992 - mean_f1_score: 0.9683 - val_loss: 0.0702 - val_accuracy: 0.9689 - val_mean_roc_auc: 0.9992 - val_mean_f1_score: 0.9688 - lr: 0.0034\n",
            "Epoch 63/148\n",
            "313/313 [==============================] - 15s 48ms/step - loss: 0.0708 - accuracy: 0.9685 - mean_roc_auc: 0.9992 - mean_f1_score: 0.9684 - val_loss: 0.0718 - val_accuracy: 0.9684 - val_mean_roc_auc: 0.9991 - val_mean_f1_score: 0.9683 - lr: 0.0034\n",
            "Epoch 64/148\n",
            "313/313 [==============================] - 14s 46ms/step - loss: 0.0696 - accuracy: 0.9689 - mean_roc_auc: 0.9992 - mean_f1_score: 0.9689 - val_loss: 0.0693 - val_accuracy: 0.9691 - val_mean_roc_auc: 0.9992 - val_mean_f1_score: 0.9690 - lr: 0.0024\n",
            "Epoch 65/148\n",
            "313/313 [==============================] - 14s 46ms/step - loss: 0.0697 - accuracy: 0.9689 - mean_roc_auc: 0.9992 - mean_f1_score: 0.9688 - val_loss: 0.0692 - val_accuracy: 0.9690 - val_mean_roc_auc: 0.9992 - val_mean_f1_score: 0.9689 - lr: 0.0024\n",
            "Epoch 66/148\n",
            "313/313 [==============================] - 14s 46ms/step - loss: 0.0694 - accuracy: 0.9690 - mean_roc_auc: 0.9992 - mean_f1_score: 0.9690 - val_loss: 0.0704 - val_accuracy: 0.9684 - val_mean_roc_auc: 0.9992 - val_mean_f1_score: 0.9683 - lr: 0.0024\n",
            "Epoch 67/148\n",
            "313/313 [==============================] - 15s 46ms/step - loss: 0.0694 - accuracy: 0.9690 - mean_roc_auc: 0.9992 - mean_f1_score: 0.9690 - val_loss: 0.0700 - val_accuracy: 0.9693 - val_mean_roc_auc: 0.9992 - val_mean_f1_score: 0.9692 - lr: 0.0024\n",
            "Epoch 68/148\n",
            "313/313 [==============================] - 15s 48ms/step - loss: 0.0694 - accuracy: 0.9691 - mean_roc_auc: 0.9992 - mean_f1_score: 0.9691 - val_loss: 0.0714 - val_accuracy: 0.9684 - val_mean_roc_auc: 0.9992 - val_mean_f1_score: 0.9684 - lr: 0.0024\n",
            "Epoch 69/148\n",
            "313/313 [==============================] - 14s 46ms/step - loss: 0.0694 - accuracy: 0.9689 - mean_roc_auc: 0.9992 - mean_f1_score: 0.9689 - val_loss: 0.0689 - val_accuracy: 0.9694 - val_mean_roc_auc: 0.9992 - val_mean_f1_score: 0.9693 - lr: 0.0024\n",
            "Epoch 70/148\n",
            "313/313 [==============================] - 14s 46ms/step - loss: 0.0694 - accuracy: 0.9690 - mean_roc_auc: 0.9992 - mean_f1_score: 0.9690 - val_loss: 0.0693 - val_accuracy: 0.9692 - val_mean_roc_auc: 0.9992 - val_mean_f1_score: 0.9691 - lr: 0.0024\n",
            "Epoch 71/148\n",
            "313/313 [==============================] - 15s 48ms/step - loss: 0.0693 - accuracy: 0.9691 - mean_roc_auc: 0.9992 - mean_f1_score: 0.9690 - val_loss: 0.0698 - val_accuracy: 0.9683 - val_mean_roc_auc: 0.9992 - val_mean_f1_score: 0.9683 - lr: 0.0024\n",
            "Epoch 72/148\n",
            "313/313 [==============================] - 14s 46ms/step - loss: 0.0693 - accuracy: 0.9691 - mean_roc_auc: 0.9992 - mean_f1_score: 0.9690 - val_loss: 0.0692 - val_accuracy: 0.9684 - val_mean_roc_auc: 0.9992 - val_mean_f1_score: 0.9683 - lr: 0.0024\n",
            "Epoch 73/148\n",
            "313/313 [==============================] - 14s 46ms/step - loss: 0.0692 - accuracy: 0.9691 - mean_roc_auc: 0.9992 - mean_f1_score: 0.9691 - val_loss: 0.0685 - val_accuracy: 0.9694 - val_mean_roc_auc: 0.9992 - val_mean_f1_score: 0.9693 - lr: 0.0024\n",
            "Epoch 74/148\n",
            "313/313 [==============================] - 14s 46ms/step - loss: 0.0693 - accuracy: 0.9691 - mean_roc_auc: 0.9992 - mean_f1_score: 0.9691 - val_loss: 0.0699 - val_accuracy: 0.9691 - val_mean_roc_auc: 0.9992 - val_mean_f1_score: 0.9691 - lr: 0.0024\n",
            "Epoch 75/148\n",
            "313/313 [==============================] - 15s 47ms/step - loss: 0.0694 - accuracy: 0.9690 - mean_roc_auc: 0.9992 - mean_f1_score: 0.9689 - val_loss: 0.0691 - val_accuracy: 0.9679 - val_mean_roc_auc: 0.9992 - val_mean_f1_score: 0.9678 - lr: 0.0024\n",
            "Epoch 76/148\n",
            "313/313 [==============================] - 14s 45ms/step - loss: 0.0692 - accuracy: 0.9691 - mean_roc_auc: 0.9992 - mean_f1_score: 0.9690 - val_loss: 0.0692 - val_accuracy: 0.9690 - val_mean_roc_auc: 0.9992 - val_mean_f1_score: 0.9690 - lr: 0.0024\n",
            "Epoch 77/148\n",
            "313/313 [==============================] - 14s 45ms/step - loss: 0.0691 - accuracy: 0.9691 - mean_roc_auc: 0.9992 - mean_f1_score: 0.9691 - val_loss: 0.0694 - val_accuracy: 0.9689 - val_mean_roc_auc: 0.9992 - val_mean_f1_score: 0.9687 - lr: 0.0024\n",
            "Epoch 78/148\n",
            "313/313 [==============================] - 14s 46ms/step - loss: 0.0691 - accuracy: 0.9691 - mean_roc_auc: 0.9992 - mean_f1_score: 0.9691 - val_loss: 0.0690 - val_accuracy: 0.9692 - val_mean_roc_auc: 0.9992 - val_mean_f1_score: 0.9692 - lr: 0.0024\n",
            "Epoch 79/148\n",
            "313/313 [==============================] - 14s 46ms/step - loss: 0.0683 - accuracy: 0.9695 - mean_roc_auc: 0.9992 - mean_f1_score: 0.9694 - val_loss: 0.0683 - val_accuracy: 0.9697 - val_mean_roc_auc: 0.9992 - val_mean_f1_score: 0.9697 - lr: 0.0017\n",
            "Epoch 80/148\n",
            "313/313 [==============================] - 14s 46ms/step - loss: 0.0682 - accuracy: 0.9695 - mean_roc_auc: 0.9992 - mean_f1_score: 0.9694 - val_loss: 0.0680 - val_accuracy: 0.9692 - val_mean_roc_auc: 0.9992 - val_mean_f1_score: 0.9692 - lr: 0.0017\n",
            "Epoch 81/148\n",
            "313/313 [==============================] - 14s 46ms/step - loss: 0.0681 - accuracy: 0.9695 - mean_roc_auc: 0.9992 - mean_f1_score: 0.9694 - val_loss: 0.0684 - val_accuracy: 0.9688 - val_mean_roc_auc: 0.9992 - val_mean_f1_score: 0.9688 - lr: 0.0017\n",
            "Epoch 82/148\n",
            "313/313 [==============================] - 15s 47ms/step - loss: 0.0680 - accuracy: 0.9696 - mean_roc_auc: 0.9992 - mean_f1_score: 0.9695 - val_loss: 0.0676 - val_accuracy: 0.9698 - val_mean_roc_auc: 0.9992 - val_mean_f1_score: 0.9698 - lr: 0.0017\n",
            "Epoch 83/148\n",
            "313/313 [==============================] - 14s 45ms/step - loss: 0.0680 - accuracy: 0.9696 - mean_roc_auc: 0.9992 - mean_f1_score: 0.9695 - val_loss: 0.0679 - val_accuracy: 0.9689 - val_mean_roc_auc: 0.9992 - val_mean_f1_score: 0.9689 - lr: 0.0017\n",
            "Epoch 84/148\n",
            "313/313 [==============================] - 14s 45ms/step - loss: 0.0678 - accuracy: 0.9696 - mean_roc_auc: 0.9992 - mean_f1_score: 0.9695 - val_loss: 0.0678 - val_accuracy: 0.9697 - val_mean_roc_auc: 0.9992 - val_mean_f1_score: 0.9697 - lr: 0.0017\n",
            "Epoch 85/148\n",
            "313/313 [==============================] - 14s 45ms/step - loss: 0.0678 - accuracy: 0.9697 - mean_roc_auc: 0.9992 - mean_f1_score: 0.9696 - val_loss: 0.0675 - val_accuracy: 0.9698 - val_mean_roc_auc: 0.9992 - val_mean_f1_score: 0.9697 - lr: 0.0017\n",
            "Epoch 86/148\n",
            "313/313 [==============================] - 14s 45ms/step - loss: 0.0678 - accuracy: 0.9697 - mean_roc_auc: 0.9992 - mean_f1_score: 0.9696 - val_loss: 0.0682 - val_accuracy: 0.9688 - val_mean_roc_auc: 0.9992 - val_mean_f1_score: 0.9686 - lr: 0.0017\n",
            "Epoch 87/148\n",
            "313/313 [==============================] - 15s 48ms/step - loss: 0.0677 - accuracy: 0.9697 - mean_roc_auc: 0.9992 - mean_f1_score: 0.9696 - val_loss: 0.0676 - val_accuracy: 0.9697 - val_mean_roc_auc: 0.9992 - val_mean_f1_score: 0.9696 - lr: 0.0017\n",
            "Epoch 88/148\n",
            "313/313 [==============================] - 15s 47ms/step - loss: 0.0677 - accuracy: 0.9697 - mean_roc_auc: 0.9992 - mean_f1_score: 0.9696 - val_loss: 0.0676 - val_accuracy: 0.9697 - val_mean_roc_auc: 0.9992 - val_mean_f1_score: 0.9697 - lr: 0.0017\n",
            "Epoch 89/148\n",
            "313/313 [==============================] - 14s 46ms/step - loss: 0.0681 - accuracy: 0.9696 - mean_roc_auc: 0.9992 - mean_f1_score: 0.9695 - val_loss: 0.0679 - val_accuracy: 0.9696 - val_mean_roc_auc: 0.9992 - val_mean_f1_score: 0.9695 - lr: 0.0017\n",
            "Epoch 90/148\n",
            "313/313 [==============================] - 14s 45ms/step - loss: 0.0679 - accuracy: 0.9696 - mean_roc_auc: 0.9992 - mean_f1_score: 0.9695 - val_loss: 0.0677 - val_accuracy: 0.9698 - val_mean_roc_auc: 0.9992 - val_mean_f1_score: 0.9698 - lr: 0.0017\n",
            "Epoch 91/148\n",
            "313/313 [==============================] - 15s 48ms/step - loss: 0.0679 - accuracy: 0.9696 - mean_roc_auc: 0.9992 - mean_f1_score: 0.9695 - val_loss: 0.0673 - val_accuracy: 0.9700 - val_mean_roc_auc: 0.9992 - val_mean_f1_score: 0.9699 - lr: 0.0017\n",
            "Epoch 92/148\n",
            "313/313 [==============================] - 15s 48ms/step - loss: 0.0680 - accuracy: 0.9696 - mean_roc_auc: 0.9992 - mean_f1_score: 0.9695 - val_loss: 0.0674 - val_accuracy: 0.9700 - val_mean_roc_auc: 0.9992 - val_mean_f1_score: 0.9699 - lr: 0.0017\n",
            "Epoch 93/148\n",
            "313/313 [==============================] - 14s 46ms/step - loss: 0.0678 - accuracy: 0.9697 - mean_roc_auc: 0.9992 - mean_f1_score: 0.9696 - val_loss: 0.0681 - val_accuracy: 0.9696 - val_mean_roc_auc: 0.9992 - val_mean_f1_score: 0.9695 - lr: 0.0017\n",
            "Epoch 94/148\n",
            "313/313 [==============================] - 14s 46ms/step - loss: 0.0672 - accuracy: 0.9699 - mean_roc_auc: 0.9992 - mean_f1_score: 0.9698 - val_loss: 0.0669 - val_accuracy: 0.9701 - val_mean_roc_auc: 0.9992 - val_mean_f1_score: 0.9700 - lr: 0.0012\n",
            "Epoch 95/148\n",
            "313/313 [==============================] - 15s 46ms/step - loss: 0.0671 - accuracy: 0.9700 - mean_roc_auc: 0.9992 - mean_f1_score: 0.9699 - val_loss: 0.0675 - val_accuracy: 0.9696 - val_mean_roc_auc: 0.9992 - val_mean_f1_score: 0.9696 - lr: 0.0012\n",
            "Epoch 96/148\n",
            "313/313 [==============================] - 14s 46ms/step - loss: 0.0670 - accuracy: 0.9699 - mean_roc_auc: 0.9992 - mean_f1_score: 0.9699 - val_loss: 0.0672 - val_accuracy: 0.9702 - val_mean_roc_auc: 0.9992 - val_mean_f1_score: 0.9701 - lr: 0.0012\n",
            "Epoch 97/148\n",
            "313/313 [==============================] - 15s 48ms/step - loss: 0.0670 - accuracy: 0.9700 - mean_roc_auc: 0.9992 - mean_f1_score: 0.9699 - val_loss: 0.0665 - val_accuracy: 0.9700 - val_mean_roc_auc: 0.9992 - val_mean_f1_score: 0.9699 - lr: 0.0012\n",
            "Epoch 98/148\n",
            "313/313 [==============================] - 14s 46ms/step - loss: 0.0670 - accuracy: 0.9699 - mean_roc_auc: 0.9992 - mean_f1_score: 0.9699 - val_loss: 0.0670 - val_accuracy: 0.9697 - val_mean_roc_auc: 0.9992 - val_mean_f1_score: 0.9696 - lr: 0.0012\n",
            "Epoch 99/148\n",
            "313/313 [==============================] - 14s 46ms/step - loss: 0.0670 - accuracy: 0.9700 - mean_roc_auc: 0.9992 - mean_f1_score: 0.9699 - val_loss: 0.0669 - val_accuracy: 0.9700 - val_mean_roc_auc: 0.9992 - val_mean_f1_score: 0.9699 - lr: 0.0012\n",
            "Epoch 100/148\n",
            "313/313 [==============================] - 14s 46ms/step - loss: 0.0670 - accuracy: 0.9700 - mean_roc_auc: 0.9992 - mean_f1_score: 0.9699 - val_loss: 0.0665 - val_accuracy: 0.9700 - val_mean_roc_auc: 0.9992 - val_mean_f1_score: 0.9699 - lr: 0.0012\n",
            "Epoch 101/148\n",
            "313/313 [==============================] - 14s 46ms/step - loss: 0.0669 - accuracy: 0.9700 - mean_roc_auc: 0.9992 - mean_f1_score: 0.9699 - val_loss: 0.0681 - val_accuracy: 0.9689 - val_mean_roc_auc: 0.9992 - val_mean_f1_score: 0.9688 - lr: 0.0012\n",
            "Epoch 102/148\n",
            "313/313 [==============================] - 14s 46ms/step - loss: 0.0669 - accuracy: 0.9700 - mean_roc_auc: 0.9992 - mean_f1_score: 0.9699 - val_loss: 0.0666 - val_accuracy: 0.9700 - val_mean_roc_auc: 0.9992 - val_mean_f1_score: 0.9700 - lr: 0.0012\n",
            "Epoch 103/148\n",
            "313/313 [==============================] - 15s 48ms/step - loss: 0.0671 - accuracy: 0.9699 - mean_roc_auc: 0.9992 - mean_f1_score: 0.9699 - val_loss: 0.0669 - val_accuracy: 0.9698 - val_mean_roc_auc: 0.9992 - val_mean_f1_score: 0.9698 - lr: 0.0012\n",
            "Epoch 104/148\n",
            "313/313 [==============================] - 14s 46ms/step - loss: 0.0670 - accuracy: 0.9700 - mean_roc_auc: 0.9992 - mean_f1_score: 0.9699 - val_loss: 0.0669 - val_accuracy: 0.9691 - val_mean_roc_auc: 0.9992 - val_mean_f1_score: 0.9689 - lr: 0.0012\n",
            "Epoch 105/148\n",
            "313/313 [==============================] - 15s 48ms/step - loss: 0.0670 - accuracy: 0.9699 - mean_roc_auc: 0.9992 - mean_f1_score: 0.9699 - val_loss: 0.0667 - val_accuracy: 0.9700 - val_mean_roc_auc: 0.9992 - val_mean_f1_score: 0.9699 - lr: 0.0012\n",
            "Epoch 106/148\n",
            "313/313 [==============================] - 14s 46ms/step - loss: 0.0669 - accuracy: 0.9700 - mean_roc_auc: 0.9992 - mean_f1_score: 0.9699 - val_loss: 0.0668 - val_accuracy: 0.9700 - val_mean_roc_auc: 0.9992 - val_mean_f1_score: 0.9699 - lr: 0.0012\n",
            "Epoch 107/148\n",
            "313/313 [==============================] - 14s 45ms/step - loss: 0.0668 - accuracy: 0.9700 - mean_roc_auc: 0.9992 - mean_f1_score: 0.9700 - val_loss: 0.0668 - val_accuracy: 0.9700 - val_mean_roc_auc: 0.9992 - val_mean_f1_score: 0.9700 - lr: 0.0012\n",
            "Epoch 108/148\n",
            "313/313 [==============================] - 14s 46ms/step - loss: 0.0673 - accuracy: 0.9698 - mean_roc_auc: 0.9992 - mean_f1_score: 0.9698 - val_loss: 0.0671 - val_accuracy: 0.9697 - val_mean_roc_auc: 0.9992 - val_mean_f1_score: 0.9696 - lr: 0.0012\n",
            "Epoch 109/148\n",
            "313/313 [==============================] - 14s 46ms/step - loss: 0.0669 - accuracy: 0.9699 - mean_roc_auc: 0.9992 - mean_f1_score: 0.9698 - val_loss: 0.0668 - val_accuracy: 0.9697 - val_mean_roc_auc: 0.9992 - val_mean_f1_score: 0.9696 - lr: 8.2354e-04\n",
            "Epoch 110/148\n",
            "313/313 [==============================] - 15s 48ms/step - loss: 0.0668 - accuracy: 0.9699 - mean_roc_auc: 0.9992 - mean_f1_score: 0.9699 - val_loss: 0.0669 - val_accuracy: 0.9699 - val_mean_roc_auc: 0.9992 - val_mean_f1_score: 0.9698 - lr: 8.2354e-04\n",
            "Epoch 111/148\n",
            "313/313 [==============================] - 14s 46ms/step - loss: 0.0668 - accuracy: 0.9699 - mean_roc_auc: 0.9992 - mean_f1_score: 0.9699 - val_loss: 0.0669 - val_accuracy: 0.9698 - val_mean_roc_auc: 0.9992 - val_mean_f1_score: 0.9697 - lr: 8.2354e-04\n",
            "Epoch 112/148\n",
            "313/313 [==============================] - 15s 48ms/step - loss: 0.0668 - accuracy: 0.9699 - mean_roc_auc: 0.9992 - mean_f1_score: 0.9698 - val_loss: 0.0667 - val_accuracy: 0.9698 - val_mean_roc_auc: 0.9993 - val_mean_f1_score: 0.9697 - lr: 8.2354e-04\n",
            "Epoch 113/148\n",
            "313/313 [==============================] - 14s 46ms/step - loss: 0.0668 - accuracy: 0.9700 - mean_roc_auc: 0.9992 - mean_f1_score: 0.9699 - val_loss: 0.0666 - val_accuracy: 0.9697 - val_mean_roc_auc: 0.9993 - val_mean_f1_score: 0.9696 - lr: 8.2354e-04\n",
            "Epoch 114/148\n",
            "313/313 [==============================] - 14s 46ms/step - loss: 0.0668 - accuracy: 0.9700 - mean_roc_auc: 0.9992 - mean_f1_score: 0.9699 - val_loss: 0.0665 - val_accuracy: 0.9701 - val_mean_roc_auc: 0.9993 - val_mean_f1_score: 0.9700 - lr: 8.2354e-04\n",
            "Epoch 115/148\n",
            "313/313 [==============================] - 14s 45ms/step - loss: 0.0668 - accuracy: 0.9700 - mean_roc_auc: 0.9992 - mean_f1_score: 0.9699 - val_loss: 0.0666 - val_accuracy: 0.9699 - val_mean_roc_auc: 0.9992 - val_mean_f1_score: 0.9698 - lr: 8.2354e-04\n",
            "Epoch 116/148\n",
            "313/313 [==============================] - 15s 48ms/step - loss: 0.0667 - accuracy: 0.9701 - mean_roc_auc: 0.9992 - mean_f1_score: 0.9700 - val_loss: 0.0666 - val_accuracy: 0.9700 - val_mean_roc_auc: 0.9993 - val_mean_f1_score: 0.9699 - lr: 8.2354e-04\n",
            "Epoch 117/148\n",
            "313/313 [==============================] - 14s 46ms/step - loss: 0.0667 - accuracy: 0.9701 - mean_roc_auc: 0.9992 - mean_f1_score: 0.9700 - val_loss: 0.0664 - val_accuracy: 0.9701 - val_mean_roc_auc: 0.9993 - val_mean_f1_score: 0.9700 - lr: 8.2354e-04\n",
            "Epoch 118/148\n",
            "313/313 [==============================] - 14s 45ms/step - loss: 0.0667 - accuracy: 0.9701 - mean_roc_auc: 0.9992 - mean_f1_score: 0.9700 - val_loss: 0.0665 - val_accuracy: 0.9700 - val_mean_roc_auc: 0.9993 - val_mean_f1_score: 0.9699 - lr: 8.2354e-04\n",
            "Epoch 119/148\n",
            "313/313 [==============================] - 14s 45ms/step - loss: 0.0667 - accuracy: 0.9700 - mean_roc_auc: 0.9992 - mean_f1_score: 0.9700 - val_loss: 0.0666 - val_accuracy: 0.9698 - val_mean_roc_auc: 0.9993 - val_mean_f1_score: 0.9698 - lr: 8.2354e-04\n",
            "Epoch 120/148\n",
            "313/313 [==============================] - 14s 46ms/step - loss: 0.0666 - accuracy: 0.9701 - mean_roc_auc: 0.9992 - mean_f1_score: 0.9701 - val_loss: 0.0667 - val_accuracy: 0.9700 - val_mean_roc_auc: 0.9992 - val_mean_f1_score: 0.9699 - lr: 8.2354e-04\n",
            "Epoch 121/148\n",
            "313/313 [==============================] - 14s 46ms/step - loss: 0.0666 - accuracy: 0.9702 - mean_roc_auc: 0.9992 - mean_f1_score: 0.9702 - val_loss: 0.0664 - val_accuracy: 0.9700 - val_mean_roc_auc: 0.9993 - val_mean_f1_score: 0.9700 - lr: 8.2354e-04\n",
            "Epoch 122/148\n",
            "313/313 [==============================] - 15s 49ms/step - loss: 0.0665 - accuracy: 0.9702 - mean_roc_auc: 0.9992 - mean_f1_score: 0.9701 - val_loss: 0.0665 - val_accuracy: 0.9700 - val_mean_roc_auc: 0.9993 - val_mean_f1_score: 0.9700 - lr: 8.2354e-04\n",
            "Epoch 123/148\n",
            "313/313 [==============================] - 15s 49ms/step - loss: 0.0666 - accuracy: 0.9701 - mean_roc_auc: 0.9992 - mean_f1_score: 0.9701 - val_loss: 0.0661 - val_accuracy: 0.9704 - val_mean_roc_auc: 0.9993 - val_mean_f1_score: 0.9703 - lr: 8.2354e-04\n",
            "Epoch 124/148\n",
            "313/313 [==============================] - 15s 47ms/step - loss: 0.0662 - accuracy: 0.9704 - mean_roc_auc: 0.9993 - mean_f1_score: 0.9703 - val_loss: 0.0660 - val_accuracy: 0.9703 - val_mean_roc_auc: 0.9993 - val_mean_f1_score: 0.9702 - lr: 5.7648e-04\n",
            "Epoch 125/148\n",
            "313/313 [==============================] - 15s 49ms/step - loss: 0.0662 - accuracy: 0.9703 - mean_roc_auc: 0.9993 - mean_f1_score: 0.9703 - val_loss: 0.0661 - val_accuracy: 0.9700 - val_mean_roc_auc: 0.9993 - val_mean_f1_score: 0.9699 - lr: 5.7648e-04\n",
            "Epoch 126/148\n",
            "313/313 [==============================] - 15s 47ms/step - loss: 0.0662 - accuracy: 0.9703 - mean_roc_auc: 0.9993 - mean_f1_score: 0.9703 - val_loss: 0.0662 - val_accuracy: 0.9702 - val_mean_roc_auc: 0.9993 - val_mean_f1_score: 0.9701 - lr: 5.7648e-04\n",
            "Epoch 127/148\n",
            "313/313 [==============================] - 15s 47ms/step - loss: 0.0661 - accuracy: 0.9704 - mean_roc_auc: 0.9993 - mean_f1_score: 0.9703 - val_loss: 0.0658 - val_accuracy: 0.9703 - val_mean_roc_auc: 0.9993 - val_mean_f1_score: 0.9703 - lr: 5.7648e-04\n",
            "Epoch 128/148\n",
            "313/313 [==============================] - 15s 46ms/step - loss: 0.0660 - accuracy: 0.9703 - mean_roc_auc: 0.9993 - mean_f1_score: 0.9703 - val_loss: 0.0658 - val_accuracy: 0.9703 - val_mean_roc_auc: 0.9993 - val_mean_f1_score: 0.9702 - lr: 5.7648e-04\n",
            "Epoch 129/148\n",
            "313/313 [==============================] - 14s 46ms/step - loss: 0.0659 - accuracy: 0.9704 - mean_roc_auc: 0.9993 - mean_f1_score: 0.9703 - val_loss: 0.0658 - val_accuracy: 0.9703 - val_mean_roc_auc: 0.9993 - val_mean_f1_score: 0.9702 - lr: 5.7648e-04\n",
            "Epoch 130/148\n",
            "313/313 [==============================] - 15s 46ms/step - loss: 0.0659 - accuracy: 0.9704 - mean_roc_auc: 0.9993 - mean_f1_score: 0.9704 - val_loss: 0.0656 - val_accuracy: 0.9707 - val_mean_roc_auc: 0.9993 - val_mean_f1_score: 0.9706 - lr: 5.7648e-04\n",
            "Epoch 131/148\n",
            "313/313 [==============================] - 14s 46ms/step - loss: 0.0659 - accuracy: 0.9704 - mean_roc_auc: 0.9993 - mean_f1_score: 0.9704 - val_loss: 0.0659 - val_accuracy: 0.9702 - val_mean_roc_auc: 0.9993 - val_mean_f1_score: 0.9701 - lr: 5.7648e-04\n",
            "Epoch 132/148\n",
            "313/313 [==============================] - 15s 46ms/step - loss: 0.0658 - accuracy: 0.9704 - mean_roc_auc: 0.9993 - mean_f1_score: 0.9704 - val_loss: 0.0658 - val_accuracy: 0.9703 - val_mean_roc_auc: 0.9993 - val_mean_f1_score: 0.9702 - lr: 5.7648e-04\n",
            "Epoch 133/148\n",
            "313/313 [==============================] - 15s 47ms/step - loss: 0.0658 - accuracy: 0.9704 - mean_roc_auc: 0.9993 - mean_f1_score: 0.9704 - val_loss: 0.0657 - val_accuracy: 0.9702 - val_mean_roc_auc: 0.9993 - val_mean_f1_score: 0.9701 - lr: 5.7648e-04\n",
            "Epoch 134/148\n",
            "313/313 [==============================] - 14s 46ms/step - loss: 0.0658 - accuracy: 0.9704 - mean_roc_auc: 0.9993 - mean_f1_score: 0.9704 - val_loss: 0.0658 - val_accuracy: 0.9703 - val_mean_roc_auc: 0.9993 - val_mean_f1_score: 0.9702 - lr: 5.7648e-04\n",
            "Epoch 135/148\n",
            "313/313 [==============================] - 15s 48ms/step - loss: 0.0658 - accuracy: 0.9704 - mean_roc_auc: 0.9993 - mean_f1_score: 0.9703 - val_loss: 0.0656 - val_accuracy: 0.9705 - val_mean_roc_auc: 0.9993 - val_mean_f1_score: 0.9704 - lr: 5.7648e-04\n",
            "Epoch 136/148\n",
            "313/313 [==============================] - 14s 45ms/step - loss: 0.0658 - accuracy: 0.9704 - mean_roc_auc: 0.9993 - mean_f1_score: 0.9703 - val_loss: 0.0655 - val_accuracy: 0.9704 - val_mean_roc_auc: 0.9993 - val_mean_f1_score: 0.9703 - lr: 5.7648e-04\n",
            "Epoch 137/148\n",
            "313/313 [==============================] - 15s 47ms/step - loss: 0.0658 - accuracy: 0.9705 - mean_roc_auc: 0.9993 - mean_f1_score: 0.9704 - val_loss: 0.0657 - val_accuracy: 0.9704 - val_mean_roc_auc: 0.9993 - val_mean_f1_score: 0.9703 - lr: 5.7648e-04\n",
            "Epoch 138/148\n",
            "313/313 [==============================] - 14s 45ms/step - loss: 0.0658 - accuracy: 0.9704 - mean_roc_auc: 0.9993 - mean_f1_score: 0.9704 - val_loss: 0.0657 - val_accuracy: 0.9706 - val_mean_roc_auc: 0.9993 - val_mean_f1_score: 0.9705 - lr: 5.7648e-04\n",
            "Epoch 139/148\n",
            "313/313 [==============================] - 14s 45ms/step - loss: 0.0656 - accuracy: 0.9705 - mean_roc_auc: 0.9993 - mean_f1_score: 0.9705 - val_loss: 0.0656 - val_accuracy: 0.9704 - val_mean_roc_auc: 0.9993 - val_mean_f1_score: 0.9703 - lr: 4.0354e-04\n",
            "Epoch 140/148\n",
            "313/313 [==============================] - 14s 45ms/step - loss: 0.0655 - accuracy: 0.9705 - mean_roc_auc: 0.9993 - mean_f1_score: 0.9704 - val_loss: 0.0656 - val_accuracy: 0.9704 - val_mean_roc_auc: 0.9993 - val_mean_f1_score: 0.9703 - lr: 4.0354e-04\n",
            "Epoch 141/148\n",
            "313/313 [==============================] - 14s 45ms/step - loss: 0.0656 - accuracy: 0.9705 - mean_roc_auc: 0.9993 - mean_f1_score: 0.9705 - val_loss: 0.0655 - val_accuracy: 0.9701 - val_mean_roc_auc: 0.9993 - val_mean_f1_score: 0.9700 - lr: 4.0354e-04\n",
            "Epoch 142/148\n",
            "313/313 [==============================] - 14s 45ms/step - loss: 0.0655 - accuracy: 0.9705 - mean_roc_auc: 0.9993 - mean_f1_score: 0.9705 - val_loss: 0.0654 - val_accuracy: 0.9704 - val_mean_roc_auc: 0.9993 - val_mean_f1_score: 0.9703 - lr: 4.0354e-04\n",
            "Epoch 143/148\n",
            "313/313 [==============================] - 14s 46ms/step - loss: 0.0655 - accuracy: 0.9705 - mean_roc_auc: 0.9993 - mean_f1_score: 0.9705 - val_loss: 0.0655 - val_accuracy: 0.9705 - val_mean_roc_auc: 0.9993 - val_mean_f1_score: 0.9705 - lr: 4.0354e-04\n",
            "Epoch 144/148\n",
            "313/313 [==============================] - 14s 45ms/step - loss: 0.0655 - accuracy: 0.9705 - mean_roc_auc: 0.9993 - mean_f1_score: 0.9705 - val_loss: 0.0656 - val_accuracy: 0.9705 - val_mean_roc_auc: 0.9993 - val_mean_f1_score: 0.9705 - lr: 4.0354e-04\n",
            "Epoch 145/148\n",
            "313/313 [==============================] - 14s 45ms/step - loss: 0.0655 - accuracy: 0.9705 - mean_roc_auc: 0.9993 - mean_f1_score: 0.9705 - val_loss: 0.0654 - val_accuracy: 0.9704 - val_mean_roc_auc: 0.9993 - val_mean_f1_score: 0.9703 - lr: 4.0354e-04\n",
            "Epoch 146/148\n",
            "313/313 [==============================] - 15s 47ms/step - loss: 0.0655 - accuracy: 0.9706 - mean_roc_auc: 0.9993 - mean_f1_score: 0.9705 - val_loss: 0.0655 - val_accuracy: 0.9703 - val_mean_roc_auc: 0.9993 - val_mean_f1_score: 0.9703 - lr: 4.0354e-04\n",
            "Epoch 147/148\n",
            "313/313 [==============================] - 14s 45ms/step - loss: 0.0655 - accuracy: 0.9705 - mean_roc_auc: 0.9993 - mean_f1_score: 0.9705 - val_loss: 0.0655 - val_accuracy: 0.9705 - val_mean_roc_auc: 0.9993 - val_mean_f1_score: 0.9704 - lr: 4.0354e-04\n",
            "Epoch 148/148\n",
            "313/313 [==============================] - 15s 47ms/step - loss: 0.0655 - accuracy: 0.9706 - mean_roc_auc: 0.9993 - mean_f1_score: 0.9705 - val_loss: 0.0655 - val_accuracy: 0.9704 - val_mean_roc_auc: 0.9993 - val_mean_f1_score: 0.9703 - lr: 4.0354e-04\n"
          ]
        },
        {
          "output_type": "stream",
          "name": "stderr",
          "text": [
            "/usr/local/lib/python3.10/dist-packages/keras/src/engine/training.py:3103: UserWarning: You are saving your model as an HDF5 file via `model.save()`. This file format is considered legacy. We recommend using instead the native Keras format, e.g. `model.save('my_model.keras')`.\n",
            "  saving_api.save_model(\n"
          ]
        }
      ]
    },
    {
      "cell_type": "code",
      "source": [
        "#Load Saved model\n",
        "#dnn = load_model('/content/drive/MyDrive/DNN_classification.h5')\n",
        "\n",
        "# Get model Summary\n",
        "dnn.summary()\n",
        "\n",
        "#Get history plots\n",
        "plot_acc_loss(training_history.history)\n",
        "\n",
        "# Load Evaluation Data in case of a saved model\n",
        "#cm, cr, training_history = load_pickle_evaluation_data('/content/drive/MyDrive/dnn_classification_data_os.pkl')\n",
        "\n",
        "#Calculate and display Confusion Matrix and Classification Report on test Data\n",
        "cm, cr = get_cm_cr_from_dnn(dnn, X_test_dnn_ros, y_test_dnn_ros)\n",
        "plot_confusion_matrix(cm)\n",
        "display_classification_report(cr)\n",
        "\n",
        "# Pickle evaluation data\n",
        "save_as_path = '/content/drive/MyDrive/dnn_classification_data_os.pkl'\n",
        "pickle_model_evaluation_data(save_as_path, cm, cr, training_history)"
      ],
      "metadata": {
        "colab": {
          "base_uri": "https://localhost:8080/",
          "height": 1000
        },
        "id": "OVTdjaEvM1cY",
        "outputId": "73922fd8-f1a8-4d02-8c90-67bfa88c18a0"
      },
      "execution_count": null,
      "outputs": [
        {
          "output_type": "stream",
          "name": "stdout",
          "text": [
            "Model: \"sequential_10\"\n",
            "_________________________________________________________________\n",
            " Layer (type)                Output Shape              Param #   \n",
            "=================================================================\n",
            " dense1 (Dense)              (None, 59)                1711      \n",
            "                                                                 \n",
            " dense2 (Dense)              (None, 111)               6660      \n",
            "                                                                 \n",
            " dense3 (Dense)              (None, 112)               12544     \n",
            "                                                                 \n",
            " dense4 (Dense)              (None, 7)                 791       \n",
            "                                                                 \n",
            "=================================================================\n",
            "Total params: 21706 (84.79 KB)\n",
            "Trainable params: 21706 (84.79 KB)\n",
            "Non-trainable params: 0 (0.00 Byte)\n",
            "_________________________________________________________________\n"
          ]
        },
        {
          "output_type": "display_data",
          "data": {
            "text/plain": [
              "<Figure size 800x400 with 2 Axes>"
            ],
            "image/png": "[encoded data removed]"
          },
          "metadata": {}
        },
        {
          "output_type": "stream",
          "name": "stdout",
          "text": [
            "45083/45083 [==============================] - 67s 1ms/step\n"
          ]
        },
        {
          "output_type": "display_data",
          "data": {
            "text/plain": [
              "<Figure size 600x500 with 2 Axes>"
            ],
            "image/png": "[encoded data removed]"
          },
          "metadata": {}
        },
        {
          "output_type": "display_data",
          "data": {
            "text/html": [
              "<html>\n",
              "<head><meta charset=\"utf-8\" /></head>\n",
              "<body>\n",
              "    <div>            <script src=\"https://cdnjs.cloudflare.com/ajax/libs/mathjax/2.7.5/MathJax.js?config=TeX-AMS-MML_SVG\"></script><script type=\"text/javascript\">if (window.MathJax && window.MathJax.Hub && window.MathJax.Hub.Config) {window.MathJax.Hub.Config({SVG: {font: \"STIX-Web\"}});}</script>                <script type=\"text/javascript\">window.PlotlyConfig = {MathJaxConfig: 'local'};</script>\n",
              "        <script charset=\"utf-8\" src=\"https://cdn.plot.ly/plotly-2.24.1.min.js\"></script>                <div id=\"a335cfeb-d989-4986-8645-02963a59dfdc\" class=\"plotly-graph-div\" style=\"height:450px; width:700px;\"></div>            <script type=\"text/javascript\">                                    window.PLOTLYENV=window.PLOTLYENV || {};                                    if (document.getElementById(\"a335cfeb-d989-4986-8645-02963a59dfdc\")) {                    Plotly.newPlot(                        \"a335cfeb-d989-4986-8645-02963a59dfdc\",                        [{\"cells\":{\"values\":[[\"0.0\",\"1.0\",\"2.0\",\"3.0\",\"4.0\",\"5.0\",\"6.0\",\"Accuracy average\"],[\"1.00\",\"0.96\",\"0.95\",\"0.94\",\"0.96\",\"0.99\",\"0.99\",\"0.97\"],[\"1.00\",\"0.97\",\"0.92\",\"0.94\",\"0.98\",\"0.99\",\"0.99\",\"0.97\"],[\"1.00\",\"0.96\",\"0.94\",\"0.94\",\"0.97\",\"0.99\",\"0.99\",\"0.97\"]]},\"columnwidth\":[0.25,0.2,0.2,0.2],\"header\":{\"values\":[\"Class\",\"Precision\",\"Recall\",\"F1-Score\"]},\"type\":\"table\",\"domain\":{\"x\":[0.0,1.0],\"y\":[0.0,1.0]}}],                        {\"template\":{\"data\":{\"histogram2dcontour\":[{\"type\":\"histogram2dcontour\",\"colorbar\":{\"outlinewidth\":0,\"ticks\":\"\"},\"colorscale\":[[0.0,\"#0d0887\"],[0.1111111111111111,\"#46039f\"],[0.2222222222222222,\"#7201a8\"],[0.3333333333333333,\"#9c179e\"],[0.4444444444444444,\"#bd3786\"],[0.5555555555555556,\"#d8576b\"],[0.6666666666666666,\"#ed7953\"],[0.7777777777777778,\"#fb9f3a\"],[0.8888888888888888,\"#fdca26\"],[1.0,\"#f0f921\"]]}],\"choropleth\":[{\"type\":\"choropleth\",\"colorbar\":{\"outlinewidth\":0,\"ticks\":\"\"}}],\"histogram2d\":[{\"type\":\"histogram2d\",\"colorbar\":{\"outlinewidth\":0,\"ticks\":\"\"},\"colorscale\":[[0.0,\"#0d0887\"],[0.1111111111111111,\"#46039f\"],[0.2222222222222222,\"#7201a8\"],[0.3333333333333333,\"#9c179e\"],[0.4444444444444444,\"#bd3786\"],[0.5555555555555556,\"#d8576b\"],[0.6666666666666666,\"#ed7953\"],[0.7777777777777778,\"#fb9f3a\"],[0.8888888888888888,\"#fdca26\"],[1.0,\"#f0f921\"]]}],\"heatmap\":[{\"type\":\"heatmap\",\"colorbar\":{\"outlinewidth\":0,\"ticks\":\"\"},\"colorscale\":[[0.0,\"#0d0887\"],[0.1111111111111111,\"#46039f\"],[0.2222222222222222,\"#7201a8\"],[0.3333333333333333,\"#9c179e\"],[0.4444444444444444,\"#bd3786\"],[0.5555555555555556,\"#d8576b\"],[0.6666666666666666,\"#ed7953\"],[0.7777777777777778,\"#fb9f3a\"],[0.8888888888888888,\"#fdca26\"],[1.0,\"#f0f921\"]]}],\"heatmapgl\":[{\"type\":\"heatmapgl\",\"colorbar\":{\"outlinewidth\":0,\"ticks\":\"\"},\"colorscale\":[[0.0,\"#0d0887\"],[0.1111111111111111,\"#46039f\"],[0.2222222222222222,\"#7201a8\"],[0.3333333333333333,\"#9c179e\"],[0.4444444444444444,\"#bd3786\"],[0.5555555555555556,\"#d8576b\"],[0.6666666666666666,\"#ed7953\"],[0.7777777777777778,\"#fb9f3a\"],[0.8888888888888888,\"#fdca26\"],[1.0,\"#f0f921\"]]}],\"contourcarpet\":[{\"type\":\"contourcarpet\",\"colorbar\":{\"outlinewidth\":0,\"ticks\":\"\"}}],\"contour\":[{\"type\":\"contour\",\"colorbar\":{\"outlinewidth\":0,\"ticks\":\"\"},\"colorscale\":[[0.0,\"#0d0887\"],[0.1111111111111111,\"#46039f\"],[0.2222222222222222,\"#7201a8\"],[0.3333333333333333,\"#9c179e\"],[0.4444444444444444,\"#bd3786\"],[0.5555555555555556,\"#d8576b\"],[0.6666666666666666,\"#ed7953\"],[0.7777777777777778,\"#fb9f3a\"],[0.8888888888888888,\"#fdca26\"],[1.0,\"#f0f921\"]]}],\"surface\":[{\"type\":\"surface\",\"colorbar\":{\"outlinewidth\":0,\"ticks\":\"\"},\"colorscale\":[[0.0,\"#0d0887\"],[0.1111111111111111,\"#46039f\"],[0.2222222222222222,\"#7201a8\"],[0.3333333333333333,\"#9c179e\"],[0.4444444444444444,\"#bd3786\"],[0.5555555555555556,\"#d8576b\"],[0.6666666666666666,\"#ed7953\"],[0.7777777777777778,\"#fb9f3a\"],[0.8888888888888888,\"#fdca26\"],[1.0,\"#f0f921\"]]}],\"mesh3d\":[{\"type\":\"mesh3d\",\"colorbar\":{\"outlinewidth\":0,\"ticks\":\"\"}}],\"scatter\":[{\"fillpattern\":{\"fillmode\":\"overlay\",\"size\":10,\"solidity\":0.2},\"type\":\"scatter\"}],\"parcoords\":[{\"type\":\"parcoords\",\"line\":{\"colorbar\":{\"outlinewidth\":0,\"ticks\":\"\"}}}],\"scatterpolargl\":[{\"type\":\"scatterpolargl\",\"marker\":{\"colorbar\":{\"outlinewidth\":0,\"ticks\":\"\"}}}],\"bar\":[{\"error_x\":{\"color\":\"#2a3f5f\"},\"error_y\":{\"color\":\"#2a3f5f\"},\"marker\":{\"line\":{\"color\":\"#E5ECF6\",\"width\":0.5},\"pattern\":{\"fillmode\":\"overlay\",\"size\":10,\"solidity\":0.2}},\"type\":\"bar\"}],\"scattergeo\":[{\"type\":\"scattergeo\",\"marker\":{\"colorbar\":{\"outlinewidth\":0,\"ticks\":\"\"}}}],\"scatterpolar\":[{\"type\":\"scatterpolar\",\"marker\":{\"colorbar\":{\"outlinewidth\":0,\"ticks\":\"\"}}}],\"histogram\":[{\"marker\":{\"pattern\":{\"fillmode\":\"overlay\",\"size\":10,\"solidity\":0.2}},\"type\":\"histogram\"}],\"scattergl\":[{\"type\":\"scattergl\",\"marker\":{\"colorbar\":{\"outlinewidth\":0,\"ticks\":\"\"}}}],\"scatter3d\":[{\"type\":\"scatter3d\",\"line\":{\"colorbar\":{\"outlinewidth\":0,\"ticks\":\"\"}},\"marker\":{\"colorbar\":{\"outlinewidth\":0,\"ticks\":\"\"}}}],\"scattermapbox\":[{\"type\":\"scattermapbox\",\"marker\":{\"colorbar\":{\"outlinewidth\":0,\"ticks\":\"\"}}}],\"scatterternary\":[{\"type\":\"scatterternary\",\"marker\":{\"colorbar\":{\"outlinewidth\":0,\"ticks\":\"\"}}}],\"scattercarpet\":[{\"type\":\"scattercarpet\",\"marker\":{\"colorbar\":{\"outlinewidth\":0,\"ticks\":\"\"}}}],\"carpet\":[{\"aaxis\":{\"endlinecolor\":\"#2a3f5f\",\"gridcolor\":\"white\",\"linecolor\":\"white\",\"minorgridcolor\":\"white\",\"startlinecolor\":\"#2a3f5f\"},\"baxis\":{\"endlinecolor\":\"#2a3f5f\",\"gridcolor\":\"white\",\"linecolor\":\"white\",\"minorgridcolor\":\"white\",\"startlinecolor\":\"#2a3f5f\"},\"type\":\"carpet\"}],\"table\":[{\"cells\":{\"fill\":{\"color\":\"#EBF0F8\"},\"line\":{\"color\":\"white\"}},\"header\":{\"fill\":{\"color\":\"#C8D4E3\"},\"line\":{\"color\":\"white\"}},\"type\":\"table\"}],\"barpolar\":[{\"marker\":{\"line\":{\"color\":\"#E5ECF6\",\"width\":0.5},\"pattern\":{\"fillmode\":\"overlay\",\"size\":10,\"solidity\":0.2}},\"type\":\"barpolar\"}],\"pie\":[{\"automargin\":true,\"type\":\"pie\"}]},\"layout\":{\"autotypenumbers\":\"strict\",\"colorway\":[\"#636efa\",\"#EF553B\",\"#00cc96\",\"#ab63fa\",\"#FFA15A\",\"#19d3f3\",\"#FF6692\",\"#B6E880\",\"#FF97FF\",\"#FECB52\"],\"font\":{\"color\":\"#2a3f5f\"},\"hovermode\":\"closest\",\"hoverlabel\":{\"align\":\"left\"},\"paper_bgcolor\":\"white\",\"plot_bgcolor\":\"#E5ECF6\",\"polar\":{\"bgcolor\":\"#E5ECF6\",\"angularaxis\":{\"gridcolor\":\"white\",\"linecolor\":\"white\",\"ticks\":\"\"},\"radialaxis\":{\"gridcolor\":\"white\",\"linecolor\":\"white\",\"ticks\":\"\"}},\"ternary\":{\"bgcolor\":\"#E5ECF6\",\"aaxis\":{\"gridcolor\":\"white\",\"linecolor\":\"white\",\"ticks\":\"\"},\"baxis\":{\"gridcolor\":\"white\",\"linecolor\":\"white\",\"ticks\":\"\"},\"caxis\":{\"gridcolor\":\"white\",\"linecolor\":\"white\",\"ticks\":\"\"}},\"coloraxis\":{\"colorbar\":{\"outlinewidth\":0,\"ticks\":\"\"}},\"colorscale\":{\"sequential\":[[0.0,\"#0d0887\"],[0.1111111111111111,\"#46039f\"],[0.2222222222222222,\"#7201a8\"],[0.3333333333333333,\"#9c179e\"],[0.4444444444444444,\"#bd3786\"],[0.5555555555555556,\"#d8576b\"],[0.6666666666666666,\"#ed7953\"],[0.7777777777777778,\"#fb9f3a\"],[0.8888888888888888,\"#fdca26\"],[1.0,\"#f0f921\"]],\"sequentialminus\":[[0.0,\"#0d0887\"],[0.1111111111111111,\"#46039f\"],[0.2222222222222222,\"#7201a8\"],[0.3333333333333333,\"#9c179e\"],[0.4444444444444444,\"#bd3786\"],[0.5555555555555556,\"#d8576b\"],[0.6666666666666666,\"#ed7953\"],[0.7777777777777778,\"#fb9f3a\"],[0.8888888888888888,\"#fdca26\"],[1.0,\"#f0f921\"]],\"diverging\":[[0,\"#8e0152\"],[0.1,\"#c51b7d\"],[0.2,\"#de77ae\"],[0.3,\"#f1b6da\"],[0.4,\"#fde0ef\"],[0.5,\"#f7f7f7\"],[0.6,\"#e6f5d0\"],[0.7,\"#b8e186\"],[0.8,\"#7fbc41\"],[0.9,\"#4d9221\"],[1,\"#276419\"]]},\"xaxis\":{\"gridcolor\":\"white\",\"linecolor\":\"white\",\"ticks\":\"\",\"title\":{\"standoff\":15},\"zerolinecolor\":\"white\",\"automargin\":true,\"zerolinewidth\":2},\"yaxis\":{\"gridcolor\":\"white\",\"linecolor\":\"white\",\"ticks\":\"\",\"title\":{\"standoff\":15},\"zerolinecolor\":\"white\",\"automargin\":true,\"zerolinewidth\":2},\"scene\":{\"xaxis\":{\"backgroundcolor\":\"#E5ECF6\",\"gridcolor\":\"white\",\"linecolor\":\"white\",\"showbackground\":true,\"ticks\":\"\",\"zerolinecolor\":\"white\",\"gridwidth\":2},\"yaxis\":{\"backgroundcolor\":\"#E5ECF6\",\"gridcolor\":\"white\",\"linecolor\":\"white\",\"showbackground\":true,\"ticks\":\"\",\"zerolinecolor\":\"white\",\"gridwidth\":2},\"zaxis\":{\"backgroundcolor\":\"#E5ECF6\",\"gridcolor\":\"white\",\"linecolor\":\"white\",\"showbackground\":true,\"ticks\":\"\",\"zerolinecolor\":\"white\",\"gridwidth\":2}},\"shapedefaults\":{\"line\":{\"color\":\"#2a3f5f\"}},\"annotationdefaults\":{\"arrowcolor\":\"#2a3f5f\",\"arrowhead\":0,\"arrowwidth\":1},\"geo\":{\"bgcolor\":\"white\",\"landcolor\":\"#E5ECF6\",\"subunitcolor\":\"white\",\"showland\":true,\"showlakes\":true,\"lakecolor\":\"white\"},\"title\":{\"x\":0.05},\"mapbox\":{\"style\":\"light\"}}},\"title\":{\"text\":\"Classification Report\"},\"height\":450,\"width\":700,\"showlegend\":false},                        {\"responsive\": true}                    ).then(function(){\n",
              "                            \n",
              "var gd = document.getElementById('a335cfeb-d989-4986-8645-02963a59dfdc');\n",
              "var x = new MutationObserver(function (mutations, observer) {{\n",
              "        var display = window.getComputedStyle(gd).display;\n",
              "        if (!display || display === 'none') {{\n",
              "            console.log([gd, 'removed!']);\n",
              "            Plotly.purge(gd);\n",
              "            observer.disconnect();\n",
              "        }}\n",
              "}});\n",
              "\n",
              "// Listen for the removal of the full notebook cells\n",
              "var notebookContainer = gd.closest('#notebook-container');\n",
              "if (notebookContainer) {{\n",
              "    x.observe(notebookContainer, {childList: true});\n",
              "}}\n",
              "\n",
              "// Listen for the clearing of the current output cell\n",
              "var outputEl = gd.closest('.output');\n",
              "if (outputEl) {{\n",
              "    x.observe(outputEl, {childList: true});\n",
              "}}\n",
              "\n",
              "                        })                };                            </script>        </div>\n",
              "</body>\n",
              "</html>"
            ]
          },
          "metadata": {}
        }
      ]
    },
    {
      "cell_type": "markdown",
      "source": [
        "#### Without Oversampling"
      ],
      "metadata": {
        "id": "R8RpyhbqwOKs"
      }
    },
    {
      "cell_type": "code",
      "source": [
        "from sklearn.metrics import roc_auc_score, f1_score\n",
        "import tensorflow as tf\n",
        "from tensorflow.keras.models import Sequential\n",
        "from tensorflow.keras.layers import Dense\n",
        "from tensorflow.keras.optimizers import Adam\n",
        "from tensorflow.keras.callbacks import EarlyStopping\n",
        "\n",
        "dnn = Sequential()\n",
        "dnn.add(Dense(units=59, activation='relu', name='dense1'))\n",
        "dnn.add(Dense(units=111, activation='relu', name='dense2'))\n",
        "dnn.add(Dense(units=112, activation='relu', name='dense3'))\n",
        "dnn.add(Dense(units=7, activation='softmax', name='dense4'))\n",
        "\n",
        "# Function to compute Mean ROC AUC (OvR)\n",
        "def mean_roc_auc(y_true, y_pred):\n",
        "    return tf.py_function(lambda y_true, y_pred: roc_auc_score(y_true, y_pred, multi_class='ovr'),\n",
        "                          (y_true, y_pred), tf.float32)\n",
        "\n",
        "# Function to compute Mean F1-Score (Macro)\n",
        "def mean_f1_score(y_true, y_pred):\n",
        "    return tf.py_function(lambda y_true, y_pred: f1_score(y_true, tf.argmax(y_pred, axis=-1), average='macro'),\n",
        "                          (y_true, y_pred), tf.float32)\n",
        "\n",
        "optimizer = Adam(learning_rate=0.01)\n",
        "\n",
        "dnn.compile(loss='sparse_categorical_crossentropy',\n",
        "            optimizer=optimizer,\n",
        "            metrics=['accuracy'])#, mean_roc_auc, mean_f1_score])\n",
        "\n",
        "# Example code for training with early stopping\n",
        "early_stop = EarlyStopping(monitor='val_loss', patience=20)\n",
        "# Set up ReduceLROnPlateau callback\n",
        "lr_scheduler = ReduceLROnPlateau(monitor='val_loss', factor=0.7, patience=15, min_lr=1e-5, min_delta=0.05)\n",
        "\n",
        "training_history = dnn.fit(X_train_dnn, y_train_dnn,\n",
        "                           epochs=148,\n",
        "                           batch_size=10240,\n",
        "                           validation_data=(X_valid_dnn, y_valid_dnn),\n",
        "                           callbacks=[lr_scheduler, early_stop])"
      ],
      "metadata": {
        "colab": {
          "base_uri": "https://localhost:8080/"
        },
        "id": "v41p3o7dwW1l",
        "outputId": "33988544-3886-464e-9823-c32d37e13731"
      },
      "execution_count": null,
      "outputs": [
        {
          "output_type": "stream",
          "name": "stdout",
          "text": [
            "Epoch 1/148\n",
            "104/104 [==============================] - 3s 21ms/step - loss: 0.4035 - accuracy: 0.8365 - val_loss: 0.2280 - val_accuracy: 0.9124 - lr: 0.0100\n",
            "Epoch 2/148\n",
            "104/104 [==============================] - 2s 20ms/step - loss: 0.2032 - accuracy: 0.9177 - val_loss: 0.1847 - val_accuracy: 0.9229 - lr: 0.0100\n",
            "Epoch 3/148\n",
            "104/104 [==============================] - 2s 22ms/step - loss: 0.1706 - accuracy: 0.9287 - val_loss: 0.1653 - val_accuracy: 0.9300 - lr: 0.0100\n",
            "Epoch 4/148\n",
            "104/104 [==============================] - 2s 19ms/step - loss: 0.1607 - accuracy: 0.9322 - val_loss: 0.1556 - val_accuracy: 0.9368 - lr: 0.0100\n",
            "Epoch 5/148\n",
            "104/104 [==============================] - 2s 18ms/step - loss: 0.1495 - accuracy: 0.9365 - val_loss: 0.1448 - val_accuracy: 0.9372 - lr: 0.0100\n",
            "Epoch 6/148\n",
            "104/104 [==============================] - 2s 19ms/step - loss: 0.1488 - accuracy: 0.9368 - val_loss: 0.1416 - val_accuracy: 0.9422 - lr: 0.0100\n",
            "Epoch 7/148\n",
            "104/104 [==============================] - 2s 18ms/step - loss: 0.1377 - accuracy: 0.9412 - val_loss: 0.1488 - val_accuracy: 0.9386 - lr: 0.0100\n",
            "Epoch 8/148\n",
            "104/104 [==============================] - 2s 20ms/step - loss: 0.1366 - accuracy: 0.9414 - val_loss: 0.1373 - val_accuracy: 0.9417 - lr: 0.0100\n",
            "Epoch 9/148\n",
            "104/104 [==============================] - 2s 19ms/step - loss: 0.1338 - accuracy: 0.9421 - val_loss: 0.1356 - val_accuracy: 0.9415 - lr: 0.0100\n",
            "Epoch 10/148\n",
            "104/104 [==============================] - 2s 19ms/step - loss: 0.1311 - accuracy: 0.9432 - val_loss: 0.1303 - val_accuracy: 0.9418 - lr: 0.0100\n",
            "Epoch 11/148\n",
            "104/104 [==============================] - 2s 19ms/step - loss: 0.1291 - accuracy: 0.9437 - val_loss: 0.1293 - val_accuracy: 0.9458 - lr: 0.0100\n",
            "Epoch 12/148\n",
            "104/104 [==============================] - 2s 19ms/step - loss: 0.1306 - accuracy: 0.9427 - val_loss: 0.1280 - val_accuracy: 0.9454 - lr: 0.0100\n",
            "Epoch 13/148\n",
            "104/104 [==============================] - 2s 19ms/step - loss: 0.1281 - accuracy: 0.9440 - val_loss: 0.1289 - val_accuracy: 0.9448 - lr: 0.0100\n",
            "Epoch 14/148\n",
            "104/104 [==============================] - 2s 19ms/step - loss: 0.1249 - accuracy: 0.9450 - val_loss: 0.1237 - val_accuracy: 0.9467 - lr: 0.0100\n",
            "Epoch 15/148\n",
            "104/104 [==============================] - 2s 18ms/step - loss: 0.1226 - accuracy: 0.9460 - val_loss: 0.1239 - val_accuracy: 0.9470 - lr: 0.0100\n",
            "Epoch 16/148\n",
            "104/104 [==============================] - 2s 18ms/step - loss: 0.1462 - accuracy: 0.9383 - val_loss: 0.1454 - val_accuracy: 0.9371 - lr: 0.0100\n",
            "Epoch 17/148\n",
            "104/104 [==============================] - 2s 18ms/step - loss: 0.1301 - accuracy: 0.9434 - val_loss: 0.1274 - val_accuracy: 0.9440 - lr: 0.0100\n",
            "Epoch 18/148\n",
            "104/104 [==============================] - 2s 18ms/step - loss: 0.1244 - accuracy: 0.9456 - val_loss: 0.1255 - val_accuracy: 0.9433 - lr: 0.0100\n",
            "Epoch 19/148\n",
            "104/104 [==============================] - 2s 18ms/step - loss: 0.1186 - accuracy: 0.9473 - val_loss: 0.1227 - val_accuracy: 0.9468 - lr: 0.0070\n",
            "Epoch 20/148\n",
            "104/104 [==============================] - 2s 18ms/step - loss: 0.1174 - accuracy: 0.9478 - val_loss: 0.1205 - val_accuracy: 0.9482 - lr: 0.0070\n",
            "Epoch 21/148\n",
            "104/104 [==============================] - 2s 18ms/step - loss: 0.1169 - accuracy: 0.9482 - val_loss: 0.1224 - val_accuracy: 0.9446 - lr: 0.0070\n",
            "Epoch 22/148\n",
            "104/104 [==============================] - 2s 18ms/step - loss: 0.1161 - accuracy: 0.9480 - val_loss: 0.1192 - val_accuracy: 0.9475 - lr: 0.0070\n",
            "Epoch 23/148\n",
            "104/104 [==============================] - 2s 19ms/step - loss: 0.1155 - accuracy: 0.9487 - val_loss: 0.1185 - val_accuracy: 0.9490 - lr: 0.0070\n",
            "Epoch 24/148\n",
            "104/104 [==============================] - 2s 19ms/step - loss: 0.1155 - accuracy: 0.9486 - val_loss: 0.1169 - val_accuracy: 0.9485 - lr: 0.0070\n",
            "Epoch 25/148\n",
            "104/104 [==============================] - 2s 18ms/step - loss: 0.1158 - accuracy: 0.9487 - val_loss: 0.1205 - val_accuracy: 0.9491 - lr: 0.0070\n",
            "Epoch 26/148\n",
            "104/104 [==============================] - 2s 18ms/step - loss: 0.1144 - accuracy: 0.9490 - val_loss: 0.1154 - val_accuracy: 0.9480 - lr: 0.0070\n",
            "Epoch 27/148\n",
            "104/104 [==============================] - 2s 18ms/step - loss: 0.1133 - accuracy: 0.9497 - val_loss: 0.1191 - val_accuracy: 0.9469 - lr: 0.0070\n",
            "Epoch 28/148\n",
            "104/104 [==============================] - 2s 21ms/step - loss: 0.1135 - accuracy: 0.9499 - val_loss: 0.1159 - val_accuracy: 0.9493 - lr: 0.0070\n",
            "Epoch 29/148\n",
            "104/104 [==============================] - 2s 18ms/step - loss: 0.1139 - accuracy: 0.9491 - val_loss: 0.1174 - val_accuracy: 0.9503 - lr: 0.0070\n",
            "Epoch 30/148\n",
            "104/104 [==============================] - 2s 18ms/step - loss: 0.1129 - accuracy: 0.9498 - val_loss: 0.1181 - val_accuracy: 0.9477 - lr: 0.0070\n",
            "Epoch 31/148\n",
            "104/104 [==============================] - 2s 19ms/step - loss: 0.1116 - accuracy: 0.9503 - val_loss: 0.1161 - val_accuracy: 0.9510 - lr: 0.0070\n",
            "Epoch 32/148\n",
            "104/104 [==============================] - 2s 18ms/step - loss: 0.1124 - accuracy: 0.9503 - val_loss: 0.1167 - val_accuracy: 0.9499 - lr: 0.0070\n",
            "Epoch 33/148\n",
            "104/104 [==============================] - 2s 19ms/step - loss: 0.1119 - accuracy: 0.9502 - val_loss: 0.1162 - val_accuracy: 0.9487 - lr: 0.0070\n",
            "Epoch 34/148\n",
            "104/104 [==============================] - 2s 19ms/step - loss: 0.1087 - accuracy: 0.9517 - val_loss: 0.1128 - val_accuracy: 0.9516 - lr: 0.0049\n",
            "Epoch 35/148\n",
            "104/104 [==============================] - 2s 20ms/step - loss: 0.1086 - accuracy: 0.9521 - val_loss: 0.1128 - val_accuracy: 0.9489 - lr: 0.0049\n",
            "Epoch 36/148\n",
            "104/104 [==============================] - 2s 19ms/step - loss: 0.1083 - accuracy: 0.9521 - val_loss: 0.1117 - val_accuracy: 0.9510 - lr: 0.0049\n",
            "Epoch 37/148\n",
            "104/104 [==============================] - 2s 22ms/step - loss: 0.1083 - accuracy: 0.9520 - val_loss: 0.1128 - val_accuracy: 0.9485 - lr: 0.0049\n",
            "Epoch 38/148\n",
            "104/104 [==============================] - 2s 19ms/step - loss: 0.1086 - accuracy: 0.9517 - val_loss: 0.1116 - val_accuracy: 0.9502 - lr: 0.0049\n",
            "Epoch 39/148\n",
            "104/104 [==============================] - 2s 19ms/step - loss: 0.1086 - accuracy: 0.9517 - val_loss: 0.1136 - val_accuracy: 0.9512 - lr: 0.0049\n",
            "Epoch 40/148\n",
            "104/104 [==============================] - 2s 19ms/step - loss: 0.1078 - accuracy: 0.9524 - val_loss: 0.1095 - val_accuracy: 0.9527 - lr: 0.0049\n",
            "Epoch 41/148\n",
            "104/104 [==============================] - 2s 20ms/step - loss: 0.1083 - accuracy: 0.9517 - val_loss: 0.1108 - val_accuracy: 0.9530 - lr: 0.0049\n",
            "Epoch 42/148\n",
            "104/104 [==============================] - 2s 19ms/step - loss: 0.1075 - accuracy: 0.9529 - val_loss: 0.1129 - val_accuracy: 0.9521 - lr: 0.0049\n",
            "Epoch 43/148\n",
            "104/104 [==============================] - 2s 18ms/step - loss: 0.1077 - accuracy: 0.9523 - val_loss: 0.1099 - val_accuracy: 0.9522 - lr: 0.0049\n",
            "Epoch 44/148\n",
            "104/104 [==============================] - 2s 18ms/step - loss: 0.1077 - accuracy: 0.9525 - val_loss: 0.1126 - val_accuracy: 0.9523 - lr: 0.0049\n",
            "Epoch 45/148\n",
            "104/104 [==============================] - 2s 18ms/step - loss: 0.1078 - accuracy: 0.9520 - val_loss: 0.1108 - val_accuracy: 0.9522 - lr: 0.0049\n",
            "Epoch 46/148\n",
            "104/104 [==============================] - 2s 19ms/step - loss: 0.1082 - accuracy: 0.9520 - val_loss: 0.1128 - val_accuracy: 0.9502 - lr: 0.0049\n",
            "Epoch 47/148\n",
            "104/104 [==============================] - 2s 19ms/step - loss: 0.1075 - accuracy: 0.9524 - val_loss: 0.1103 - val_accuracy: 0.9521 - lr: 0.0049\n",
            "Epoch 48/148\n",
            "104/104 [==============================] - 2s 19ms/step - loss: 0.1075 - accuracy: 0.9524 - val_loss: 0.1086 - val_accuracy: 0.9529 - lr: 0.0049\n",
            "Epoch 49/148\n",
            "104/104 [==============================] - 2s 18ms/step - loss: 0.1071 - accuracy: 0.9527 - val_loss: 0.1097 - val_accuracy: 0.9501 - lr: 0.0049\n",
            "Epoch 50/148\n",
            "104/104 [==============================] - 2s 19ms/step - loss: 0.1051 - accuracy: 0.9534 - val_loss: 0.1063 - val_accuracy: 0.9536 - lr: 0.0034\n",
            "Epoch 51/148\n",
            "104/104 [==============================] - 2s 21ms/step - loss: 0.1052 - accuracy: 0.9535 - val_loss: 0.1072 - val_accuracy: 0.9526 - lr: 0.0034\n",
            "Epoch 52/148\n",
            "104/104 [==============================] - 2s 19ms/step - loss: 0.1051 - accuracy: 0.9535 - val_loss: 0.1102 - val_accuracy: 0.9505 - lr: 0.0034\n",
            "Epoch 53/148\n",
            "104/104 [==============================] - 2s 19ms/step - loss: 0.1052 - accuracy: 0.9536 - val_loss: 0.1102 - val_accuracy: 0.9522 - lr: 0.0034\n",
            "Epoch 54/148\n",
            "104/104 [==============================] - 2s 19ms/step - loss: 0.1050 - accuracy: 0.9535 - val_loss: 0.1085 - val_accuracy: 0.9539 - lr: 0.0034\n",
            "Epoch 55/148\n",
            "104/104 [==============================] - 2s 19ms/step - loss: 0.1049 - accuracy: 0.9538 - val_loss: 0.1069 - val_accuracy: 0.9539 - lr: 0.0034\n",
            "Epoch 56/148\n",
            "104/104 [==============================] - 2s 19ms/step - loss: 0.1049 - accuracy: 0.9536 - val_loss: 0.1079 - val_accuracy: 0.9525 - lr: 0.0034\n",
            "Epoch 57/148\n",
            "104/104 [==============================] - 2s 19ms/step - loss: 0.1050 - accuracy: 0.9533 - val_loss: 0.1066 - val_accuracy: 0.9540 - lr: 0.0034\n",
            "Epoch 58/148\n",
            "104/104 [==============================] - 2s 18ms/step - loss: 0.1051 - accuracy: 0.9534 - val_loss: 0.1067 - val_accuracy: 0.9539 - lr: 0.0034\n",
            "Epoch 59/148\n",
            "104/104 [==============================] - 2s 19ms/step - loss: 0.1044 - accuracy: 0.9538 - val_loss: 0.1069 - val_accuracy: 0.9539 - lr: 0.0034\n",
            "Epoch 60/148\n",
            "104/104 [==============================] - 2s 21ms/step - loss: 0.1045 - accuracy: 0.9538 - val_loss: 0.1076 - val_accuracy: 0.9538 - lr: 0.0034\n",
            "Epoch 61/148\n",
            "104/104 [==============================] - 2s 19ms/step - loss: 0.1043 - accuracy: 0.9539 - val_loss: 0.1076 - val_accuracy: 0.9524 - lr: 0.0034\n",
            "Epoch 62/148\n",
            "104/104 [==============================] - 2s 19ms/step - loss: 0.1052 - accuracy: 0.9530 - val_loss: 0.1110 - val_accuracy: 0.9525 - lr: 0.0034\n",
            "Epoch 63/148\n",
            "104/104 [==============================] - 2s 18ms/step - loss: 0.1051 - accuracy: 0.9534 - val_loss: 0.1089 - val_accuracy: 0.9503 - lr: 0.0034\n",
            "Epoch 64/148\n",
            "104/104 [==============================] - 2s 18ms/step - loss: 0.1045 - accuracy: 0.9537 - val_loss: 0.1070 - val_accuracy: 0.9504 - lr: 0.0034\n",
            "Epoch 65/148\n",
            "104/104 [==============================] - 2s 19ms/step - loss: 0.1026 - accuracy: 0.9546 - val_loss: 0.1048 - val_accuracy: 0.9544 - lr: 0.0024\n",
            "Epoch 66/148\n",
            "104/104 [==============================] - 2s 18ms/step - loss: 0.1027 - accuracy: 0.9543 - val_loss: 0.1056 - val_accuracy: 0.9544 - lr: 0.0024\n",
            "Epoch 67/148\n",
            "104/104 [==============================] - 2s 18ms/step - loss: 0.1025 - accuracy: 0.9546 - val_loss: 0.1050 - val_accuracy: 0.9544 - lr: 0.0024\n",
            "Epoch 68/148\n",
            "104/104 [==============================] - 2s 18ms/step - loss: 0.1025 - accuracy: 0.9546 - val_loss: 0.1051 - val_accuracy: 0.9533 - lr: 0.0024\n",
            "Epoch 69/148\n",
            "104/104 [==============================] - 2s 18ms/step - loss: 0.1029 - accuracy: 0.9544 - val_loss: 0.1053 - val_accuracy: 0.9539 - lr: 0.0024\n",
            "Epoch 70/148\n",
            "104/104 [==============================] - 2s 19ms/step - loss: 0.1025 - accuracy: 0.9546 - val_loss: 0.1064 - val_accuracy: 0.9541 - lr: 0.0024\n",
            "Epoch 71/148\n",
            "104/104 [==============================] - 2s 19ms/step - loss: 0.1024 - accuracy: 0.9547 - val_loss: 0.1048 - val_accuracy: 0.9547 - lr: 0.0024\n",
            "Epoch 72/148\n",
            "104/104 [==============================] - 2s 19ms/step - loss: 0.1026 - accuracy: 0.9545 - val_loss: 0.1061 - val_accuracy: 0.9514 - lr: 0.0024\n",
            "Epoch 73/148\n",
            "104/104 [==============================] - 2s 18ms/step - loss: 0.1027 - accuracy: 0.9545 - val_loss: 0.1055 - val_accuracy: 0.9544 - lr: 0.0024\n",
            "Epoch 74/148\n",
            "104/104 [==============================] - 2s 18ms/step - loss: 0.1026 - accuracy: 0.9543 - val_loss: 0.1053 - val_accuracy: 0.9536 - lr: 0.0024\n",
            "Epoch 75/148\n",
            "104/104 [==============================] - 2s 18ms/step - loss: 0.1024 - accuracy: 0.9545 - val_loss: 0.1053 - val_accuracy: 0.9532 - lr: 0.0024\n",
            "Epoch 76/148\n",
            "104/104 [==============================] - 2s 18ms/step - loss: 0.1023 - accuracy: 0.9545 - val_loss: 0.1050 - val_accuracy: 0.9545 - lr: 0.0024\n",
            "Epoch 77/148\n",
            "104/104 [==============================] - 2s 18ms/step - loss: 0.1025 - accuracy: 0.9547 - val_loss: 0.1069 - val_accuracy: 0.9510 - lr: 0.0024\n",
            "Epoch 78/148\n",
            "104/104 [==============================] - 2s 19ms/step - loss: 0.1023 - accuracy: 0.9545 - val_loss: 0.1058 - val_accuracy: 0.9543 - lr: 0.0024\n",
            "Epoch 79/148\n",
            "104/104 [==============================] - 2s 19ms/step - loss: 0.1022 - accuracy: 0.9547 - val_loss: 0.1058 - val_accuracy: 0.9536 - lr: 0.0024\n",
            "Epoch 80/148\n",
            "104/104 [==============================] - 2s 18ms/step - loss: 0.1013 - accuracy: 0.9549 - val_loss: 0.1037 - val_accuracy: 0.9549 - lr: 0.0017\n",
            "Epoch 81/148\n",
            "104/104 [==============================] - 2s 18ms/step - loss: 0.1009 - accuracy: 0.9552 - val_loss: 0.1042 - val_accuracy: 0.9540 - lr: 0.0017\n",
            "Epoch 82/148\n",
            "104/104 [==============================] - 2s 18ms/step - loss: 0.1010 - accuracy: 0.9552 - val_loss: 0.1043 - val_accuracy: 0.9547 - lr: 0.0017\n",
            "Epoch 83/148\n",
            "104/104 [==============================] - 2s 18ms/step - loss: 0.1009 - accuracy: 0.9552 - val_loss: 0.1036 - val_accuracy: 0.9550 - lr: 0.0017\n",
            "Epoch 84/148\n",
            "104/104 [==============================] - 2s 18ms/step - loss: 0.1011 - accuracy: 0.9550 - val_loss: 0.1046 - val_accuracy: 0.9545 - lr: 0.0017\n",
            "Epoch 85/148\n",
            "104/104 [==============================] - 2s 18ms/step - loss: 0.1012 - accuracy: 0.9549 - val_loss: 0.1044 - val_accuracy: 0.9540 - lr: 0.0017\n",
            "Epoch 86/148\n",
            "104/104 [==============================] - 2s 18ms/step - loss: 0.1007 - accuracy: 0.9550 - val_loss: 0.1039 - val_accuracy: 0.9545 - lr: 0.0017\n",
            "Epoch 87/148\n",
            "104/104 [==============================] - 2s 18ms/step - loss: 0.1009 - accuracy: 0.9552 - val_loss: 0.1038 - val_accuracy: 0.9544 - lr: 0.0017\n",
            "Epoch 88/148\n",
            "104/104 [==============================] - 2s 18ms/step - loss: 0.1008 - accuracy: 0.9551 - val_loss: 0.1039 - val_accuracy: 0.9544 - lr: 0.0017\n",
            "Epoch 89/148\n",
            "104/104 [==============================] - 2s 18ms/step - loss: 0.1006 - accuracy: 0.9551 - val_loss: 0.1032 - val_accuracy: 0.9549 - lr: 0.0017\n",
            "Epoch 90/148\n",
            "104/104 [==============================] - 2s 18ms/step - loss: 0.1007 - accuracy: 0.9550 - val_loss: 0.1039 - val_accuracy: 0.9546 - lr: 0.0017\n",
            "Epoch 91/148\n",
            "104/104 [==============================] - 2s 18ms/step - loss: 0.1005 - accuracy: 0.9553 - val_loss: 0.1041 - val_accuracy: 0.9545 - lr: 0.0017\n",
            "Epoch 92/148\n",
            "104/104 [==============================] - 2s 18ms/step - loss: 0.1009 - accuracy: 0.9550 - val_loss: 0.1051 - val_accuracy: 0.9535 - lr: 0.0017\n",
            "Epoch 93/148\n",
            "104/104 [==============================] - 2s 19ms/step - loss: 0.1009 - accuracy: 0.9549 - val_loss: 0.1042 - val_accuracy: 0.9547 - lr: 0.0017\n",
            "Epoch 94/148\n",
            "104/104 [==============================] - 2s 18ms/step - loss: 0.1007 - accuracy: 0.9552 - val_loss: 0.1035 - val_accuracy: 0.9548 - lr: 0.0017\n",
            "Epoch 95/148\n",
            "104/104 [==============================] - 2s 18ms/step - loss: 0.0998 - accuracy: 0.9556 - val_loss: 0.1027 - val_accuracy: 0.9552 - lr: 0.0012\n",
            "Epoch 96/148\n",
            "104/104 [==============================] - 2s 18ms/step - loss: 0.0996 - accuracy: 0.9557 - val_loss: 0.1025 - val_accuracy: 0.9550 - lr: 0.0012\n",
            "Epoch 97/148\n",
            "104/104 [==============================] - 2s 18ms/step - loss: 0.0999 - accuracy: 0.9555 - val_loss: 0.1029 - val_accuracy: 0.9554 - lr: 0.0012\n",
            "Epoch 98/148\n",
            "104/104 [==============================] - 2s 18ms/step - loss: 0.0998 - accuracy: 0.9555 - val_loss: 0.1032 - val_accuracy: 0.9549 - lr: 0.0012\n",
            "Epoch 99/148\n",
            "104/104 [==============================] - 2s 19ms/step - loss: 0.0997 - accuracy: 0.9555 - val_loss: 0.1031 - val_accuracy: 0.9541 - lr: 0.0012\n",
            "Epoch 100/148\n",
            "104/104 [==============================] - 2s 18ms/step - loss: 0.0999 - accuracy: 0.9554 - val_loss: 0.1030 - val_accuracy: 0.9550 - lr: 0.0012\n",
            "Epoch 101/148\n",
            "104/104 [==============================] - 2s 19ms/step - loss: 0.0996 - accuracy: 0.9556 - val_loss: 0.1021 - val_accuracy: 0.9552 - lr: 0.0012\n",
            "Epoch 102/148\n",
            "104/104 [==============================] - 2s 19ms/step - loss: 0.0996 - accuracy: 0.9556 - val_loss: 0.1026 - val_accuracy: 0.9553 - lr: 0.0012\n",
            "Epoch 103/148\n",
            "104/104 [==============================] - 2s 19ms/step - loss: 0.0996 - accuracy: 0.9555 - val_loss: 0.1028 - val_accuracy: 0.9550 - lr: 0.0012\n",
            "Epoch 104/148\n",
            "104/104 [==============================] - 2s 18ms/step - loss: 0.0998 - accuracy: 0.9555 - val_loss: 0.1024 - val_accuracy: 0.9549 - lr: 0.0012\n",
            "Epoch 105/148\n",
            "104/104 [==============================] - 2s 18ms/step - loss: 0.0994 - accuracy: 0.9557 - val_loss: 0.1021 - val_accuracy: 0.9552 - lr: 0.0012\n",
            "Epoch 106/148\n",
            "104/104 [==============================] - 2s 18ms/step - loss: 0.0994 - accuracy: 0.9558 - val_loss: 0.1022 - val_accuracy: 0.9553 - lr: 0.0012\n",
            "Epoch 107/148\n",
            "104/104 [==============================] - 2s 18ms/step - loss: 0.0997 - accuracy: 0.9556 - val_loss: 0.1026 - val_accuracy: 0.9551 - lr: 0.0012\n",
            "Epoch 108/148\n",
            "104/104 [==============================] - 2s 18ms/step - loss: 0.0996 - accuracy: 0.9554 - val_loss: 0.1031 - val_accuracy: 0.9548 - lr: 0.0012\n",
            "Epoch 109/148\n",
            "104/104 [==============================] - 2s 18ms/step - loss: 0.0997 - accuracy: 0.9554 - val_loss: 0.1021 - val_accuracy: 0.9551 - lr: 0.0012\n",
            "Epoch 110/148\n",
            "104/104 [==============================] - 2s 18ms/step - loss: 0.0988 - accuracy: 0.9560 - val_loss: 0.1020 - val_accuracy: 0.9556 - lr: 8.2354e-04\n",
            "Epoch 111/148\n",
            "104/104 [==============================] - 2s 19ms/step - loss: 0.0988 - accuracy: 0.9559 - val_loss: 0.1015 - val_accuracy: 0.9553 - lr: 8.2354e-04\n",
            "Epoch 112/148\n",
            "104/104 [==============================] - 2s 18ms/step - loss: 0.0988 - accuracy: 0.9559 - val_loss: 0.1017 - val_accuracy: 0.9554 - lr: 8.2354e-04\n",
            "Epoch 113/148\n",
            "104/104 [==============================] - 2s 18ms/step - loss: 0.0987 - accuracy: 0.9559 - val_loss: 0.1019 - val_accuracy: 0.9553 - lr: 8.2354e-04\n",
            "Epoch 114/148\n",
            "104/104 [==============================] - 2s 19ms/step - loss: 0.0988 - accuracy: 0.9559 - val_loss: 0.1031 - val_accuracy: 0.9551 - lr: 8.2354e-04\n",
            "Epoch 115/148\n",
            "104/104 [==============================] - 2s 19ms/step - loss: 0.0988 - accuracy: 0.9558 - val_loss: 0.1017 - val_accuracy: 0.9556 - lr: 8.2354e-04\n",
            "Epoch 116/148\n",
            "104/104 [==============================] - 2s 19ms/step - loss: 0.0988 - accuracy: 0.9558 - val_loss: 0.1015 - val_accuracy: 0.9554 - lr: 8.2354e-04\n",
            "Epoch 117/148\n",
            "104/104 [==============================] - 2s 19ms/step - loss: 0.0987 - accuracy: 0.9559 - val_loss: 0.1020 - val_accuracy: 0.9554 - lr: 8.2354e-04\n",
            "Epoch 118/148\n",
            "104/104 [==============================] - 2s 18ms/step - loss: 0.0987 - accuracy: 0.9558 - val_loss: 0.1020 - val_accuracy: 0.9553 - lr: 8.2354e-04\n",
            "Epoch 119/148\n",
            "104/104 [==============================] - 2s 19ms/step - loss: 0.0987 - accuracy: 0.9559 - val_loss: 0.1021 - val_accuracy: 0.9555 - lr: 8.2354e-04\n",
            "Epoch 120/148\n",
            "104/104 [==============================] - 2s 19ms/step - loss: 0.0986 - accuracy: 0.9558 - val_loss: 0.1016 - val_accuracy: 0.9553 - lr: 8.2354e-04\n",
            "Epoch 121/148\n",
            "104/104 [==============================] - 2s 21ms/step - loss: 0.0987 - accuracy: 0.9558 - val_loss: 0.1022 - val_accuracy: 0.9554 - lr: 8.2354e-04\n",
            "Epoch 122/148\n",
            "104/104 [==============================] - 2s 19ms/step - loss: 0.0987 - accuracy: 0.9558 - val_loss: 0.1019 - val_accuracy: 0.9553 - lr: 8.2354e-04\n",
            "Epoch 123/148\n",
            "104/104 [==============================] - 2s 18ms/step - loss: 0.0987 - accuracy: 0.9559 - val_loss: 0.1016 - val_accuracy: 0.9553 - lr: 8.2354e-04\n",
            "Epoch 124/148\n",
            "104/104 [==============================] - 2s 19ms/step - loss: 0.0987 - accuracy: 0.9558 - val_loss: 0.1021 - val_accuracy: 0.9552 - lr: 8.2354e-04\n",
            "Epoch 125/148\n",
            "104/104 [==============================] - 2s 19ms/step - loss: 0.0983 - accuracy: 0.9560 - val_loss: 0.1015 - val_accuracy: 0.9554 - lr: 5.7648e-04\n",
            "Epoch 126/148\n",
            "104/104 [==============================] - 2s 19ms/step - loss: 0.0984 - accuracy: 0.9560 - val_loss: 0.1013 - val_accuracy: 0.9555 - lr: 5.7648e-04\n",
            "Epoch 127/148\n",
            "104/104 [==============================] - 2s 18ms/step - loss: 0.0981 - accuracy: 0.9561 - val_loss: 0.1015 - val_accuracy: 0.9557 - lr: 5.7648e-04\n",
            "Epoch 128/148\n",
            "104/104 [==============================] - 2s 19ms/step - loss: 0.0980 - accuracy: 0.9561 - val_loss: 0.1015 - val_accuracy: 0.9554 - lr: 5.7648e-04\n",
            "Epoch 129/148\n",
            "104/104 [==============================] - 2s 19ms/step - loss: 0.0981 - accuracy: 0.9561 - val_loss: 0.1013 - val_accuracy: 0.9554 - lr: 5.7648e-04\n",
            "Epoch 130/148\n",
            "104/104 [==============================] - 2s 19ms/step - loss: 0.0981 - accuracy: 0.9562 - val_loss: 0.1014 - val_accuracy: 0.9554 - lr: 5.7648e-04\n",
            "Epoch 131/148\n",
            "104/104 [==============================] - 2s 18ms/step - loss: 0.0979 - accuracy: 0.9563 - val_loss: 0.1012 - val_accuracy: 0.9554 - lr: 5.7648e-04\n",
            "Epoch 132/148\n",
            "104/104 [==============================] - 2s 20ms/step - loss: 0.0980 - accuracy: 0.9561 - val_loss: 0.1013 - val_accuracy: 0.9555 - lr: 5.7648e-04\n",
            "Epoch 133/148\n",
            "104/104 [==============================] - 2s 20ms/step - loss: 0.0980 - accuracy: 0.9561 - val_loss: 0.1013 - val_accuracy: 0.9554 - lr: 5.7648e-04\n",
            "Epoch 134/148\n",
            "104/104 [==============================] - 2s 20ms/step - loss: 0.0980 - accuracy: 0.9561 - val_loss: 0.1011 - val_accuracy: 0.9560 - lr: 5.7648e-04\n",
            "Epoch 135/148\n",
            "104/104 [==============================] - 2s 22ms/step - loss: 0.0981 - accuracy: 0.9560 - val_loss: 0.1015 - val_accuracy: 0.9556 - lr: 5.7648e-04\n",
            "Epoch 136/148\n",
            "104/104 [==============================] - 2s 18ms/step - loss: 0.0980 - accuracy: 0.9562 - val_loss: 0.1010 - val_accuracy: 0.9556 - lr: 5.7648e-04\n",
            "Epoch 137/148\n",
            "104/104 [==============================] - 2s 19ms/step - loss: 0.0980 - accuracy: 0.9560 - val_loss: 0.1015 - val_accuracy: 0.9551 - lr: 5.7648e-04\n",
            "Epoch 138/148\n",
            "104/104 [==============================] - 2s 19ms/step - loss: 0.0982 - accuracy: 0.9562 - val_loss: 0.1015 - val_accuracy: 0.9555 - lr: 5.7648e-04\n",
            "Epoch 139/148\n",
            "104/104 [==============================] - 2s 19ms/step - loss: 0.0980 - accuracy: 0.9562 - val_loss: 0.1012 - val_accuracy: 0.9554 - lr: 5.7648e-04\n",
            "Epoch 140/148\n",
            "104/104 [==============================] - 2s 19ms/step - loss: 0.0977 - accuracy: 0.9562 - val_loss: 0.1008 - val_accuracy: 0.9556 - lr: 4.0354e-04\n",
            "Epoch 141/148\n",
            "104/104 [==============================] - 2s 19ms/step - loss: 0.0976 - accuracy: 0.9563 - val_loss: 0.1009 - val_accuracy: 0.9558 - lr: 4.0354e-04\n",
            "Epoch 142/148\n",
            "104/104 [==============================] - 2s 18ms/step - loss: 0.0976 - accuracy: 0.9563 - val_loss: 0.1008 - val_accuracy: 0.9557 - lr: 4.0354e-04\n",
            "Epoch 143/148\n",
            "104/104 [==============================] - 2s 18ms/step - loss: 0.0976 - accuracy: 0.9563 - val_loss: 0.1009 - val_accuracy: 0.9557 - lr: 4.0354e-04\n",
            "Epoch 144/148\n",
            "104/104 [==============================] - 2s 19ms/step - loss: 0.0976 - accuracy: 0.9563 - val_loss: 0.1008 - val_accuracy: 0.9555 - lr: 4.0354e-04\n",
            "Epoch 145/148\n",
            "104/104 [==============================] - 2s 19ms/step - loss: 0.0977 - accuracy: 0.9563 - val_loss: 0.1010 - val_accuracy: 0.9560 - lr: 4.0354e-04\n",
            "Epoch 146/148\n",
            "104/104 [==============================] - 2s 19ms/step - loss: 0.0976 - accuracy: 0.9564 - val_loss: 0.1011 - val_accuracy: 0.9556 - lr: 4.0354e-04\n",
            "Epoch 147/148\n",
            "104/104 [==============================] - 2s 19ms/step - loss: 0.0976 - accuracy: 0.9563 - val_loss: 0.1011 - val_accuracy: 0.9551 - lr: 4.0354e-04\n",
            "Epoch 148/148\n",
            "104/104 [==============================] - 2s 19ms/step - loss: 0.0977 - accuracy: 0.9564 - val_loss: 0.1011 - val_accuracy: 0.9555 - lr: 4.0354e-04\n"
          ]
        }
      ]
    },
    {
      "cell_type": "code",
      "source": [
        " dnn.save(\"DNN_classification_no_oversampling.h5\") #accuracy0.9564"
      ],
      "metadata": {
        "id": "X-r61DdqxyXg"
      },
      "execution_count": null,
      "outputs": []
    }
  ],
  "metadata": {
    "colab": {
      "machine_shape": "hm",
      "provenance": []
    },
    "kernelspec": {
      "display_name": "Python 3",
      "name": "python3"
    },
    "language_info": {
      "name": "python"
    }
  },
  "nbformat": 4,
  "nbformat_minor": 0
}